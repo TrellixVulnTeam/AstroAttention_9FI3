{
 "cells": [
  {
   "cell_type": "markdown",
   "metadata": {},
   "source": [
    "# Listing Evaluation Metrics for Each Trained Model\n",
    "\n",
    "The aim of this file is to evaluate each of the trained files and to create a dictionary where the name of the file/folder refers to its evaluated metrics."
   ]
  },
  {
   "cell_type": "code",
   "execution_count": 1,
   "metadata": {},
   "outputs": [],
   "source": [
    "#Basics\n",
    "import numpy as np\n",
    "import matplotlib.pyplot as plt\n",
    "import os\n",
    "import pandas as pd\n",
    "\n",
    "#Evaluation\n",
    "from sklearn.metrics import roc_curve, roc_auc_score, confusion_matrix, recall_score, f1_score, precision_score\n",
    "\n",
    "#PyTorch\n",
    "import torch\n",
    "import torch.nn as nn\n",
    "import torch.nn.functional as F\n",
    "import torch.optim as optim\n",
    "from torch.utils.data import SubsetRandomSampler\n",
    "\n",
    "#Torchvision\n",
    "import torchvision\n",
    "from torchvision import transforms, datasets\n",
    "\n",
    "#Data\n",
    "from FRDEEP import FRDEEPF\n",
    "from MiraBest import MiraBest_full\n",
    "\n",
    "#My Functions / Models\n",
    "from models_new import *\n",
    "from utils import *\n",
    "\n",
    "#Other\n",
    "import pickle\n",
    "from tqdm import tqdm\n",
    "import PIL\n",
    "from torchsummary import summary\n",
    "from models.networks_other import init_weights"
   ]
  },
  {
   "cell_type": "code",
   "execution_count": 2,
   "metadata": {},
   "outputs": [],
   "source": [
    "# Define transformations required for analysis (ie. func evaluate(f))\n",
    "out_transform = transforms.Compose([transforms.ToTensor(),\n",
    "                                     transforms.Normalize([0.5],[0.5])\n",
    "                                    ])\n",
    "test_transform = transforms.Compose([transforms.RandomRotation([0,360],resample=PIL.Image.BILINEAR),\n",
    "                                      transforms.ToTensor(),\n",
    "                                      transforms.Normalize([0.5],[0.5])\n",
    "                                     ])"
   ]
  },
  {
   "cell_type": "code",
   "execution_count": 3,
   "metadata": {},
   "outputs": [
    {
     "name": "stdout",
     "output_type": "stream",
     "text": [
      "Folders: 181\n",
      "Files: 43\n"
     ]
    }
   ],
   "source": [
    "# We extract two lists containing all folders and files respectively in TrainedNetworks\n",
    "dirs = os.listdir('TrainedNetworks/')\n",
    "folders = []\n",
    "files = []\n",
    "for k in dirs:\n",
    "    if k[-3:]=='.pt':\n",
    "        files.append(k)\n",
    "    elif k[-3:]!='.pt' and k[0]!='.':\n",
    "        folders.append(k)\n",
    "    else:\n",
    "        pass\n",
    "print(f'Folders: {len(folders)}\\nFiles: {len(files)}')"
   ]
  },
  {
   "cell_type": "code",
   "execution_count": 4,
   "metadata": {
    "scrolled": true
   },
   "outputs": [],
   "source": [
    "# Evaluate all of the missing models:\n",
    "def eval_models(model_paths,dataset='automatic', dates = False):\n",
    "    exceptions = ['temp.pt', '0605A-MiraBestNOHYBRIDSGD-playgroundv3-0.001', '']\n",
    "    \n",
    "    # Either load existing dictionary or initiate an empty dictionary:\n",
    "    if os.path.isfile(f'evaluated_models_{dataset}.pickle'):\n",
    "        pickle_in = open(f'evaluated_models_{dataset}.pickle','rb')\n",
    "        evaluated_models = pickle.load(pickle_in)\n",
    "        \n",
    "        pickle_in.close()\n",
    "        print(f'{dataset} Successfully loaded in dict of evaluated models.')\n",
    "    else:\n",
    "        evaluated_models = {}\n",
    "        print(f'{dataset} Initialised dict for model evaluation.')\n",
    "\n",
    "    for idx, i in enumerate(model_paths):\n",
    "        print(f'{idx}\\t{i}')\n",
    "        if dates:\n",
    "            if (evaluated_models.get(i,False) == False) & (i not in exceptions) & (i[:4] in dates): ### Clean this so that it works on all again (or at least most with <5 exceptions).\n",
    "                print(f'\\tEvaluating ...')\n",
    "                evaluated_models[i]=evaluate(i, dataset=dataset)\n",
    "        else:\n",
    "            if (evaluated_models.get(i,False) == False) & (i not in exceptions):\n",
    "                print(f'\\tEvaluating ...')\n",
    "                evaluated_models[i]=evaluate(i, dataset=dataset)\n",
    "    \n",
    "    pickle_out = open(f'evaluated_models_{dataset}.pickle','wb')\n",
    "    pickle.dump(evaluated_models,pickle_out)\n",
    "    pickle_out.close()\n",
    "    return evaluated_models"
   ]
  },
  {
   "cell_type": "code",
   "execution_count": 6,
   "metadata": {
    "scrolled": true
   },
   "outputs": [
    {
     "name": "stdout",
     "output_type": "stream",
     "text": [
      "--> EVALUATING ON: FRDEEP-F\n",
      "FRDEEP-F Successfully loaded in dict of evaluated models.\n",
      "0\tplaygroundv1-0214-0.01_360Epochs.pt\n",
      "1\t0616temp-MiraBestNOHYBRIDAdam-AGSononet-0.001.pt\n",
      "2\tplaygroundv1-0217-1e-07_124Epochs.pt\n",
      "3\tplayground-0213-0.1_180Epochs.pt\n",
      "4\tplayground-0211-0.1_360Epochs.pt\n",
      "5\tplayground-0212-0.1_360Epochs.pt\n",
      "6\tplayground-0207-0.1_360Epochs.pt\n",
      "7\tplaygroundv1-0215-0.0001_124Epochs.pt\n",
      "8\t0702B-std_mean_norm-MiraBestNOHYBRIDAdam-AGRadGalNetdeep_sup-0.0001.pt\n",
      "9\tplayground-0128-0.1_500Epochs.pt\n",
      "10\tplaygroundv1-0217-0.001_124Epochs.pt\n",
      "11\tplayground-0213-0.1_64Epochs.pt\n",
      "12\tplayground-0129-0.1_500Epochs.pt\n",
      "13\tplaygroundv1-0214-0.1_360Epochs.pt\n",
      "14\tplaygroundv1-0214-0.001_361Epochs.pt\n",
      "15\tplayground-0129-0.1_360Epochs.pt\n",
      "16\tplayground-TESTING-0.001_124Epochs.pt\n",
      "17\tplaygroundv1-0215-0.001_360Epochs.pt\n",
      "18\tAGSononet-0219-0.001_360Epochs.pt\n",
      "19\tplaygroundv1-0213-0.1_5Epochs.pt\n",
      "20\tplaygroundv1-0217Adam-0.0001_124Epochs.pt\n",
      "21\tplaygroundv1-0217Adam-1e-05_360Epochs.pt\n",
      "22\tplaygroundv1-0215-0.0001_360Epochs.pt\n",
      "23\tplaygroundv1-0214-0.001_360Epochs.pt\n",
      "24\tplaygroundv1-0213-0.1_360Epochs.pt\n",
      "25\tplaygroundv1-0217Adam-1e-05_124Epochs.pt\n",
      "26\tplaygroundv1-0217Adam-1e-06_124Epochs.pt\n",
      "27\ttemp.pt\n",
      "28\tplaygroundv1-0215-1e-06_124Epochs.pt\n",
      "29\tplayground-TESTING-0.001_1Epochs.pt\n",
      "30\tplaygroundv1-0218-0.001_248Epochs.pt\n",
      "31\tplayground-0213-0.1_128Epochs.pt\n",
      "32\tplaygroundv1-0215-1e-05_124Epochs.pt\n",
      "33\tplayground-0211-0.1_50Epochs.pt\n",
      "34\tplaygroundv1-0214-1_360Epochs.pt\n",
      "35\tplayground-0129-0.1_50Epochs.pt\n",
      "36\tplayground-TESTING-0.001_16Epochs.pt\n",
      "37\tplayground-0211-0.1_180Epochs.pt\n",
      "38\tplaygroundv1-0214-0.0001_360Epochs.pt\n",
      "39\tAGSononet-0207-0.1_360Epochs.pt\n",
      "40\tplaygroundv1-0215-1e-05_360Epochs.pt\n",
      "41\tplayground-TESTING-0.001_8Epochs.pt\n",
      "42\tplaygroundv1-0218-0.001_360Epochs.pt\n",
      "43\t0703Exp1-std_mean_norm-FRDEEPAdam-AGRadGalNetft-0.0001\n",
      "44\t0703Exp1-std_mean_norm-MiraBestNOHYBRIDAdam-AGRadGalNetft-0.0001\n",
      "45\t0429-MiraBestHYBRIDSGD-playgroundv2_ft-0.0001\n",
      "46\t0429-MiraBestNOUNCSGD-playgroundv2_ft-0.0001\n",
      "47\t0614_DROPOUT-MiraBestNOHYBRIDAdam-AGSononet-1e-08\n",
      "48\t0402-MiraBestNOUNC-playgroundv2_deep_sup-0.005\n",
      "49\t0703Exp1-std_mean_norm-MiraBestNOUNCAdam-AGRadGalNetft-0.0001\n",
      "50\t0702B-std_mean_norm-MiraBestNOHYBRIDAdam-AGRadGalNetdeep_sup-0.0001\n",
      "51\t0719Exp32-range_norm-MiraBestNOHYBRIDAdam-AGRadGalNetft-5e-05\n",
      "52\t0611-MiraBestNOHYBRIDSGD-playgroundv3_ft-1e-08\n",
      "53\t0709Exp2-softmax-MiraBestNOHYBRIDAdam-AGRadGalNetdeep_sup-5e-05\n",
      "\tEvaluating ...\n",
      "PATH: TrainedNetworks/0709Exp2-softmax-MiraBestNOHYBRIDAdam-AGRadGalNetdeep_sup-5e-05\n",
      "PATH: TrainedNetworks/0709Exp2-softmax-MiraBestNOHYBRIDAdam-AGRadGalNetdeep_sup-5e-05/57.pt\n"
     ]
    },
    {
     "name": "stderr",
     "output_type": "stream",
     "text": [
      "/usr/local/anaconda-python-3.6/lib/python3.6/site-packages/torch/nn/functional.py:2479: UserWarning: Default upsampling behavior when mode=bilinear is changed to align_corners=False since 0.4.0. Please specify align_corners=True if the old behavior is desired. See the documentation of nn.Upsample for details.\n",
      "  \"See the documentation of nn.Upsample for details.\".format(mode))\n"
     ]
    },
    {
     "name": "stdout",
     "output_type": "stream",
     "text": [
      "54\t0719Exp30-range_norm-MiraBestNOHYBRIDAdam-AGRadGalNetft-5e-05\n",
      "55\t0624Exp2-std_mean_norm-MiraBestNOHYBRIDAdam-AGRadGalNetft-0.0001\n",
      "56\t0611-MiraBestNOHYBRIDAdam-playgroundv3_ft-1e-06\n",
      "57\t0630B-std_mean_norm-MiraBestNOHYBRIDAdam-AGRadGalNetdeep_sup-0.0001\n",
      "58\t0305-MiraBest-playgroundv2_deep_sup\n",
      "59\t0429-FRDEEPAdagrad-playgroundv2_ft-0.001\n",
      "60\t0429-MiraBestNOUNCAdam-playgroundv2_ft-0.0001\n",
      "61\t0429-FRDEEPSGD-playgroundv2_ft-0.0001\n",
      "62\t0608-MiraBestNOHYBRIDAdadelta-playgroundv3_ft-0.01\n",
      "63\t0429-MiraBestNOUNCAdagrad-playgroundv2_ft-0.001\n",
      "64\t0611C-MiraBestNOHYBRIDSGD-playgroundv3_ft-0.0001\n",
      "65\t0708TEMP-range_norm-MiraBestNOHYBRIDAdam-AGRadGalNetdeep_sup-0.01\n",
      "66\t0402-MiraBestNOUNC-playgroundv2_deep_sup-0.001\n",
      "67\t0709Exp2-range_norm-MiraBestNOHYBRIDAdam-AGRadGalNetdeep_sup-5e-05\n",
      "\tEvaluating ...\n",
      "PATH: TrainedNetworks/0709Exp2-range_norm-MiraBestNOHYBRIDAdam-AGRadGalNetdeep_sup-5e-05\n",
      "PATH: TrainedNetworks/0709Exp2-range_norm-MiraBestNOHYBRIDAdam-AGRadGalNetdeep_sup-5e-05/81.pt\n"
     ]
    },
    {
     "name": "stderr",
     "output_type": "stream",
     "text": [
      "/usr/local/anaconda-python-3.6/lib/python3.6/site-packages/torch/nn/functional.py:2479: UserWarning: Default upsampling behavior when mode=bilinear is changed to align_corners=False since 0.4.0. Please specify align_corners=True if the old behavior is desired. See the documentation of nn.Upsample for details.\n",
      "  \"See the documentation of nn.Upsample for details.\".format(mode))\n"
     ]
    },
    {
     "name": "stdout",
     "output_type": "stream",
     "text": [
      "68\t0611-MiraBestNOHYBRIDAdam-playgroundv3_ft-0.0001\n",
      "69\t1427-FRDEEPNOUNCAdam-transfer_original-0.0001\n",
      "70\t0709Exp2-sigmoid-MiraBestNOHYBRIDAdam-AGRadGalNetmean-5e-05\n",
      "\tEvaluating ...\n",
      "PATH: TrainedNetworks/0709Exp2-sigmoid-MiraBestNOHYBRIDAdam-AGRadGalNetmean-5e-05\n",
      "PATH: TrainedNetworks/0709Exp2-sigmoid-MiraBestNOHYBRIDAdam-AGRadGalNetmean-5e-05/98.pt\n"
     ]
    },
    {
     "name": "stderr",
     "output_type": "stream",
     "text": [
      "/usr/local/anaconda-python-3.6/lib/python3.6/site-packages/torch/nn/functional.py:2479: UserWarning: Default upsampling behavior when mode=bilinear is changed to align_corners=False since 0.4.0. Please specify align_corners=True if the old behavior is desired. See the documentation of nn.Upsample for details.\n",
      "  \"See the documentation of nn.Upsample for details.\".format(mode))\n"
     ]
    },
    {
     "name": "stdout",
     "output_type": "stream",
     "text": [
      "71\t0611-MiraBestNOHYBRIDSGD-playgroundv3_ft-0.0001\n",
      "72\t0310-MiraBestSGD-playgroundv2_ft\n",
      "73\t0708TEMP-range_norm-MiraBestNOHYBRIDAdam-AGRadGalNetdeep_sup-1e-06\n",
      "74\t0614_DROPOUT-MiraBestNOHYBRIDAdam-AGSononet-1e-06\n",
      "75\t0408-MiraBestNOHYBRIDSGD-playgroundv2_ft-0.0001\n",
      "76\t0709Exp2-sigmoid-MiraBestNOHYBRIDAdam-AGRadGalNetdeep_sup-5e-05\n",
      "\tEvaluating ...\n",
      "PATH: TrainedNetworks/0709Exp2-sigmoid-MiraBestNOHYBRIDAdam-AGRadGalNetdeep_sup-5e-05\n",
      "PATH: TrainedNetworks/0709Exp2-sigmoid-MiraBestNOHYBRIDAdam-AGRadGalNetdeep_sup-5e-05/98.pt\n"
     ]
    },
    {
     "name": "stderr",
     "output_type": "stream",
     "text": [
      "/usr/local/anaconda-python-3.6/lib/python3.6/site-packages/torch/nn/functional.py:2479: UserWarning: Default upsampling behavior when mode=bilinear is changed to align_corners=False since 0.4.0. Please specify align_corners=True if the old behavior is desired. See the documentation of nn.Upsample for details.\n",
      "  \"See the documentation of nn.Upsample for details.\".format(mode))\n"
     ]
    },
    {
     "name": "stdout",
     "output_type": "stream",
     "text": [
      "77\t0624Exp2-sigmoid-MiraBestNOHYBRIDAdam-AGRadGalNetdeep_sup-0.0001\n",
      "78\t0707Exp1-range_norm-MiraBestNOHYBRIDAdam-AGRadGalNetft-0.0001\n",
      "79\t0624Exp2-range_norm-MiraBestNOHYBRIDAdam-AGRadGalNetmean-0.0001\n",
      "80\t0608-MiraBestNOHYBRIDAdadelta-playgroundv3_ft-1e-06\n",
      "81\t0622Exp1-sigmoid-MiraBestNOHYBRIDAdam-AGRadGalNetmean-0.0001\n",
      "82\t0228-playgroundv2_mean\n",
      "83\t0617-MiraBestNOHYBRIDAdam-playgroundv4-1e-08\n",
      "84\t0709Exp2-range_norm-MiraBestNOHYBRIDAdam-AGRadGalNetft-5e-05\n",
      "\tEvaluating ...\n",
      "PATH: TrainedNetworks/0709Exp2-range_norm-MiraBestNOHYBRIDAdam-AGRadGalNetft-5e-05\n",
      "PATH: TrainedNetworks/0709Exp2-range_norm-MiraBestNOHYBRIDAdam-AGRadGalNetft-5e-05/82.pt\n"
     ]
    },
    {
     "name": "stderr",
     "output_type": "stream",
     "text": [
      "/usr/local/anaconda-python-3.6/lib/python3.6/site-packages/torch/nn/functional.py:2479: UserWarning: Default upsampling behavior when mode=bilinear is changed to align_corners=False since 0.4.0. Please specify align_corners=True if the old behavior is desired. See the documentation of nn.Upsample for details.\n",
      "  \"See the documentation of nn.Upsample for details.\".format(mode))\n"
     ]
    },
    {
     "name": "stdout",
     "output_type": "stream",
     "text": [
      "85\t0429-MiraBestNOUNCAdam-playgroundv2_ft-1e-05\n",
      "86\t0624Exp2-range_norm-MiraBestNOHYBRIDAdam-AGRadGalNetconcat-0.0001\n",
      "87\t0709Exp2-std_mean_norm-MiraBestNOHYBRIDAdam-AGRadGalNetdeep_sup-5e-05\n",
      "\tEvaluating ...\n",
      "PATH: TrainedNetworks/0709Exp2-std_mean_norm-MiraBestNOHYBRIDAdam-AGRadGalNetdeep_sup-5e-05\n",
      "PATH: TrainedNetworks/0709Exp2-std_mean_norm-MiraBestNOHYBRIDAdam-AGRadGalNetdeep_sup-5e-05/68.pt\n"
     ]
    },
    {
     "name": "stderr",
     "output_type": "stream",
     "text": [
      "/usr/local/anaconda-python-3.6/lib/python3.6/site-packages/torch/nn/functional.py:2479: UserWarning: Default upsampling behavior when mode=bilinear is changed to align_corners=False since 0.4.0. Please specify align_corners=True if the old behavior is desired. See the documentation of nn.Upsample for details.\n",
      "  \"See the documentation of nn.Upsample for details.\".format(mode))\n"
     ]
    },
    {
     "name": "stdout",
     "output_type": "stream",
     "text": [
      "88\t0709Exp1-range_norm-MiraBestNOHYBRIDAdam-AGRadGalNetft-5e-05\n",
      "\tEvaluating ...\n",
      "PATH: TrainedNetworks/0709Exp1-range_norm-MiraBestNOHYBRIDAdam-AGRadGalNetft-5e-05\n",
      "PATH: TrainedNetworks/0709Exp1-range_norm-MiraBestNOHYBRIDAdam-AGRadGalNetft-5e-05/26.pt\n"
     ]
    },
    {
     "name": "stderr",
     "output_type": "stream",
     "text": [
      "/usr/local/anaconda-python-3.6/lib/python3.6/site-packages/torch/nn/functional.py:2479: UserWarning: Default upsampling behavior when mode=bilinear is changed to align_corners=False since 0.4.0. Please specify align_corners=True if the old behavior is desired. See the documentation of nn.Upsample for details.\n",
      "  \"See the documentation of nn.Upsample for details.\".format(mode))\n"
     ]
    },
    {
     "name": "stdout",
     "output_type": "stream",
     "text": [
      "89\t0707Exp1-range_norm-FRDEEPAdam-AGRadGalNetft-0.0001\n",
      "90\t0429-MiraBestHYBRIDAdadelta-playgroundv2_ft-0.0001\n",
      "91\t0624Exp2-range_norm-MiraBestNOHYBRIDAdam-AGRadGalNetft-0.0001\n",
      "92\t0311-MiraBestSGDVariedLR-playgroundv2_deep_sup\n",
      "93\t0622Exp1-softmax-MiraBestNOHYBRIDAdam-AGRadGalNetmean-0.0001\n",
      "94\t0611-MiraBestNOHYBRIDAdam-playgroundv3_ft-1e-08\n",
      "95\t0429-MiraBestNOHYBRIDAdagrad-playgroundv2_ft-0.001\n",
      "96\t0614-MiraBestNOHYBRIDAdam-AGSononet-1e-05\n",
      "97\t0624Exp2-std_mean_norm-MiraBestNOHYBRIDAdam-AGRadGalNetconcat-0.0001\n",
      "98\t0614_DROPOUT-MiraBestNOHYBRIDAdam-AGSononet-0.001\n",
      "99\t0708Exp33-std_mean_norm-MiraBestNOHYBRIDAdam-AGRadGalNetft-5e-05\n",
      "100\t0608-MiraBestNOHYBRIDAdadelta-playgroundv3_ft-0.001\n",
      "101\t0709Exp2-std_mean_norm-MiraBestNOHYBRIDAdam-AGRadGalNetmean-5e-05\n",
      "\tEvaluating ...\n",
      "PATH: TrainedNetworks/0709Exp2-std_mean_norm-MiraBestNOHYBRIDAdam-AGRadGalNetmean-5e-05\n",
      "PATH: TrainedNetworks/0709Exp2-std_mean_norm-MiraBestNOHYBRIDAdam-AGRadGalNetmean-5e-05/93.pt\n"
     ]
    },
    {
     "name": "stderr",
     "output_type": "stream",
     "text": [
      "/usr/local/anaconda-python-3.6/lib/python3.6/site-packages/torch/nn/functional.py:2479: UserWarning: Default upsampling behavior when mode=bilinear is changed to align_corners=False since 0.4.0. Please specify align_corners=True if the old behavior is desired. See the documentation of nn.Upsample for details.\n",
      "  \"See the documentation of nn.Upsample for details.\".format(mode))\n"
     ]
    },
    {
     "name": "stdout",
     "output_type": "stream",
     "text": [
      "102\t0429-MiraBestHYBRIDAdagrad-playgroundv2_ft-0.001\n",
      "103\t0709Exp2-softmax-MiraBestNOHYBRIDAdam-AGRadGalNetconcat-5e-05\n",
      "\tEvaluating ...\n",
      "PATH: TrainedNetworks/0709Exp2-softmax-MiraBestNOHYBRIDAdam-AGRadGalNetconcat-5e-05\n",
      "PATH: TrainedNetworks/0709Exp2-softmax-MiraBestNOHYBRIDAdam-AGRadGalNetconcat-5e-05/51.pt\n"
     ]
    },
    {
     "name": "stderr",
     "output_type": "stream",
     "text": [
      "/usr/local/anaconda-python-3.6/lib/python3.6/site-packages/torch/nn/functional.py:2479: UserWarning: Default upsampling behavior when mode=bilinear is changed to align_corners=False since 0.4.0. Please specify align_corners=True if the old behavior is desired. See the documentation of nn.Upsample for details.\n",
      "  \"See the documentation of nn.Upsample for details.\".format(mode))\n"
     ]
    },
    {
     "name": "stdout",
     "output_type": "stream",
     "text": [
      "104\t0420-MiraBestNOHYBRID-playgroundv2_mean-0.0001\n",
      "105\t0624Exp2-softmax-MiraBestNOHYBRIDAdam-AGRadGalNetmean-0.0001\n",
      "106\t0617-MiraBestNOHYBRIDAdam-playgroundv4-0.0001\n",
      "107\t0422-MiraBestNOHYBRIDAdagrad-playgroundv2_mean-0.001\n",
      "108\t0611-MiraBestNOHYBRIDSGD-playgroundv3_ft-1e-10\n",
      "109\t0429-MiraBestNOHYBRIDAdam-playgroundv2_ft-0.0001\n",
      "110\t0614-MiraBestNOHYBRIDAdam-AGSononet-1e-09\n",
      "111\t0331-MiraBestNOUNC-playgroundv2_deep_sup-0.0001\n",
      "112\t0614-MiraBestNOHYBRIDAdam-AGSononet-1e-10\n",
      "113\t0624Exp2-softmax-MiraBestNOHYBRIDAdam-AGRadGalNetconcat-0.0001\n",
      "114\t0703Exp32-std_mean_norm-MiraBestNOHYBRIDAdam-AGRadGalNetft-0.0001\n",
      "115\t0616B_DROPOUT-MiraBestNOHYBRIDAdam-AGSononet-0.001\n",
      "116\t0429-FRDEEPAdam-playgroundv2_ft-0.0001\n",
      "117\t0622Exp1-std_mean_norm-MiraBestNOHYBRIDAdam-AGRadGalNetmean-0.0001\n",
      "118\t0228-playgroundv2_concat\n",
      "119\t0624Exp2-range_norm-MiraBestNOHYBRIDAdam-AGRadGalNetdeep_sup-0.0001\n",
      "120\t0423-MiraBestNOHYBRIDSGD-playgroundv2_deep_sup-0.0001\n",
      "121\t0611-MiraBestNOHYBRIDSGD-playgroundv3_ft-1e-07\n",
      "122\t0611-MiraBestNOHYBRIDSGD-playgroundv3_ft-1e-09\n",
      "123\t0611-MiraBestNOHYBRIDSGD-playgroundv3_ft-1e-05\n",
      "124\t0429-FRDEEPAdadelta-playgroundv2_ft-0.0001\n",
      "125\t0708TEMP-range_norm-MiraBestNOHYBRIDAdam-AGRadGalNetdeep_sup-1e-05\n",
      "126\t0611-MiraBestNOHYBRIDAdam-playgroundv3_ft-1e-07\n",
      "127\t0305-MiraBest-playgroundv2_mean\n",
      "128\t0708TEMP-range_norm-MiraBestNOHYBRIDAdam-AGRadGalNetdeep_sup-0.0001\n",
      "129\t0709Exp2-sigmoid-MiraBestNOHYBRIDAdam-AGRadGalNetft-5e-05\n",
      "\tEvaluating ...\n",
      "PATH: TrainedNetworks/0709Exp2-sigmoid-MiraBestNOHYBRIDAdam-AGRadGalNetft-5e-05\n",
      "PATH: TrainedNetworks/0709Exp2-sigmoid-MiraBestNOHYBRIDAdam-AGRadGalNetft-5e-05/97.pt\n"
     ]
    },
    {
     "name": "stderr",
     "output_type": "stream",
     "text": [
      "/usr/local/anaconda-python-3.6/lib/python3.6/site-packages/torch/nn/functional.py:2479: UserWarning: Default upsampling behavior when mode=bilinear is changed to align_corners=False since 0.4.0. Please specify align_corners=True if the old behavior is desired. See the documentation of nn.Upsample for details.\n",
      "  \"See the documentation of nn.Upsample for details.\".format(mode))\n"
     ]
    },
    {
     "name": "stdout",
     "output_type": "stream",
     "text": [
      "130\tTESTExp1-std_mean_norm-MiraBestNOHYBRIDAdam-AGRadGalNetft-0.0001\n",
      "131\t0311-CIFAR10-pg2_ft_CIFAR10\n",
      "132\t0617-MiraBestNOHYBRIDAdam-playgroundv4-1e-05\n",
      "133\t0630A-std_mean_norm-MiraBestNOHYBRIDAdam-AGRadGalNetdeep_sup-0.0001\n",
      "134\t0423-MiraBestNOHYBRIDSGD-playgroundv2_mean-0.0001\n",
      "135\t0422-MiraBestNOHYBRIDAdagrad-playgroundv2_concat-0.001\n",
      "136\t0307-MiraBest-playgroundv2_ft\n",
      "137\t0331-MiraBestNOUNC-playgroundv2_deep_sup\n",
      "138\t0423-MiraBestNOHYBRIDSGD-playgroundv2_concat-0.0001\n",
      "139\t0708TEMP-range_norm-MiraBestNOHYBRIDAdam-AGRadGalNetdeep_sup-0.1\n",
      "140\t0709TEMP-range_norm-MiraBestNOHYBRIDAdam-AGRadGalNetdeep_sup-5e-05\n",
      "\tEvaluating ...\n",
      "PATH: TrainedNetworks/0709TEMP-range_norm-MiraBestNOHYBRIDAdam-AGRadGalNetdeep_sup-5e-05\n",
      "PATH: TrainedNetworks/0709TEMP-range_norm-MiraBestNOHYBRIDAdam-AGRadGalNetdeep_sup-5e-05/92.pt\n"
     ]
    },
    {
     "name": "stderr",
     "output_type": "stream",
     "text": [
      "/usr/local/anaconda-python-3.6/lib/python3.6/site-packages/torch/nn/functional.py:2479: UserWarning: Default upsampling behavior when mode=bilinear is changed to align_corners=False since 0.4.0. Please specify align_corners=True if the old behavior is desired. See the documentation of nn.Upsample for details.\n",
      "  \"See the documentation of nn.Upsample for details.\".format(mode))\n"
     ]
    },
    {
     "name": "stdout",
     "output_type": "stream",
     "text": [
      "141\t0422-MiraBestNOHYBRIDAdagrad-playgroundv2_ft-0.001\n",
      "142\t0421-MiraBestNOHYBRID-playgroundv2_deep_sup-0.0001\n",
      "143\t0330-MiraBest-playgroundv2_deep_sup\n",
      "144\t0429-MiraBestNOUNCAdagrad-playgroundv2_ft-0.0001\n",
      "145\t0709Exp2-sigmoid-MiraBestNOHYBRIDAdam-AGRadGalNetconcat-5e-05\n",
      "\tEvaluating ...\n",
      "PATH: TrainedNetworks/0709Exp2-sigmoid-MiraBestNOHYBRIDAdam-AGRadGalNetconcat-5e-05\n",
      "PATH: TrainedNetworks/0709Exp2-sigmoid-MiraBestNOHYBRIDAdam-AGRadGalNetconcat-5e-05/98.pt\n"
     ]
    },
    {
     "name": "stderr",
     "output_type": "stream",
     "text": [
      "/usr/local/anaconda-python-3.6/lib/python3.6/site-packages/torch/nn/functional.py:2479: UserWarning: Default upsampling behavior when mode=bilinear is changed to align_corners=False since 0.4.0. Please specify align_corners=True if the old behavior is desired. See the documentation of nn.Upsample for details.\n",
      "  \"See the documentation of nn.Upsample for details.\".format(mode))\n"
     ]
    },
    {
     "name": "stdout",
     "output_type": "stream",
     "text": [
      "146\t0608-MiraBestNOHYBRIDAdadelta-playgroundv3_ft-1e-05\n",
      "147\t0228-playgroundv2_deep_sup\n",
      "148\t0617-MiraBestNOHYBRIDAdam-playgroundv4-0.01\n",
      "149\t0709Exp1-range_norm-MiraBestNOUNCAdam-AGRadGalNetft-5e-05\n",
      "\tEvaluating ...\n",
      "PATH: TrainedNetworks/0709Exp1-range_norm-MiraBestNOUNCAdam-AGRadGalNetft-5e-05\n",
      "PATH: TrainedNetworks/0709Exp1-range_norm-MiraBestNOUNCAdam-AGRadGalNetft-5e-05/95.pt\n"
     ]
    },
    {
     "name": "stderr",
     "output_type": "stream",
     "text": [
      "/usr/local/anaconda-python-3.6/lib/python3.6/site-packages/torch/nn/functional.py:2479: UserWarning: Default upsampling behavior when mode=bilinear is changed to align_corners=False since 0.4.0. Please specify align_corners=True if the old behavior is desired. See the documentation of nn.Upsample for details.\n",
      "  \"See the documentation of nn.Upsample for details.\".format(mode))\n"
     ]
    },
    {
     "name": "stdout",
     "output_type": "stream",
     "text": [
      "150\t0429-MiraBestNOUNCSGD-playgroundv2_ft-1e-05\n",
      "151\t0624Exp2-sigmoid-MiraBestNOHYBRIDAdam-AGRadGalNetmean-0.0001\n",
      "152\t0614-MiraBestNOHYBRIDAdam-AGSononet-1e-06\n",
      "153\t0709Exp2-range_norm-MiraBestNOHYBRIDAdam-AGRadGalNetconcat-5e-05\n",
      "\tEvaluating ...\n",
      "PATH: TrainedNetworks/0709Exp2-range_norm-MiraBestNOHYBRIDAdam-AGRadGalNetconcat-5e-05\n",
      "PATH: TrainedNetworks/0709Exp2-range_norm-MiraBestNOHYBRIDAdam-AGRadGalNetconcat-5e-05/96.pt\n"
     ]
    },
    {
     "name": "stderr",
     "output_type": "stream",
     "text": [
      "/usr/local/anaconda-python-3.6/lib/python3.6/site-packages/torch/nn/functional.py:2479: UserWarning: Default upsampling behavior when mode=bilinear is changed to align_corners=False since 0.4.0. Please specify align_corners=True if the old behavior is desired. See the documentation of nn.Upsample for details.\n",
      "  \"See the documentation of nn.Upsample for details.\".format(mode))\n"
     ]
    },
    {
     "name": "stdout",
     "output_type": "stream",
     "text": [
      "154\t0429-MiraBestHYBRIDAdam-playgroundv2_ft-0.0001\n",
      "155\t0422-MiraBestNOHYBRIDAdagrad-playgroundv2_deep_sup-0.001\n",
      "156\t0611-MiraBestNOHYBRIDSGD-playgroundv2_ft-0.0001\n",
      "157\t0624Exp2-sigmoid-MiraBestNOHYBRIDAdam-AGRadGalNetconcat-0.0001\n",
      "158\t0703Exp31-std_mean_norm-MiraBestNOHYBRIDAdam-AGRadGalNetft-0.0001\n",
      "159\t0703Exp30-std_mean_norm-MiraBestNOHYBRIDAdam-AGRadGalNetft-0.0001\n",
      "160\t0614_DROPOUT-MiraBestNOHYBRIDAdam-AGSononet-1e-05\n",
      "161\t0624Exp2-softmax-MiraBestNOHYBRIDAdam-AGRadGalNetft-0.0001\n",
      "162\t0605-MiraBestNOHYBRIDAdam-playgroundv3-1e-06\n",
      "163\t3427-FRDEEPNOUNCSGD-transfer_original-0.0001\n",
      "164\t0622Exp1-tanh-MiraBestNOHYBRIDAdam-AGRadGalNetmean-0.0001\n",
      "165\t0417-MiraBestNOHYBRID-playgroundv2_concat-0.0001\n",
      "166\t0709Exp2-std_mean_norm-MiraBestNOHYBRIDAdam-AGRadGalNetft-5e-05\n",
      "\tEvaluating ...\n",
      "PATH: TrainedNetworks/0709Exp2-std_mean_norm-MiraBestNOHYBRIDAdam-AGRadGalNetft-5e-05\n",
      "PATH: TrainedNetworks/0709Exp2-std_mean_norm-MiraBestNOHYBRIDAdam-AGRadGalNetft-5e-05/98.pt\n"
     ]
    },
    {
     "name": "stderr",
     "output_type": "stream",
     "text": [
      "/usr/local/anaconda-python-3.6/lib/python3.6/site-packages/torch/nn/functional.py:2479: UserWarning: Default upsampling behavior when mode=bilinear is changed to align_corners=False since 0.4.0. Please specify align_corners=True if the old behavior is desired. See the documentation of nn.Upsample for details.\n",
      "  \"See the documentation of nn.Upsample for details.\".format(mode))\n"
     ]
    },
    {
     "name": "stdout",
     "output_type": "stream",
     "text": [
      "167\t0624Exp2-std_mean_norm-MiraBestNOHYBRIDAdam-AGRadGalNetmean-0.0001\n",
      "168\t0614_DROPOUT-MiraBestNOHYBRIDAdam-AGSononet-0.0001\n",
      "169\t0605B-MiraBestNOHYBRIDSGD-playgroundv3-0.0001\n",
      "170\t0429-MiraBestNOUNCAdam-transfer_original-0.0001\n",
      "171\t0611-MiraBestNOHYBRIDSGD-playgroundv3_ft-0.001\n",
      "172\t0614-MiraBestNOHYBRIDAdam-AGSononet-1e-07\n",
      "173\t0611-MiraBestNOHYBRIDAdam-playgroundv3_ft-1e-10\n",
      "174\t0617-MiraBestNOHYBRIDAdam-playgroundv4-1e-06\n",
      "175\t0611-MiraBestNOHYBRIDAdam-playgroundv3_ft-1e-05\n",
      "176\t0611-MiraBestNOHYBRIDAdam-playgroundv3_ft-1e-09\n",
      "177\t0611-MiraBestNOHYBRIDSGD-playgroundv3_ft-0.01\n",
      "178\t0622Exp1-range_norm-MiraBestNOHYBRIDAdam-AGRadGalNetmean-0.0001\n",
      "179\t0616_DROPOUT-MiraBestNOHYBRIDAdam-AGSononet-0.001\n",
      "180\t0708TEMP-range_norm-MiraBestNOHYBRIDAdam-AGRadGalNetdeep_sup-5e-05\n",
      "181\t0630Exp2-sigmoid-MiraBestNOHYBRIDAdam-AGRadGalNetmean-0.0001\n",
      "182\t0707Exp1-range_norm-MiraBestNOUNCAdam-AGRadGalNetft-0.0001\n",
      "183\t0309-MiraBest-playgroundv2_ft\n",
      "184\t0624Exp2-softmax-MiraBestNOHYBRIDAdam-AGRadGalNetdeep_sup-0.0001\n",
      "185\t0331-MiraBestNOUNC-playgroundv2_deep_sup-0.01\n",
      "186\t0225-playgroundv1\n",
      "187\t0614_DROPOUT-MiraBestNOHYBRIDAdam-AGSononet-0.01\n",
      "188\t0304-MiraBest-AGSononet\n",
      "189\t0708Exp1-range_norm-FRDEEPAdam-AGRadGalNetft-0.0001\n",
      "190\t0608-MiraBestNOHYBRIDAdadelta-playgroundv3_ft-0.0001\n",
      "191\t0709Exp2-range_norm-MiraBestNOHYBRIDAdam-AGRadGalNetmean-5e-05\n",
      "\tEvaluating ...\n",
      "PATH: TrainedNetworks/0709Exp2-range_norm-MiraBestNOHYBRIDAdam-AGRadGalNetmean-5e-05\n",
      "PATH: TrainedNetworks/0709Exp2-range_norm-MiraBestNOHYBRIDAdam-AGRadGalNetmean-5e-05/98.pt\n"
     ]
    },
    {
     "name": "stderr",
     "output_type": "stream",
     "text": [
      "/usr/local/anaconda-python-3.6/lib/python3.6/site-packages/torch/nn/functional.py:2479: UserWarning: Default upsampling behavior when mode=bilinear is changed to align_corners=False since 0.4.0. Please specify align_corners=True if the old behavior is desired. See the documentation of nn.Upsample for details.\n",
      "  \"See the documentation of nn.Upsample for details.\".format(mode))\n"
     ]
    },
    {
     "name": "stdout",
     "output_type": "stream",
     "text": [
      "192\t0617A_DROPOUT_PLUS-MiraBestNOHYBRIDAdam-AGSononet-0.001\n",
      "193\t0303-MiraBest-playgroundv1\n",
      "194\t0304-MiraBest-playgroundv1\n",
      "195\t0228-playgroundv2_ft\n",
      "196\t0402-MiraBestNOUNC-playgroundv2_deep_sup-1e-05\n",
      "197\t0614_DROPOUT-MiraBestNOHYBRIDAdam-AGSononet-1e-07\n",
      "198\t0408-MiraBestNOHYBRIDSGD-playgroundv2_deep_sup-0.0001\n",
      "199\t0709Exp2-softmax-MiraBestNOHYBRIDAdam-AGRadGalNetmean-5e-05\n",
      "\tEvaluating ...\n",
      "PATH: TrainedNetworks/0709Exp2-softmax-MiraBestNOHYBRIDAdam-AGRadGalNetmean-5e-05\n",
      "PATH: TrainedNetworks/0709Exp2-softmax-MiraBestNOHYBRIDAdam-AGRadGalNetmean-5e-05/18.pt\n"
     ]
    },
    {
     "name": "stderr",
     "output_type": "stream",
     "text": [
      "/usr/local/anaconda-python-3.6/lib/python3.6/site-packages/torch/nn/functional.py:2479: UserWarning: Default upsampling behavior when mode=bilinear is changed to align_corners=False since 0.4.0. Please specify align_corners=True if the old behavior is desired. See the documentation of nn.Upsample for details.\n",
      "  \"See the documentation of nn.Upsample for details.\".format(mode))\n"
     ]
    },
    {
     "name": "stdout",
     "output_type": "stream",
     "text": [
      "200\t0624Exp2-std_mean_norm-MiraBestNOHYBRIDAdam-AGRadGalNetdeep_sup-0.0001\n",
      "201\t0224-log-playgroundv1\n",
      "202\t0423-MiraBestNOHYBRIDSGD-playgroundv2_ft-0.0001\n",
      "203\t0624Exp2-sigmoid-MiraBestNOHYBRIDAdam-AGRadGalNetft-0.0001\n",
      "204\t0429-MiraBestNOHYBRIDSGD-playgroundv2_ft-0.0001\n",
      "205\t0429-MiraBestNOUNCAdadelta-playgroundv2_ft-0.0001\n",
      "206\t0708TEMP-range_norm-MiraBestNOHYBRIDAdam-AGRadGalNetdeep_sup-0.001\n",
      "207\t0611-MiraBestNOHYBRIDAdam-playgroundv3_ft-0.001\n",
      "208\t0611-MiraBestNOHYBRIDSGD-playgroundv3_ft-1e-06\n",
      "209\t0703Exp33-std_mean_norm-MiraBestNOHYBRIDAdam-AGRadGalNetft-0.0001\n",
      "210\t0616C_DROPOUT-MiraBestNOHYBRIDAdam-AGSononet-0.001\n",
      "211\t0224-playgroundv1\n",
      "212\t0605B-MiraBestNOHYBRIDAdam-playgroundv3-1e-07\n",
      "213\t0429-MiraBestNOHYBRIDAdadelta-playgroundv2_ft-0.0001\n",
      "214\t0719Exp31-range_norm-MiraBestNOHYBRIDAdam-AGRadGalNetft-5e-05\n",
      "215\t0421-MiraBestNOHYBRID-playgroundv2_ft-0.0001\n",
      "216\t0709Exp2-softmax-MiraBestNOHYBRIDAdam-AGRadGalNetft-5e-05\n",
      "\tEvaluating ...\n",
      "PATH: TrainedNetworks/0709Exp2-softmax-MiraBestNOHYBRIDAdam-AGRadGalNetft-5e-05\n",
      "PATH: TrainedNetworks/0709Exp2-softmax-MiraBestNOHYBRIDAdam-AGRadGalNetft-5e-05/37.pt\n"
     ]
    },
    {
     "name": "stderr",
     "output_type": "stream",
     "text": [
      "/usr/local/anaconda-python-3.6/lib/python3.6/site-packages/torch/nn/functional.py:2479: UserWarning: Default upsampling behavior when mode=bilinear is changed to align_corners=False since 0.4.0. Please specify align_corners=True if the old behavior is desired. See the documentation of nn.Upsample for details.\n",
      "  \"See the documentation of nn.Upsample for details.\".format(mode))\n"
     ]
    },
    {
     "name": "stdout",
     "output_type": "stream",
     "text": [
      "217\t0331-MiraBestNOHYBRID-playgroundv2_deep_sup\n",
      "218\t0611-MiraBestNOHYBRIDAdam-playgroundv3_ft-0.01\n",
      "219\t0709Exp2-std_mean_norm-MiraBestNOHYBRIDAdam-AGRadGalNetconcat-5e-05\n",
      "\tEvaluating ...\n",
      "PATH: TrainedNetworks/0709Exp2-std_mean_norm-MiraBestNOHYBRIDAdam-AGRadGalNetconcat-5e-05\n",
      "PATH: TrainedNetworks/0709Exp2-std_mean_norm-MiraBestNOHYBRIDAdam-AGRadGalNetconcat-5e-05/97.pt\n"
     ]
    },
    {
     "name": "stderr",
     "output_type": "stream",
     "text": [
      "/usr/local/anaconda-python-3.6/lib/python3.6/site-packages/torch/nn/functional.py:2479: UserWarning: Default upsampling behavior when mode=bilinear is changed to align_corners=False since 0.4.0. Please specify align_corners=True if the old behavior is desired. See the documentation of nn.Upsample for details.\n",
      "  \"See the documentation of nn.Upsample for details.\".format(mode))\n"
     ]
    },
    {
     "name": "stdout",
     "output_type": "stream",
     "text": [
      "220\t0719Exp33-range_norm-MiraBestNOHYBRIDAdam-AGRadGalNetft-5e-05\n",
      "221\t1427-FRDEEPNOUNCSGD-transfer_original-0.0001\n",
      "222\t0709Exp1-range_norm-FRDEEPAdam-AGRadGalNetft-5e-05\n",
      "\tEvaluating ...\n",
      "PATH: TrainedNetworks/0709Exp1-range_norm-FRDEEPAdam-AGRadGalNetft-5e-05\n",
      "PATH: TrainedNetworks/0709Exp1-range_norm-FRDEEPAdam-AGRadGalNetft-5e-05/81.pt\n"
     ]
    },
    {
     "name": "stderr",
     "output_type": "stream",
     "text": [
      "/usr/local/anaconda-python-3.6/lib/python3.6/site-packages/torch/nn/functional.py:2479: UserWarning: Default upsampling behavior when mode=bilinear is changed to align_corners=False since 0.4.0. Please specify align_corners=True if the old behavior is desired. See the documentation of nn.Upsample for details.\n",
      "  \"See the documentation of nn.Upsample for details.\".format(mode))\n"
     ]
    },
    {
     "name": "stdout",
     "output_type": "stream",
     "text": [
      "223\t0614-MiraBestNOHYBRIDAdam-AGSononet-1e-08\n",
      "--> EVALUATING ON: MiraBest\n",
      "MiraBest Successfully loaded in dict of evaluated models.\n",
      "0\tplaygroundv1-0214-0.01_360Epochs.pt\n",
      "1\t0616temp-MiraBestNOHYBRIDAdam-AGSononet-0.001.pt\n",
      "2\tplaygroundv1-0217-1e-07_124Epochs.pt\n",
      "3\tplayground-0213-0.1_180Epochs.pt\n",
      "4\tplayground-0211-0.1_360Epochs.pt\n",
      "5\tplayground-0212-0.1_360Epochs.pt\n",
      "6\tplayground-0207-0.1_360Epochs.pt\n",
      "7\tplaygroundv1-0215-0.0001_124Epochs.pt\n",
      "8\t0702B-std_mean_norm-MiraBestNOHYBRIDAdam-AGRadGalNetdeep_sup-0.0001.pt\n",
      "9\tplayground-0128-0.1_500Epochs.pt\n",
      "10\tplaygroundv1-0217-0.001_124Epochs.pt\n",
      "11\tplayground-0213-0.1_64Epochs.pt\n",
      "12\tplayground-0129-0.1_500Epochs.pt\n",
      "13\tplaygroundv1-0214-0.1_360Epochs.pt\n",
      "14\tplaygroundv1-0214-0.001_361Epochs.pt\n",
      "15\tplayground-0129-0.1_360Epochs.pt\n",
      "16\tplayground-TESTING-0.001_124Epochs.pt\n",
      "17\tplaygroundv1-0215-0.001_360Epochs.pt\n",
      "18\tAGSononet-0219-0.001_360Epochs.pt\n",
      "19\tplaygroundv1-0213-0.1_5Epochs.pt\n",
      "20\tplaygroundv1-0217Adam-0.0001_124Epochs.pt\n",
      "21\tplaygroundv1-0217Adam-1e-05_360Epochs.pt\n",
      "22\tplaygroundv1-0215-0.0001_360Epochs.pt\n",
      "23\tplaygroundv1-0214-0.001_360Epochs.pt\n",
      "24\tplaygroundv1-0213-0.1_360Epochs.pt\n",
      "25\tplaygroundv1-0217Adam-1e-05_124Epochs.pt\n",
      "26\tplaygroundv1-0217Adam-1e-06_124Epochs.pt\n",
      "27\ttemp.pt\n",
      "28\tplaygroundv1-0215-1e-06_124Epochs.pt\n",
      "29\tplayground-TESTING-0.001_1Epochs.pt\n",
      "30\tplaygroundv1-0218-0.001_248Epochs.pt\n",
      "31\tplayground-0213-0.1_128Epochs.pt\n",
      "32\tplaygroundv1-0215-1e-05_124Epochs.pt\n",
      "33\tplayground-0211-0.1_50Epochs.pt\n",
      "34\tplaygroundv1-0214-1_360Epochs.pt\n",
      "35\tplayground-0129-0.1_50Epochs.pt\n",
      "36\tplayground-TESTING-0.001_16Epochs.pt\n",
      "37\tplayground-0211-0.1_180Epochs.pt\n",
      "38\tplaygroundv1-0214-0.0001_360Epochs.pt\n",
      "39\tAGSononet-0207-0.1_360Epochs.pt\n",
      "40\tplaygroundv1-0215-1e-05_360Epochs.pt\n",
      "41\tplayground-TESTING-0.001_8Epochs.pt\n",
      "42\tplaygroundv1-0218-0.001_360Epochs.pt\n",
      "43\t0703Exp1-std_mean_norm-FRDEEPAdam-AGRadGalNetft-0.0001\n",
      "44\t0703Exp1-std_mean_norm-MiraBestNOHYBRIDAdam-AGRadGalNetft-0.0001\n",
      "45\t0429-MiraBestHYBRIDSGD-playgroundv2_ft-0.0001\n",
      "46\t0429-MiraBestNOUNCSGD-playgroundv2_ft-0.0001\n",
      "47\t0614_DROPOUT-MiraBestNOHYBRIDAdam-AGSononet-1e-08\n",
      "48\t0402-MiraBestNOUNC-playgroundv2_deep_sup-0.005\n",
      "49\t0703Exp1-std_mean_norm-MiraBestNOUNCAdam-AGRadGalNetft-0.0001\n",
      "50\t0702B-std_mean_norm-MiraBestNOHYBRIDAdam-AGRadGalNetdeep_sup-0.0001\n",
      "51\t0719Exp32-range_norm-MiraBestNOHYBRIDAdam-AGRadGalNetft-5e-05\n",
      "52\t0611-MiraBestNOHYBRIDSGD-playgroundv3_ft-1e-08\n",
      "53\t0709Exp2-softmax-MiraBestNOHYBRIDAdam-AGRadGalNetdeep_sup-5e-05\n",
      "\tEvaluating ...\n",
      "PATH: TrainedNetworks/0709Exp2-softmax-MiraBestNOHYBRIDAdam-AGRadGalNetdeep_sup-5e-05\n",
      "PATH: TrainedNetworks/0709Exp2-softmax-MiraBestNOHYBRIDAdam-AGRadGalNetdeep_sup-5e-05/57.pt\n"
     ]
    },
    {
     "name": "stderr",
     "output_type": "stream",
     "text": [
      "/usr/local/anaconda-python-3.6/lib/python3.6/site-packages/torch/nn/functional.py:2479: UserWarning: Default upsampling behavior when mode=bilinear is changed to align_corners=False since 0.4.0. Please specify align_corners=True if the old behavior is desired. See the documentation of nn.Upsample for details.\n",
      "  \"See the documentation of nn.Upsample for details.\".format(mode))\n"
     ]
    },
    {
     "name": "stdout",
     "output_type": "stream",
     "text": [
      "54\t0719Exp30-range_norm-MiraBestNOHYBRIDAdam-AGRadGalNetft-5e-05\n",
      "55\t0624Exp2-std_mean_norm-MiraBestNOHYBRIDAdam-AGRadGalNetft-0.0001\n",
      "56\t0611-MiraBestNOHYBRIDAdam-playgroundv3_ft-1e-06\n",
      "57\t0630B-std_mean_norm-MiraBestNOHYBRIDAdam-AGRadGalNetdeep_sup-0.0001\n",
      "58\t0305-MiraBest-playgroundv2_deep_sup\n",
      "59\t0429-FRDEEPAdagrad-playgroundv2_ft-0.001\n",
      "60\t0429-MiraBestNOUNCAdam-playgroundv2_ft-0.0001\n",
      "61\t0429-FRDEEPSGD-playgroundv2_ft-0.0001\n",
      "62\t0608-MiraBestNOHYBRIDAdadelta-playgroundv3_ft-0.01\n",
      "63\t0429-MiraBestNOUNCAdagrad-playgroundv2_ft-0.001\n",
      "64\t0611C-MiraBestNOHYBRIDSGD-playgroundv3_ft-0.0001\n",
      "65\t0708TEMP-range_norm-MiraBestNOHYBRIDAdam-AGRadGalNetdeep_sup-0.01\n",
      "66\t0402-MiraBestNOUNC-playgroundv2_deep_sup-0.001\n",
      "67\t0709Exp2-range_norm-MiraBestNOHYBRIDAdam-AGRadGalNetdeep_sup-5e-05\n",
      "\tEvaluating ...\n",
      "PATH: TrainedNetworks/0709Exp2-range_norm-MiraBestNOHYBRIDAdam-AGRadGalNetdeep_sup-5e-05\n",
      "PATH: TrainedNetworks/0709Exp2-range_norm-MiraBestNOHYBRIDAdam-AGRadGalNetdeep_sup-5e-05/81.pt\n"
     ]
    },
    {
     "name": "stderr",
     "output_type": "stream",
     "text": [
      "/usr/local/anaconda-python-3.6/lib/python3.6/site-packages/torch/nn/functional.py:2479: UserWarning: Default upsampling behavior when mode=bilinear is changed to align_corners=False since 0.4.0. Please specify align_corners=True if the old behavior is desired. See the documentation of nn.Upsample for details.\n",
      "  \"See the documentation of nn.Upsample for details.\".format(mode))\n"
     ]
    },
    {
     "name": "stdout",
     "output_type": "stream",
     "text": [
      "68\t0611-MiraBestNOHYBRIDAdam-playgroundv3_ft-0.0001\n",
      "69\t1427-FRDEEPNOUNCAdam-transfer_original-0.0001\n",
      "70\t0709Exp2-sigmoid-MiraBestNOHYBRIDAdam-AGRadGalNetmean-5e-05\n",
      "\tEvaluating ...\n",
      "PATH: TrainedNetworks/0709Exp2-sigmoid-MiraBestNOHYBRIDAdam-AGRadGalNetmean-5e-05\n",
      "PATH: TrainedNetworks/0709Exp2-sigmoid-MiraBestNOHYBRIDAdam-AGRadGalNetmean-5e-05/98.pt\n"
     ]
    },
    {
     "name": "stderr",
     "output_type": "stream",
     "text": [
      "/usr/local/anaconda-python-3.6/lib/python3.6/site-packages/torch/nn/functional.py:2479: UserWarning: Default upsampling behavior when mode=bilinear is changed to align_corners=False since 0.4.0. Please specify align_corners=True if the old behavior is desired. See the documentation of nn.Upsample for details.\n",
      "  \"See the documentation of nn.Upsample for details.\".format(mode))\n"
     ]
    },
    {
     "name": "stdout",
     "output_type": "stream",
     "text": [
      "71\t0611-MiraBestNOHYBRIDSGD-playgroundv3_ft-0.0001\n",
      "72\t0310-MiraBestSGD-playgroundv2_ft\n",
      "73\t0708TEMP-range_norm-MiraBestNOHYBRIDAdam-AGRadGalNetdeep_sup-1e-06\n",
      "74\t0614_DROPOUT-MiraBestNOHYBRIDAdam-AGSononet-1e-06\n",
      "75\t0408-MiraBestNOHYBRIDSGD-playgroundv2_ft-0.0001\n",
      "76\t0709Exp2-sigmoid-MiraBestNOHYBRIDAdam-AGRadGalNetdeep_sup-5e-05\n",
      "\tEvaluating ...\n",
      "PATH: TrainedNetworks/0709Exp2-sigmoid-MiraBestNOHYBRIDAdam-AGRadGalNetdeep_sup-5e-05\n",
      "PATH: TrainedNetworks/0709Exp2-sigmoid-MiraBestNOHYBRIDAdam-AGRadGalNetdeep_sup-5e-05/98.pt\n"
     ]
    },
    {
     "name": "stderr",
     "output_type": "stream",
     "text": [
      "/usr/local/anaconda-python-3.6/lib/python3.6/site-packages/torch/nn/functional.py:2479: UserWarning: Default upsampling behavior when mode=bilinear is changed to align_corners=False since 0.4.0. Please specify align_corners=True if the old behavior is desired. See the documentation of nn.Upsample for details.\n",
      "  \"See the documentation of nn.Upsample for details.\".format(mode))\n"
     ]
    },
    {
     "name": "stdout",
     "output_type": "stream",
     "text": [
      "77\t0624Exp2-sigmoid-MiraBestNOHYBRIDAdam-AGRadGalNetdeep_sup-0.0001\n",
      "78\t0707Exp1-range_norm-MiraBestNOHYBRIDAdam-AGRadGalNetft-0.0001\n",
      "79\t0624Exp2-range_norm-MiraBestNOHYBRIDAdam-AGRadGalNetmean-0.0001\n",
      "80\t0608-MiraBestNOHYBRIDAdadelta-playgroundv3_ft-1e-06\n",
      "81\t0622Exp1-sigmoid-MiraBestNOHYBRIDAdam-AGRadGalNetmean-0.0001\n",
      "82\t0228-playgroundv2_mean\n",
      "83\t0617-MiraBestNOHYBRIDAdam-playgroundv4-1e-08\n",
      "84\t0709Exp2-range_norm-MiraBestNOHYBRIDAdam-AGRadGalNetft-5e-05\n",
      "\tEvaluating ...\n",
      "PATH: TrainedNetworks/0709Exp2-range_norm-MiraBestNOHYBRIDAdam-AGRadGalNetft-5e-05\n",
      "PATH: TrainedNetworks/0709Exp2-range_norm-MiraBestNOHYBRIDAdam-AGRadGalNetft-5e-05/82.pt\n"
     ]
    },
    {
     "name": "stderr",
     "output_type": "stream",
     "text": [
      "/usr/local/anaconda-python-3.6/lib/python3.6/site-packages/torch/nn/functional.py:2479: UserWarning: Default upsampling behavior when mode=bilinear is changed to align_corners=False since 0.4.0. Please specify align_corners=True if the old behavior is desired. See the documentation of nn.Upsample for details.\n",
      "  \"See the documentation of nn.Upsample for details.\".format(mode))\n"
     ]
    },
    {
     "name": "stdout",
     "output_type": "stream",
     "text": [
      "85\t0429-MiraBestNOUNCAdam-playgroundv2_ft-1e-05\n",
      "86\t0624Exp2-range_norm-MiraBestNOHYBRIDAdam-AGRadGalNetconcat-0.0001\n",
      "87\t0709Exp2-std_mean_norm-MiraBestNOHYBRIDAdam-AGRadGalNetdeep_sup-5e-05\n",
      "\tEvaluating ...\n",
      "PATH: TrainedNetworks/0709Exp2-std_mean_norm-MiraBestNOHYBRIDAdam-AGRadGalNetdeep_sup-5e-05\n",
      "PATH: TrainedNetworks/0709Exp2-std_mean_norm-MiraBestNOHYBRIDAdam-AGRadGalNetdeep_sup-5e-05/68.pt\n"
     ]
    },
    {
     "name": "stderr",
     "output_type": "stream",
     "text": [
      "/usr/local/anaconda-python-3.6/lib/python3.6/site-packages/torch/nn/functional.py:2479: UserWarning: Default upsampling behavior when mode=bilinear is changed to align_corners=False since 0.4.0. Please specify align_corners=True if the old behavior is desired. See the documentation of nn.Upsample for details.\n",
      "  \"See the documentation of nn.Upsample for details.\".format(mode))\n"
     ]
    },
    {
     "name": "stdout",
     "output_type": "stream",
     "text": [
      "88\t0709Exp1-range_norm-MiraBestNOHYBRIDAdam-AGRadGalNetft-5e-05\n",
      "\tEvaluating ...\n",
      "PATH: TrainedNetworks/0709Exp1-range_norm-MiraBestNOHYBRIDAdam-AGRadGalNetft-5e-05\n",
      "PATH: TrainedNetworks/0709Exp1-range_norm-MiraBestNOHYBRIDAdam-AGRadGalNetft-5e-05/26.pt\n"
     ]
    },
    {
     "name": "stderr",
     "output_type": "stream",
     "text": [
      "/usr/local/anaconda-python-3.6/lib/python3.6/site-packages/torch/nn/functional.py:2479: UserWarning: Default upsampling behavior when mode=bilinear is changed to align_corners=False since 0.4.0. Please specify align_corners=True if the old behavior is desired. See the documentation of nn.Upsample for details.\n",
      "  \"See the documentation of nn.Upsample for details.\".format(mode))\n"
     ]
    },
    {
     "name": "stdout",
     "output_type": "stream",
     "text": [
      "89\t0707Exp1-range_norm-FRDEEPAdam-AGRadGalNetft-0.0001\n",
      "90\t0429-MiraBestHYBRIDAdadelta-playgroundv2_ft-0.0001\n",
      "91\t0624Exp2-range_norm-MiraBestNOHYBRIDAdam-AGRadGalNetft-0.0001\n",
      "92\t0311-MiraBestSGDVariedLR-playgroundv2_deep_sup\n",
      "93\t0622Exp1-softmax-MiraBestNOHYBRIDAdam-AGRadGalNetmean-0.0001\n",
      "94\t0611-MiraBestNOHYBRIDAdam-playgroundv3_ft-1e-08\n",
      "95\t0429-MiraBestNOHYBRIDAdagrad-playgroundv2_ft-0.001\n",
      "96\t0614-MiraBestNOHYBRIDAdam-AGSononet-1e-05\n",
      "97\t0624Exp2-std_mean_norm-MiraBestNOHYBRIDAdam-AGRadGalNetconcat-0.0001\n",
      "98\t0614_DROPOUT-MiraBestNOHYBRIDAdam-AGSononet-0.001\n",
      "99\t0708Exp33-std_mean_norm-MiraBestNOHYBRIDAdam-AGRadGalNetft-5e-05\n",
      "100\t0608-MiraBestNOHYBRIDAdadelta-playgroundv3_ft-0.001\n",
      "101\t0709Exp2-std_mean_norm-MiraBestNOHYBRIDAdam-AGRadGalNetmean-5e-05\n",
      "\tEvaluating ...\n",
      "PATH: TrainedNetworks/0709Exp2-std_mean_norm-MiraBestNOHYBRIDAdam-AGRadGalNetmean-5e-05\n",
      "PATH: TrainedNetworks/0709Exp2-std_mean_norm-MiraBestNOHYBRIDAdam-AGRadGalNetmean-5e-05/93.pt\n"
     ]
    },
    {
     "name": "stderr",
     "output_type": "stream",
     "text": [
      "/usr/local/anaconda-python-3.6/lib/python3.6/site-packages/torch/nn/functional.py:2479: UserWarning: Default upsampling behavior when mode=bilinear is changed to align_corners=False since 0.4.0. Please specify align_corners=True if the old behavior is desired. See the documentation of nn.Upsample for details.\n",
      "  \"See the documentation of nn.Upsample for details.\".format(mode))\n"
     ]
    },
    {
     "name": "stdout",
     "output_type": "stream",
     "text": [
      "102\t0429-MiraBestHYBRIDAdagrad-playgroundv2_ft-0.001\n",
      "103\t0709Exp2-softmax-MiraBestNOHYBRIDAdam-AGRadGalNetconcat-5e-05\n",
      "\tEvaluating ...\n",
      "PATH: TrainedNetworks/0709Exp2-softmax-MiraBestNOHYBRIDAdam-AGRadGalNetconcat-5e-05\n",
      "PATH: TrainedNetworks/0709Exp2-softmax-MiraBestNOHYBRIDAdam-AGRadGalNetconcat-5e-05/51.pt\n"
     ]
    },
    {
     "name": "stderr",
     "output_type": "stream",
     "text": [
      "/usr/local/anaconda-python-3.6/lib/python3.6/site-packages/torch/nn/functional.py:2479: UserWarning: Default upsampling behavior when mode=bilinear is changed to align_corners=False since 0.4.0. Please specify align_corners=True if the old behavior is desired. See the documentation of nn.Upsample for details.\n",
      "  \"See the documentation of nn.Upsample for details.\".format(mode))\n"
     ]
    },
    {
     "name": "stdout",
     "output_type": "stream",
     "text": [
      "104\t0420-MiraBestNOHYBRID-playgroundv2_mean-0.0001\n",
      "105\t0624Exp2-softmax-MiraBestNOHYBRIDAdam-AGRadGalNetmean-0.0001\n",
      "106\t0617-MiraBestNOHYBRIDAdam-playgroundv4-0.0001\n",
      "107\t0422-MiraBestNOHYBRIDAdagrad-playgroundv2_mean-0.001\n",
      "108\t0611-MiraBestNOHYBRIDSGD-playgroundv3_ft-1e-10\n",
      "109\t0429-MiraBestNOHYBRIDAdam-playgroundv2_ft-0.0001\n",
      "110\t0614-MiraBestNOHYBRIDAdam-AGSononet-1e-09\n",
      "111\t0331-MiraBestNOUNC-playgroundv2_deep_sup-0.0001\n",
      "112\t0614-MiraBestNOHYBRIDAdam-AGSononet-1e-10\n",
      "113\t0624Exp2-softmax-MiraBestNOHYBRIDAdam-AGRadGalNetconcat-0.0001\n",
      "114\t0703Exp32-std_mean_norm-MiraBestNOHYBRIDAdam-AGRadGalNetft-0.0001\n",
      "115\t0616B_DROPOUT-MiraBestNOHYBRIDAdam-AGSononet-0.001\n",
      "116\t0429-FRDEEPAdam-playgroundv2_ft-0.0001\n",
      "117\t0622Exp1-std_mean_norm-MiraBestNOHYBRIDAdam-AGRadGalNetmean-0.0001\n",
      "118\t0228-playgroundv2_concat\n",
      "119\t0624Exp2-range_norm-MiraBestNOHYBRIDAdam-AGRadGalNetdeep_sup-0.0001\n",
      "120\t0423-MiraBestNOHYBRIDSGD-playgroundv2_deep_sup-0.0001\n",
      "121\t0611-MiraBestNOHYBRIDSGD-playgroundv3_ft-1e-07\n",
      "122\t0611-MiraBestNOHYBRIDSGD-playgroundv3_ft-1e-09\n",
      "123\t0611-MiraBestNOHYBRIDSGD-playgroundv3_ft-1e-05\n",
      "124\t0429-FRDEEPAdadelta-playgroundv2_ft-0.0001\n",
      "125\t0708TEMP-range_norm-MiraBestNOHYBRIDAdam-AGRadGalNetdeep_sup-1e-05\n",
      "126\t0611-MiraBestNOHYBRIDAdam-playgroundv3_ft-1e-07\n",
      "127\t0305-MiraBest-playgroundv2_mean\n",
      "128\t0708TEMP-range_norm-MiraBestNOHYBRIDAdam-AGRadGalNetdeep_sup-0.0001\n",
      "129\t0709Exp2-sigmoid-MiraBestNOHYBRIDAdam-AGRadGalNetft-5e-05\n",
      "\tEvaluating ...\n",
      "PATH: TrainedNetworks/0709Exp2-sigmoid-MiraBestNOHYBRIDAdam-AGRadGalNetft-5e-05\n",
      "PATH: TrainedNetworks/0709Exp2-sigmoid-MiraBestNOHYBRIDAdam-AGRadGalNetft-5e-05/97.pt\n"
     ]
    },
    {
     "name": "stderr",
     "output_type": "stream",
     "text": [
      "/usr/local/anaconda-python-3.6/lib/python3.6/site-packages/torch/nn/functional.py:2479: UserWarning: Default upsampling behavior when mode=bilinear is changed to align_corners=False since 0.4.0. Please specify align_corners=True if the old behavior is desired. See the documentation of nn.Upsample for details.\n",
      "  \"See the documentation of nn.Upsample for details.\".format(mode))\n"
     ]
    },
    {
     "name": "stdout",
     "output_type": "stream",
     "text": [
      "130\tTESTExp1-std_mean_norm-MiraBestNOHYBRIDAdam-AGRadGalNetft-0.0001\n",
      "131\t0311-CIFAR10-pg2_ft_CIFAR10\n",
      "132\t0617-MiraBestNOHYBRIDAdam-playgroundv4-1e-05\n",
      "133\t0630A-std_mean_norm-MiraBestNOHYBRIDAdam-AGRadGalNetdeep_sup-0.0001\n",
      "134\t0423-MiraBestNOHYBRIDSGD-playgroundv2_mean-0.0001\n",
      "135\t0422-MiraBestNOHYBRIDAdagrad-playgroundv2_concat-0.001\n",
      "136\t0307-MiraBest-playgroundv2_ft\n",
      "137\t0331-MiraBestNOUNC-playgroundv2_deep_sup\n",
      "138\t0423-MiraBestNOHYBRIDSGD-playgroundv2_concat-0.0001\n",
      "139\t0708TEMP-range_norm-MiraBestNOHYBRIDAdam-AGRadGalNetdeep_sup-0.1\n",
      "140\t0709TEMP-range_norm-MiraBestNOHYBRIDAdam-AGRadGalNetdeep_sup-5e-05\n",
      "\tEvaluating ...\n",
      "PATH: TrainedNetworks/0709TEMP-range_norm-MiraBestNOHYBRIDAdam-AGRadGalNetdeep_sup-5e-05\n",
      "PATH: TrainedNetworks/0709TEMP-range_norm-MiraBestNOHYBRIDAdam-AGRadGalNetdeep_sup-5e-05/92.pt\n"
     ]
    },
    {
     "name": "stderr",
     "output_type": "stream",
     "text": [
      "/usr/local/anaconda-python-3.6/lib/python3.6/site-packages/torch/nn/functional.py:2479: UserWarning: Default upsampling behavior when mode=bilinear is changed to align_corners=False since 0.4.0. Please specify align_corners=True if the old behavior is desired. See the documentation of nn.Upsample for details.\n",
      "  \"See the documentation of nn.Upsample for details.\".format(mode))\n"
     ]
    },
    {
     "name": "stdout",
     "output_type": "stream",
     "text": [
      "141\t0422-MiraBestNOHYBRIDAdagrad-playgroundv2_ft-0.001\n",
      "142\t0421-MiraBestNOHYBRID-playgroundv2_deep_sup-0.0001\n",
      "143\t0330-MiraBest-playgroundv2_deep_sup\n",
      "144\t0429-MiraBestNOUNCAdagrad-playgroundv2_ft-0.0001\n",
      "145\t0709Exp2-sigmoid-MiraBestNOHYBRIDAdam-AGRadGalNetconcat-5e-05\n",
      "\tEvaluating ...\n",
      "PATH: TrainedNetworks/0709Exp2-sigmoid-MiraBestNOHYBRIDAdam-AGRadGalNetconcat-5e-05\n",
      "PATH: TrainedNetworks/0709Exp2-sigmoid-MiraBestNOHYBRIDAdam-AGRadGalNetconcat-5e-05/98.pt\n"
     ]
    },
    {
     "name": "stderr",
     "output_type": "stream",
     "text": [
      "/usr/local/anaconda-python-3.6/lib/python3.6/site-packages/torch/nn/functional.py:2479: UserWarning: Default upsampling behavior when mode=bilinear is changed to align_corners=False since 0.4.0. Please specify align_corners=True if the old behavior is desired. See the documentation of nn.Upsample for details.\n",
      "  \"See the documentation of nn.Upsample for details.\".format(mode))\n"
     ]
    },
    {
     "name": "stdout",
     "output_type": "stream",
     "text": [
      "146\t0608-MiraBestNOHYBRIDAdadelta-playgroundv3_ft-1e-05\n",
      "147\t0228-playgroundv2_deep_sup\n",
      "148\t0617-MiraBestNOHYBRIDAdam-playgroundv4-0.01\n",
      "149\t0709Exp1-range_norm-MiraBestNOUNCAdam-AGRadGalNetft-5e-05\n",
      "\tEvaluating ...\n",
      "PATH: TrainedNetworks/0709Exp1-range_norm-MiraBestNOUNCAdam-AGRadGalNetft-5e-05\n",
      "PATH: TrainedNetworks/0709Exp1-range_norm-MiraBestNOUNCAdam-AGRadGalNetft-5e-05/95.pt\n"
     ]
    },
    {
     "name": "stderr",
     "output_type": "stream",
     "text": [
      "/usr/local/anaconda-python-3.6/lib/python3.6/site-packages/torch/nn/functional.py:2479: UserWarning: Default upsampling behavior when mode=bilinear is changed to align_corners=False since 0.4.0. Please specify align_corners=True if the old behavior is desired. See the documentation of nn.Upsample for details.\n",
      "  \"See the documentation of nn.Upsample for details.\".format(mode))\n"
     ]
    },
    {
     "name": "stdout",
     "output_type": "stream",
     "text": [
      "150\t0429-MiraBestNOUNCSGD-playgroundv2_ft-1e-05\n",
      "151\t0624Exp2-sigmoid-MiraBestNOHYBRIDAdam-AGRadGalNetmean-0.0001\n",
      "152\t0614-MiraBestNOHYBRIDAdam-AGSononet-1e-06\n",
      "153\t0709Exp2-range_norm-MiraBestNOHYBRIDAdam-AGRadGalNetconcat-5e-05\n",
      "\tEvaluating ...\n",
      "PATH: TrainedNetworks/0709Exp2-range_norm-MiraBestNOHYBRIDAdam-AGRadGalNetconcat-5e-05\n",
      "PATH: TrainedNetworks/0709Exp2-range_norm-MiraBestNOHYBRIDAdam-AGRadGalNetconcat-5e-05/96.pt\n"
     ]
    },
    {
     "name": "stderr",
     "output_type": "stream",
     "text": [
      "/usr/local/anaconda-python-3.6/lib/python3.6/site-packages/torch/nn/functional.py:2479: UserWarning: Default upsampling behavior when mode=bilinear is changed to align_corners=False since 0.4.0. Please specify align_corners=True if the old behavior is desired. See the documentation of nn.Upsample for details.\n",
      "  \"See the documentation of nn.Upsample for details.\".format(mode))\n"
     ]
    },
    {
     "name": "stdout",
     "output_type": "stream",
     "text": [
      "154\t0429-MiraBestHYBRIDAdam-playgroundv2_ft-0.0001\n",
      "155\t0422-MiraBestNOHYBRIDAdagrad-playgroundv2_deep_sup-0.001\n",
      "156\t0611-MiraBestNOHYBRIDSGD-playgroundv2_ft-0.0001\n",
      "157\t0624Exp2-sigmoid-MiraBestNOHYBRIDAdam-AGRadGalNetconcat-0.0001\n",
      "158\t0703Exp31-std_mean_norm-MiraBestNOHYBRIDAdam-AGRadGalNetft-0.0001\n",
      "159\t0703Exp30-std_mean_norm-MiraBestNOHYBRIDAdam-AGRadGalNetft-0.0001\n",
      "160\t0614_DROPOUT-MiraBestNOHYBRIDAdam-AGSononet-1e-05\n",
      "161\t0624Exp2-softmax-MiraBestNOHYBRIDAdam-AGRadGalNetft-0.0001\n",
      "162\t0605-MiraBestNOHYBRIDAdam-playgroundv3-1e-06\n",
      "163\t3427-FRDEEPNOUNCSGD-transfer_original-0.0001\n",
      "164\t0622Exp1-tanh-MiraBestNOHYBRIDAdam-AGRadGalNetmean-0.0001\n",
      "165\t0417-MiraBestNOHYBRID-playgroundv2_concat-0.0001\n",
      "166\t0709Exp2-std_mean_norm-MiraBestNOHYBRIDAdam-AGRadGalNetft-5e-05\n",
      "\tEvaluating ...\n",
      "PATH: TrainedNetworks/0709Exp2-std_mean_norm-MiraBestNOHYBRIDAdam-AGRadGalNetft-5e-05\n",
      "PATH: TrainedNetworks/0709Exp2-std_mean_norm-MiraBestNOHYBRIDAdam-AGRadGalNetft-5e-05/98.pt\n"
     ]
    },
    {
     "name": "stderr",
     "output_type": "stream",
     "text": [
      "/usr/local/anaconda-python-3.6/lib/python3.6/site-packages/torch/nn/functional.py:2479: UserWarning: Default upsampling behavior when mode=bilinear is changed to align_corners=False since 0.4.0. Please specify align_corners=True if the old behavior is desired. See the documentation of nn.Upsample for details.\n",
      "  \"See the documentation of nn.Upsample for details.\".format(mode))\n"
     ]
    },
    {
     "name": "stdout",
     "output_type": "stream",
     "text": [
      "167\t0624Exp2-std_mean_norm-MiraBestNOHYBRIDAdam-AGRadGalNetmean-0.0001\n",
      "168\t0614_DROPOUT-MiraBestNOHYBRIDAdam-AGSononet-0.0001\n",
      "169\t0605B-MiraBestNOHYBRIDSGD-playgroundv3-0.0001\n",
      "170\t0429-MiraBestNOUNCAdam-transfer_original-0.0001\n",
      "171\t0611-MiraBestNOHYBRIDSGD-playgroundv3_ft-0.001\n",
      "172\t0614-MiraBestNOHYBRIDAdam-AGSononet-1e-07\n",
      "173\t0611-MiraBestNOHYBRIDAdam-playgroundv3_ft-1e-10\n",
      "174\t0617-MiraBestNOHYBRIDAdam-playgroundv4-1e-06\n",
      "175\t0611-MiraBestNOHYBRIDAdam-playgroundv3_ft-1e-05\n",
      "176\t0611-MiraBestNOHYBRIDAdam-playgroundv3_ft-1e-09\n",
      "177\t0611-MiraBestNOHYBRIDSGD-playgroundv3_ft-0.01\n",
      "178\t0622Exp1-range_norm-MiraBestNOHYBRIDAdam-AGRadGalNetmean-0.0001\n",
      "179\t0616_DROPOUT-MiraBestNOHYBRIDAdam-AGSononet-0.001\n",
      "180\t0708TEMP-range_norm-MiraBestNOHYBRIDAdam-AGRadGalNetdeep_sup-5e-05\n",
      "181\t0630Exp2-sigmoid-MiraBestNOHYBRIDAdam-AGRadGalNetmean-0.0001\n",
      "182\t0707Exp1-range_norm-MiraBestNOUNCAdam-AGRadGalNetft-0.0001\n",
      "183\t0309-MiraBest-playgroundv2_ft\n",
      "184\t0624Exp2-softmax-MiraBestNOHYBRIDAdam-AGRadGalNetdeep_sup-0.0001\n",
      "185\t0331-MiraBestNOUNC-playgroundv2_deep_sup-0.01\n",
      "186\t0225-playgroundv1\n",
      "187\t0614_DROPOUT-MiraBestNOHYBRIDAdam-AGSononet-0.01\n",
      "188\t0304-MiraBest-AGSononet\n",
      "189\t0708Exp1-range_norm-FRDEEPAdam-AGRadGalNetft-0.0001\n",
      "190\t0608-MiraBestNOHYBRIDAdadelta-playgroundv3_ft-0.0001\n",
      "191\t0709Exp2-range_norm-MiraBestNOHYBRIDAdam-AGRadGalNetmean-5e-05\n",
      "\tEvaluating ...\n",
      "PATH: TrainedNetworks/0709Exp2-range_norm-MiraBestNOHYBRIDAdam-AGRadGalNetmean-5e-05\n",
      "PATH: TrainedNetworks/0709Exp2-range_norm-MiraBestNOHYBRIDAdam-AGRadGalNetmean-5e-05/98.pt\n"
     ]
    },
    {
     "name": "stderr",
     "output_type": "stream",
     "text": [
      "/usr/local/anaconda-python-3.6/lib/python3.6/site-packages/torch/nn/functional.py:2479: UserWarning: Default upsampling behavior when mode=bilinear is changed to align_corners=False since 0.4.0. Please specify align_corners=True if the old behavior is desired. See the documentation of nn.Upsample for details.\n",
      "  \"See the documentation of nn.Upsample for details.\".format(mode))\n"
     ]
    },
    {
     "name": "stdout",
     "output_type": "stream",
     "text": [
      "192\t0617A_DROPOUT_PLUS-MiraBestNOHYBRIDAdam-AGSononet-0.001\n",
      "193\t0303-MiraBest-playgroundv1\n",
      "194\t0304-MiraBest-playgroundv1\n",
      "195\t0228-playgroundv2_ft\n",
      "196\t0402-MiraBestNOUNC-playgroundv2_deep_sup-1e-05\n",
      "197\t0614_DROPOUT-MiraBestNOHYBRIDAdam-AGSononet-1e-07\n",
      "198\t0408-MiraBestNOHYBRIDSGD-playgroundv2_deep_sup-0.0001\n",
      "199\t0709Exp2-softmax-MiraBestNOHYBRIDAdam-AGRadGalNetmean-5e-05\n",
      "\tEvaluating ...\n",
      "PATH: TrainedNetworks/0709Exp2-softmax-MiraBestNOHYBRIDAdam-AGRadGalNetmean-5e-05\n",
      "PATH: TrainedNetworks/0709Exp2-softmax-MiraBestNOHYBRIDAdam-AGRadGalNetmean-5e-05/18.pt\n"
     ]
    },
    {
     "name": "stderr",
     "output_type": "stream",
     "text": [
      "/usr/local/anaconda-python-3.6/lib/python3.6/site-packages/torch/nn/functional.py:2479: UserWarning: Default upsampling behavior when mode=bilinear is changed to align_corners=False since 0.4.0. Please specify align_corners=True if the old behavior is desired. See the documentation of nn.Upsample for details.\n",
      "  \"See the documentation of nn.Upsample for details.\".format(mode))\n"
     ]
    },
    {
     "name": "stdout",
     "output_type": "stream",
     "text": [
      "200\t0624Exp2-std_mean_norm-MiraBestNOHYBRIDAdam-AGRadGalNetdeep_sup-0.0001\n",
      "201\t0224-log-playgroundv1\n",
      "202\t0423-MiraBestNOHYBRIDSGD-playgroundv2_ft-0.0001\n",
      "203\t0624Exp2-sigmoid-MiraBestNOHYBRIDAdam-AGRadGalNetft-0.0001\n",
      "204\t0429-MiraBestNOHYBRIDSGD-playgroundv2_ft-0.0001\n",
      "205\t0429-MiraBestNOUNCAdadelta-playgroundv2_ft-0.0001\n",
      "206\t0708TEMP-range_norm-MiraBestNOHYBRIDAdam-AGRadGalNetdeep_sup-0.001\n",
      "207\t0611-MiraBestNOHYBRIDAdam-playgroundv3_ft-0.001\n",
      "208\t0611-MiraBestNOHYBRIDSGD-playgroundv3_ft-1e-06\n",
      "209\t0703Exp33-std_mean_norm-MiraBestNOHYBRIDAdam-AGRadGalNetft-0.0001\n",
      "210\t0616C_DROPOUT-MiraBestNOHYBRIDAdam-AGSononet-0.001\n",
      "211\t0224-playgroundv1\n",
      "212\t0605B-MiraBestNOHYBRIDAdam-playgroundv3-1e-07\n",
      "213\t0429-MiraBestNOHYBRIDAdadelta-playgroundv2_ft-0.0001\n",
      "214\t0719Exp31-range_norm-MiraBestNOHYBRIDAdam-AGRadGalNetft-5e-05\n",
      "215\t0421-MiraBestNOHYBRID-playgroundv2_ft-0.0001\n",
      "216\t0709Exp2-softmax-MiraBestNOHYBRIDAdam-AGRadGalNetft-5e-05\n",
      "\tEvaluating ...\n",
      "PATH: TrainedNetworks/0709Exp2-softmax-MiraBestNOHYBRIDAdam-AGRadGalNetft-5e-05\n",
      "PATH: TrainedNetworks/0709Exp2-softmax-MiraBestNOHYBRIDAdam-AGRadGalNetft-5e-05/37.pt\n"
     ]
    },
    {
     "name": "stderr",
     "output_type": "stream",
     "text": [
      "/usr/local/anaconda-python-3.6/lib/python3.6/site-packages/torch/nn/functional.py:2479: UserWarning: Default upsampling behavior when mode=bilinear is changed to align_corners=False since 0.4.0. Please specify align_corners=True if the old behavior is desired. See the documentation of nn.Upsample for details.\n",
      "  \"See the documentation of nn.Upsample for details.\".format(mode))\n"
     ]
    },
    {
     "name": "stdout",
     "output_type": "stream",
     "text": [
      "217\t0331-MiraBestNOHYBRID-playgroundv2_deep_sup\n",
      "218\t0611-MiraBestNOHYBRIDAdam-playgroundv3_ft-0.01\n",
      "219\t0709Exp2-std_mean_norm-MiraBestNOHYBRIDAdam-AGRadGalNetconcat-5e-05\n",
      "\tEvaluating ...\n",
      "PATH: TrainedNetworks/0709Exp2-std_mean_norm-MiraBestNOHYBRIDAdam-AGRadGalNetconcat-5e-05\n",
      "PATH: TrainedNetworks/0709Exp2-std_mean_norm-MiraBestNOHYBRIDAdam-AGRadGalNetconcat-5e-05/97.pt\n"
     ]
    },
    {
     "name": "stderr",
     "output_type": "stream",
     "text": [
      "/usr/local/anaconda-python-3.6/lib/python3.6/site-packages/torch/nn/functional.py:2479: UserWarning: Default upsampling behavior when mode=bilinear is changed to align_corners=False since 0.4.0. Please specify align_corners=True if the old behavior is desired. See the documentation of nn.Upsample for details.\n",
      "  \"See the documentation of nn.Upsample for details.\".format(mode))\n"
     ]
    },
    {
     "name": "stdout",
     "output_type": "stream",
     "text": [
      "220\t0719Exp33-range_norm-MiraBestNOHYBRIDAdam-AGRadGalNetft-5e-05\n",
      "221\t1427-FRDEEPNOUNCSGD-transfer_original-0.0001\n",
      "222\t0709Exp1-range_norm-FRDEEPAdam-AGRadGalNetft-5e-05\n",
      "\tEvaluating ...\n",
      "PATH: TrainedNetworks/0709Exp1-range_norm-FRDEEPAdam-AGRadGalNetft-5e-05\n",
      "PATH: TrainedNetworks/0709Exp1-range_norm-FRDEEPAdam-AGRadGalNetft-5e-05/81.pt\n"
     ]
    },
    {
     "name": "stderr",
     "output_type": "stream",
     "text": [
      "/usr/local/anaconda-python-3.6/lib/python3.6/site-packages/torch/nn/functional.py:2479: UserWarning: Default upsampling behavior when mode=bilinear is changed to align_corners=False since 0.4.0. Please specify align_corners=True if the old behavior is desired. See the documentation of nn.Upsample for details.\n",
      "  \"See the documentation of nn.Upsample for details.\".format(mode))\n"
     ]
    },
    {
     "name": "stdout",
     "output_type": "stream",
     "text": [
      "223\t0614-MiraBestNOHYBRIDAdam-AGSononet-1e-08\n",
      "--> EVALUATING ON: MiraBestNOHYBRID\n",
      "MiraBestNOHYBRID Successfully loaded in dict of evaluated models.\n",
      "0\tplaygroundv1-0214-0.01_360Epochs.pt\n",
      "1\t0616temp-MiraBestNOHYBRIDAdam-AGSononet-0.001.pt\n",
      "2\tplaygroundv1-0217-1e-07_124Epochs.pt\n",
      "3\tplayground-0213-0.1_180Epochs.pt\n",
      "4\tplayground-0211-0.1_360Epochs.pt\n",
      "5\tplayground-0212-0.1_360Epochs.pt\n",
      "6\tplayground-0207-0.1_360Epochs.pt\n",
      "7\tplaygroundv1-0215-0.0001_124Epochs.pt\n",
      "8\t0702B-std_mean_norm-MiraBestNOHYBRIDAdam-AGRadGalNetdeep_sup-0.0001.pt\n",
      "9\tplayground-0128-0.1_500Epochs.pt\n",
      "10\tplaygroundv1-0217-0.001_124Epochs.pt\n",
      "11\tplayground-0213-0.1_64Epochs.pt\n",
      "12\tplayground-0129-0.1_500Epochs.pt\n",
      "13\tplaygroundv1-0214-0.1_360Epochs.pt\n",
      "14\tplaygroundv1-0214-0.001_361Epochs.pt\n",
      "15\tplayground-0129-0.1_360Epochs.pt\n",
      "16\tplayground-TESTING-0.001_124Epochs.pt\n",
      "17\tplaygroundv1-0215-0.001_360Epochs.pt\n",
      "18\tAGSononet-0219-0.001_360Epochs.pt\n",
      "19\tplaygroundv1-0213-0.1_5Epochs.pt\n",
      "20\tplaygroundv1-0217Adam-0.0001_124Epochs.pt\n",
      "21\tplaygroundv1-0217Adam-1e-05_360Epochs.pt\n",
      "22\tplaygroundv1-0215-0.0001_360Epochs.pt\n",
      "23\tplaygroundv1-0214-0.001_360Epochs.pt\n",
      "24\tplaygroundv1-0213-0.1_360Epochs.pt\n",
      "25\tplaygroundv1-0217Adam-1e-05_124Epochs.pt\n",
      "26\tplaygroundv1-0217Adam-1e-06_124Epochs.pt\n",
      "27\ttemp.pt\n",
      "28\tplaygroundv1-0215-1e-06_124Epochs.pt\n",
      "29\tplayground-TESTING-0.001_1Epochs.pt\n",
      "30\tplaygroundv1-0218-0.001_248Epochs.pt\n",
      "31\tplayground-0213-0.1_128Epochs.pt\n",
      "32\tplaygroundv1-0215-1e-05_124Epochs.pt\n",
      "33\tplayground-0211-0.1_50Epochs.pt\n",
      "34\tplaygroundv1-0214-1_360Epochs.pt\n",
      "35\tplayground-0129-0.1_50Epochs.pt\n",
      "36\tplayground-TESTING-0.001_16Epochs.pt\n",
      "37\tplayground-0211-0.1_180Epochs.pt\n",
      "38\tplaygroundv1-0214-0.0001_360Epochs.pt\n",
      "39\tAGSononet-0207-0.1_360Epochs.pt\n",
      "40\tplaygroundv1-0215-1e-05_360Epochs.pt\n",
      "41\tplayground-TESTING-0.001_8Epochs.pt\n",
      "42\tplaygroundv1-0218-0.001_360Epochs.pt\n",
      "43\t0703Exp1-std_mean_norm-FRDEEPAdam-AGRadGalNetft-0.0001\n",
      "44\t0703Exp1-std_mean_norm-MiraBestNOHYBRIDAdam-AGRadGalNetft-0.0001\n",
      "45\t0429-MiraBestHYBRIDSGD-playgroundv2_ft-0.0001\n",
      "46\t0429-MiraBestNOUNCSGD-playgroundv2_ft-0.0001\n",
      "47\t0614_DROPOUT-MiraBestNOHYBRIDAdam-AGSononet-1e-08\n",
      "48\t0402-MiraBestNOUNC-playgroundv2_deep_sup-0.005\n",
      "49\t0703Exp1-std_mean_norm-MiraBestNOUNCAdam-AGRadGalNetft-0.0001\n",
      "50\t0702B-std_mean_norm-MiraBestNOHYBRIDAdam-AGRadGalNetdeep_sup-0.0001\n",
      "51\t0719Exp32-range_norm-MiraBestNOHYBRIDAdam-AGRadGalNetft-5e-05\n",
      "52\t0611-MiraBestNOHYBRIDSGD-playgroundv3_ft-1e-08\n",
      "53\t0709Exp2-softmax-MiraBestNOHYBRIDAdam-AGRadGalNetdeep_sup-5e-05\n",
      "\tEvaluating ...\n",
      "PATH: TrainedNetworks/0709Exp2-softmax-MiraBestNOHYBRIDAdam-AGRadGalNetdeep_sup-5e-05\n",
      "PATH: TrainedNetworks/0709Exp2-softmax-MiraBestNOHYBRIDAdam-AGRadGalNetdeep_sup-5e-05/57.pt\n"
     ]
    },
    {
     "name": "stderr",
     "output_type": "stream",
     "text": [
      "/usr/local/anaconda-python-3.6/lib/python3.6/site-packages/torch/nn/functional.py:2479: UserWarning: Default upsampling behavior when mode=bilinear is changed to align_corners=False since 0.4.0. Please specify align_corners=True if the old behavior is desired. See the documentation of nn.Upsample for details.\n",
      "  \"See the documentation of nn.Upsample for details.\".format(mode))\n"
     ]
    },
    {
     "name": "stdout",
     "output_type": "stream",
     "text": [
      "54\t0719Exp30-range_norm-MiraBestNOHYBRIDAdam-AGRadGalNetft-5e-05\n",
      "55\t0624Exp2-std_mean_norm-MiraBestNOHYBRIDAdam-AGRadGalNetft-0.0001\n",
      "56\t0611-MiraBestNOHYBRIDAdam-playgroundv3_ft-1e-06\n",
      "57\t0630B-std_mean_norm-MiraBestNOHYBRIDAdam-AGRadGalNetdeep_sup-0.0001\n",
      "58\t0305-MiraBest-playgroundv2_deep_sup\n",
      "59\t0429-FRDEEPAdagrad-playgroundv2_ft-0.001\n",
      "60\t0429-MiraBestNOUNCAdam-playgroundv2_ft-0.0001\n",
      "61\t0429-FRDEEPSGD-playgroundv2_ft-0.0001\n",
      "62\t0608-MiraBestNOHYBRIDAdadelta-playgroundv3_ft-0.01\n",
      "63\t0429-MiraBestNOUNCAdagrad-playgroundv2_ft-0.001\n",
      "64\t0611C-MiraBestNOHYBRIDSGD-playgroundv3_ft-0.0001\n",
      "65\t0708TEMP-range_norm-MiraBestNOHYBRIDAdam-AGRadGalNetdeep_sup-0.01\n",
      "66\t0402-MiraBestNOUNC-playgroundv2_deep_sup-0.001\n",
      "67\t0709Exp2-range_norm-MiraBestNOHYBRIDAdam-AGRadGalNetdeep_sup-5e-05\n",
      "\tEvaluating ...\n",
      "PATH: TrainedNetworks/0709Exp2-range_norm-MiraBestNOHYBRIDAdam-AGRadGalNetdeep_sup-5e-05\n",
      "PATH: TrainedNetworks/0709Exp2-range_norm-MiraBestNOHYBRIDAdam-AGRadGalNetdeep_sup-5e-05/81.pt\n"
     ]
    },
    {
     "name": "stderr",
     "output_type": "stream",
     "text": [
      "/usr/local/anaconda-python-3.6/lib/python3.6/site-packages/torch/nn/functional.py:2479: UserWarning: Default upsampling behavior when mode=bilinear is changed to align_corners=False since 0.4.0. Please specify align_corners=True if the old behavior is desired. See the documentation of nn.Upsample for details.\n",
      "  \"See the documentation of nn.Upsample for details.\".format(mode))\n"
     ]
    },
    {
     "name": "stdout",
     "output_type": "stream",
     "text": [
      "68\t0611-MiraBestNOHYBRIDAdam-playgroundv3_ft-0.0001\n",
      "69\t1427-FRDEEPNOUNCAdam-transfer_original-0.0001\n",
      "70\t0709Exp2-sigmoid-MiraBestNOHYBRIDAdam-AGRadGalNetmean-5e-05\n",
      "\tEvaluating ...\n",
      "PATH: TrainedNetworks/0709Exp2-sigmoid-MiraBestNOHYBRIDAdam-AGRadGalNetmean-5e-05\n",
      "PATH: TrainedNetworks/0709Exp2-sigmoid-MiraBestNOHYBRIDAdam-AGRadGalNetmean-5e-05/98.pt\n"
     ]
    },
    {
     "name": "stderr",
     "output_type": "stream",
     "text": [
      "/usr/local/anaconda-python-3.6/lib/python3.6/site-packages/torch/nn/functional.py:2479: UserWarning: Default upsampling behavior when mode=bilinear is changed to align_corners=False since 0.4.0. Please specify align_corners=True if the old behavior is desired. See the documentation of nn.Upsample for details.\n",
      "  \"See the documentation of nn.Upsample for details.\".format(mode))\n"
     ]
    },
    {
     "name": "stdout",
     "output_type": "stream",
     "text": [
      "71\t0611-MiraBestNOHYBRIDSGD-playgroundv3_ft-0.0001\n",
      "72\t0310-MiraBestSGD-playgroundv2_ft\n",
      "73\t0708TEMP-range_norm-MiraBestNOHYBRIDAdam-AGRadGalNetdeep_sup-1e-06\n",
      "74\t0614_DROPOUT-MiraBestNOHYBRIDAdam-AGSononet-1e-06\n",
      "75\t0408-MiraBestNOHYBRIDSGD-playgroundv2_ft-0.0001\n",
      "76\t0709Exp2-sigmoid-MiraBestNOHYBRIDAdam-AGRadGalNetdeep_sup-5e-05\n",
      "\tEvaluating ...\n",
      "PATH: TrainedNetworks/0709Exp2-sigmoid-MiraBestNOHYBRIDAdam-AGRadGalNetdeep_sup-5e-05\n",
      "PATH: TrainedNetworks/0709Exp2-sigmoid-MiraBestNOHYBRIDAdam-AGRadGalNetdeep_sup-5e-05/98.pt\n"
     ]
    },
    {
     "name": "stderr",
     "output_type": "stream",
     "text": [
      "/usr/local/anaconda-python-3.6/lib/python3.6/site-packages/torch/nn/functional.py:2479: UserWarning: Default upsampling behavior when mode=bilinear is changed to align_corners=False since 0.4.0. Please specify align_corners=True if the old behavior is desired. See the documentation of nn.Upsample for details.\n",
      "  \"See the documentation of nn.Upsample for details.\".format(mode))\n"
     ]
    },
    {
     "name": "stdout",
     "output_type": "stream",
     "text": [
      "77\t0624Exp2-sigmoid-MiraBestNOHYBRIDAdam-AGRadGalNetdeep_sup-0.0001\n",
      "78\t0707Exp1-range_norm-MiraBestNOHYBRIDAdam-AGRadGalNetft-0.0001\n",
      "79\t0624Exp2-range_norm-MiraBestNOHYBRIDAdam-AGRadGalNetmean-0.0001\n",
      "80\t0608-MiraBestNOHYBRIDAdadelta-playgroundv3_ft-1e-06\n",
      "81\t0622Exp1-sigmoid-MiraBestNOHYBRIDAdam-AGRadGalNetmean-0.0001\n",
      "82\t0228-playgroundv2_mean\n",
      "83\t0617-MiraBestNOHYBRIDAdam-playgroundv4-1e-08\n",
      "84\t0709Exp2-range_norm-MiraBestNOHYBRIDAdam-AGRadGalNetft-5e-05\n",
      "\tEvaluating ...\n",
      "PATH: TrainedNetworks/0709Exp2-range_norm-MiraBestNOHYBRIDAdam-AGRadGalNetft-5e-05\n",
      "PATH: TrainedNetworks/0709Exp2-range_norm-MiraBestNOHYBRIDAdam-AGRadGalNetft-5e-05/82.pt\n"
     ]
    },
    {
     "name": "stderr",
     "output_type": "stream",
     "text": [
      "/usr/local/anaconda-python-3.6/lib/python3.6/site-packages/torch/nn/functional.py:2479: UserWarning: Default upsampling behavior when mode=bilinear is changed to align_corners=False since 0.4.0. Please specify align_corners=True if the old behavior is desired. See the documentation of nn.Upsample for details.\n",
      "  \"See the documentation of nn.Upsample for details.\".format(mode))\n"
     ]
    },
    {
     "name": "stdout",
     "output_type": "stream",
     "text": [
      "85\t0429-MiraBestNOUNCAdam-playgroundv2_ft-1e-05\n",
      "86\t0624Exp2-range_norm-MiraBestNOHYBRIDAdam-AGRadGalNetconcat-0.0001\n",
      "87\t0709Exp2-std_mean_norm-MiraBestNOHYBRIDAdam-AGRadGalNetdeep_sup-5e-05\n",
      "\tEvaluating ...\n",
      "PATH: TrainedNetworks/0709Exp2-std_mean_norm-MiraBestNOHYBRIDAdam-AGRadGalNetdeep_sup-5e-05\n",
      "PATH: TrainedNetworks/0709Exp2-std_mean_norm-MiraBestNOHYBRIDAdam-AGRadGalNetdeep_sup-5e-05/68.pt\n"
     ]
    },
    {
     "name": "stderr",
     "output_type": "stream",
     "text": [
      "/usr/local/anaconda-python-3.6/lib/python3.6/site-packages/torch/nn/functional.py:2479: UserWarning: Default upsampling behavior when mode=bilinear is changed to align_corners=False since 0.4.0. Please specify align_corners=True if the old behavior is desired. See the documentation of nn.Upsample for details.\n",
      "  \"See the documentation of nn.Upsample for details.\".format(mode))\n"
     ]
    },
    {
     "name": "stdout",
     "output_type": "stream",
     "text": [
      "88\t0709Exp1-range_norm-MiraBestNOHYBRIDAdam-AGRadGalNetft-5e-05\n",
      "\tEvaluating ...\n",
      "PATH: TrainedNetworks/0709Exp1-range_norm-MiraBestNOHYBRIDAdam-AGRadGalNetft-5e-05\n",
      "PATH: TrainedNetworks/0709Exp1-range_norm-MiraBestNOHYBRIDAdam-AGRadGalNetft-5e-05/26.pt\n"
     ]
    },
    {
     "name": "stderr",
     "output_type": "stream",
     "text": [
      "/usr/local/anaconda-python-3.6/lib/python3.6/site-packages/torch/nn/functional.py:2479: UserWarning: Default upsampling behavior when mode=bilinear is changed to align_corners=False since 0.4.0. Please specify align_corners=True if the old behavior is desired. See the documentation of nn.Upsample for details.\n",
      "  \"See the documentation of nn.Upsample for details.\".format(mode))\n"
     ]
    },
    {
     "name": "stdout",
     "output_type": "stream",
     "text": [
      "89\t0707Exp1-range_norm-FRDEEPAdam-AGRadGalNetft-0.0001\n",
      "90\t0429-MiraBestHYBRIDAdadelta-playgroundv2_ft-0.0001\n",
      "91\t0624Exp2-range_norm-MiraBestNOHYBRIDAdam-AGRadGalNetft-0.0001\n",
      "92\t0311-MiraBestSGDVariedLR-playgroundv2_deep_sup\n",
      "93\t0622Exp1-softmax-MiraBestNOHYBRIDAdam-AGRadGalNetmean-0.0001\n",
      "94\t0611-MiraBestNOHYBRIDAdam-playgroundv3_ft-1e-08\n",
      "95\t0429-MiraBestNOHYBRIDAdagrad-playgroundv2_ft-0.001\n",
      "96\t0614-MiraBestNOHYBRIDAdam-AGSononet-1e-05\n",
      "97\t0624Exp2-std_mean_norm-MiraBestNOHYBRIDAdam-AGRadGalNetconcat-0.0001\n",
      "98\t0614_DROPOUT-MiraBestNOHYBRIDAdam-AGSononet-0.001\n",
      "99\t0708Exp33-std_mean_norm-MiraBestNOHYBRIDAdam-AGRadGalNetft-5e-05\n",
      "100\t0608-MiraBestNOHYBRIDAdadelta-playgroundv3_ft-0.001\n",
      "101\t0709Exp2-std_mean_norm-MiraBestNOHYBRIDAdam-AGRadGalNetmean-5e-05\n",
      "\tEvaluating ...\n",
      "PATH: TrainedNetworks/0709Exp2-std_mean_norm-MiraBestNOHYBRIDAdam-AGRadGalNetmean-5e-05\n",
      "PATH: TrainedNetworks/0709Exp2-std_mean_norm-MiraBestNOHYBRIDAdam-AGRadGalNetmean-5e-05/93.pt\n"
     ]
    },
    {
     "name": "stderr",
     "output_type": "stream",
     "text": [
      "/usr/local/anaconda-python-3.6/lib/python3.6/site-packages/torch/nn/functional.py:2479: UserWarning: Default upsampling behavior when mode=bilinear is changed to align_corners=False since 0.4.0. Please specify align_corners=True if the old behavior is desired. See the documentation of nn.Upsample for details.\n",
      "  \"See the documentation of nn.Upsample for details.\".format(mode))\n"
     ]
    },
    {
     "name": "stdout",
     "output_type": "stream",
     "text": [
      "102\t0429-MiraBestHYBRIDAdagrad-playgroundv2_ft-0.001\n",
      "103\t0709Exp2-softmax-MiraBestNOHYBRIDAdam-AGRadGalNetconcat-5e-05\n",
      "\tEvaluating ...\n",
      "PATH: TrainedNetworks/0709Exp2-softmax-MiraBestNOHYBRIDAdam-AGRadGalNetconcat-5e-05\n",
      "PATH: TrainedNetworks/0709Exp2-softmax-MiraBestNOHYBRIDAdam-AGRadGalNetconcat-5e-05/51.pt\n"
     ]
    },
    {
     "name": "stderr",
     "output_type": "stream",
     "text": [
      "/usr/local/anaconda-python-3.6/lib/python3.6/site-packages/torch/nn/functional.py:2479: UserWarning: Default upsampling behavior when mode=bilinear is changed to align_corners=False since 0.4.0. Please specify align_corners=True if the old behavior is desired. See the documentation of nn.Upsample for details.\n",
      "  \"See the documentation of nn.Upsample for details.\".format(mode))\n"
     ]
    },
    {
     "name": "stdout",
     "output_type": "stream",
     "text": [
      "104\t0420-MiraBestNOHYBRID-playgroundv2_mean-0.0001\n",
      "105\t0624Exp2-softmax-MiraBestNOHYBRIDAdam-AGRadGalNetmean-0.0001\n",
      "106\t0617-MiraBestNOHYBRIDAdam-playgroundv4-0.0001\n",
      "107\t0422-MiraBestNOHYBRIDAdagrad-playgroundv2_mean-0.001\n",
      "108\t0611-MiraBestNOHYBRIDSGD-playgroundv3_ft-1e-10\n",
      "109\t0429-MiraBestNOHYBRIDAdam-playgroundv2_ft-0.0001\n",
      "110\t0614-MiraBestNOHYBRIDAdam-AGSononet-1e-09\n",
      "111\t0331-MiraBestNOUNC-playgroundv2_deep_sup-0.0001\n",
      "112\t0614-MiraBestNOHYBRIDAdam-AGSononet-1e-10\n",
      "113\t0624Exp2-softmax-MiraBestNOHYBRIDAdam-AGRadGalNetconcat-0.0001\n",
      "114\t0703Exp32-std_mean_norm-MiraBestNOHYBRIDAdam-AGRadGalNetft-0.0001\n",
      "115\t0616B_DROPOUT-MiraBestNOHYBRIDAdam-AGSononet-0.001\n",
      "116\t0429-FRDEEPAdam-playgroundv2_ft-0.0001\n",
      "117\t0622Exp1-std_mean_norm-MiraBestNOHYBRIDAdam-AGRadGalNetmean-0.0001\n",
      "118\t0228-playgroundv2_concat\n",
      "119\t0624Exp2-range_norm-MiraBestNOHYBRIDAdam-AGRadGalNetdeep_sup-0.0001\n",
      "120\t0423-MiraBestNOHYBRIDSGD-playgroundv2_deep_sup-0.0001\n",
      "121\t0611-MiraBestNOHYBRIDSGD-playgroundv3_ft-1e-07\n",
      "122\t0611-MiraBestNOHYBRIDSGD-playgroundv3_ft-1e-09\n",
      "123\t0611-MiraBestNOHYBRIDSGD-playgroundv3_ft-1e-05\n",
      "124\t0429-FRDEEPAdadelta-playgroundv2_ft-0.0001\n",
      "125\t0708TEMP-range_norm-MiraBestNOHYBRIDAdam-AGRadGalNetdeep_sup-1e-05\n",
      "126\t0611-MiraBestNOHYBRIDAdam-playgroundv3_ft-1e-07\n",
      "127\t0305-MiraBest-playgroundv2_mean\n",
      "128\t0708TEMP-range_norm-MiraBestNOHYBRIDAdam-AGRadGalNetdeep_sup-0.0001\n",
      "129\t0709Exp2-sigmoid-MiraBestNOHYBRIDAdam-AGRadGalNetft-5e-05\n",
      "\tEvaluating ...\n",
      "PATH: TrainedNetworks/0709Exp2-sigmoid-MiraBestNOHYBRIDAdam-AGRadGalNetft-5e-05\n",
      "PATH: TrainedNetworks/0709Exp2-sigmoid-MiraBestNOHYBRIDAdam-AGRadGalNetft-5e-05/97.pt\n"
     ]
    },
    {
     "name": "stderr",
     "output_type": "stream",
     "text": [
      "/usr/local/anaconda-python-3.6/lib/python3.6/site-packages/torch/nn/functional.py:2479: UserWarning: Default upsampling behavior when mode=bilinear is changed to align_corners=False since 0.4.0. Please specify align_corners=True if the old behavior is desired. See the documentation of nn.Upsample for details.\n",
      "  \"See the documentation of nn.Upsample for details.\".format(mode))\n"
     ]
    },
    {
     "name": "stdout",
     "output_type": "stream",
     "text": [
      "130\tTESTExp1-std_mean_norm-MiraBestNOHYBRIDAdam-AGRadGalNetft-0.0001\n",
      "131\t0311-CIFAR10-pg2_ft_CIFAR10\n",
      "132\t0617-MiraBestNOHYBRIDAdam-playgroundv4-1e-05\n",
      "133\t0630A-std_mean_norm-MiraBestNOHYBRIDAdam-AGRadGalNetdeep_sup-0.0001\n",
      "134\t0423-MiraBestNOHYBRIDSGD-playgroundv2_mean-0.0001\n",
      "135\t0422-MiraBestNOHYBRIDAdagrad-playgroundv2_concat-0.001\n",
      "136\t0307-MiraBest-playgroundv2_ft\n",
      "137\t0331-MiraBestNOUNC-playgroundv2_deep_sup\n",
      "138\t0423-MiraBestNOHYBRIDSGD-playgroundv2_concat-0.0001\n",
      "139\t0708TEMP-range_norm-MiraBestNOHYBRIDAdam-AGRadGalNetdeep_sup-0.1\n",
      "140\t0709TEMP-range_norm-MiraBestNOHYBRIDAdam-AGRadGalNetdeep_sup-5e-05\n",
      "\tEvaluating ...\n",
      "PATH: TrainedNetworks/0709TEMP-range_norm-MiraBestNOHYBRIDAdam-AGRadGalNetdeep_sup-5e-05\n",
      "PATH: TrainedNetworks/0709TEMP-range_norm-MiraBestNOHYBRIDAdam-AGRadGalNetdeep_sup-5e-05/92.pt\n"
     ]
    },
    {
     "name": "stderr",
     "output_type": "stream",
     "text": [
      "/usr/local/anaconda-python-3.6/lib/python3.6/site-packages/torch/nn/functional.py:2479: UserWarning: Default upsampling behavior when mode=bilinear is changed to align_corners=False since 0.4.0. Please specify align_corners=True if the old behavior is desired. See the documentation of nn.Upsample for details.\n",
      "  \"See the documentation of nn.Upsample for details.\".format(mode))\n"
     ]
    },
    {
     "name": "stdout",
     "output_type": "stream",
     "text": [
      "141\t0422-MiraBestNOHYBRIDAdagrad-playgroundv2_ft-0.001\n",
      "142\t0421-MiraBestNOHYBRID-playgroundv2_deep_sup-0.0001\n",
      "143\t0330-MiraBest-playgroundv2_deep_sup\n",
      "144\t0429-MiraBestNOUNCAdagrad-playgroundv2_ft-0.0001\n",
      "145\t0709Exp2-sigmoid-MiraBestNOHYBRIDAdam-AGRadGalNetconcat-5e-05\n",
      "\tEvaluating ...\n",
      "PATH: TrainedNetworks/0709Exp2-sigmoid-MiraBestNOHYBRIDAdam-AGRadGalNetconcat-5e-05\n",
      "PATH: TrainedNetworks/0709Exp2-sigmoid-MiraBestNOHYBRIDAdam-AGRadGalNetconcat-5e-05/98.pt\n"
     ]
    },
    {
     "name": "stderr",
     "output_type": "stream",
     "text": [
      "/usr/local/anaconda-python-3.6/lib/python3.6/site-packages/torch/nn/functional.py:2479: UserWarning: Default upsampling behavior when mode=bilinear is changed to align_corners=False since 0.4.0. Please specify align_corners=True if the old behavior is desired. See the documentation of nn.Upsample for details.\n",
      "  \"See the documentation of nn.Upsample for details.\".format(mode))\n"
     ]
    },
    {
     "name": "stdout",
     "output_type": "stream",
     "text": [
      "146\t0608-MiraBestNOHYBRIDAdadelta-playgroundv3_ft-1e-05\n",
      "147\t0228-playgroundv2_deep_sup\n",
      "148\t0617-MiraBestNOHYBRIDAdam-playgroundv4-0.01\n",
      "149\t0709Exp1-range_norm-MiraBestNOUNCAdam-AGRadGalNetft-5e-05\n",
      "\tEvaluating ...\n",
      "PATH: TrainedNetworks/0709Exp1-range_norm-MiraBestNOUNCAdam-AGRadGalNetft-5e-05\n",
      "PATH: TrainedNetworks/0709Exp1-range_norm-MiraBestNOUNCAdam-AGRadGalNetft-5e-05/95.pt\n"
     ]
    },
    {
     "name": "stderr",
     "output_type": "stream",
     "text": [
      "/usr/local/anaconda-python-3.6/lib/python3.6/site-packages/torch/nn/functional.py:2479: UserWarning: Default upsampling behavior when mode=bilinear is changed to align_corners=False since 0.4.0. Please specify align_corners=True if the old behavior is desired. See the documentation of nn.Upsample for details.\n",
      "  \"See the documentation of nn.Upsample for details.\".format(mode))\n"
     ]
    },
    {
     "name": "stdout",
     "output_type": "stream",
     "text": [
      "150\t0429-MiraBestNOUNCSGD-playgroundv2_ft-1e-05\n",
      "151\t0624Exp2-sigmoid-MiraBestNOHYBRIDAdam-AGRadGalNetmean-0.0001\n",
      "152\t0614-MiraBestNOHYBRIDAdam-AGSononet-1e-06\n",
      "153\t0709Exp2-range_norm-MiraBestNOHYBRIDAdam-AGRadGalNetconcat-5e-05\n",
      "\tEvaluating ...\n",
      "PATH: TrainedNetworks/0709Exp2-range_norm-MiraBestNOHYBRIDAdam-AGRadGalNetconcat-5e-05\n",
      "PATH: TrainedNetworks/0709Exp2-range_norm-MiraBestNOHYBRIDAdam-AGRadGalNetconcat-5e-05/96.pt\n"
     ]
    },
    {
     "name": "stderr",
     "output_type": "stream",
     "text": [
      "/usr/local/anaconda-python-3.6/lib/python3.6/site-packages/torch/nn/functional.py:2479: UserWarning: Default upsampling behavior when mode=bilinear is changed to align_corners=False since 0.4.0. Please specify align_corners=True if the old behavior is desired. See the documentation of nn.Upsample for details.\n",
      "  \"See the documentation of nn.Upsample for details.\".format(mode))\n"
     ]
    },
    {
     "name": "stdout",
     "output_type": "stream",
     "text": [
      "154\t0429-MiraBestHYBRIDAdam-playgroundv2_ft-0.0001\n",
      "155\t0422-MiraBestNOHYBRIDAdagrad-playgroundv2_deep_sup-0.001\n",
      "156\t0611-MiraBestNOHYBRIDSGD-playgroundv2_ft-0.0001\n",
      "157\t0624Exp2-sigmoid-MiraBestNOHYBRIDAdam-AGRadGalNetconcat-0.0001\n",
      "158\t0703Exp31-std_mean_norm-MiraBestNOHYBRIDAdam-AGRadGalNetft-0.0001\n",
      "159\t0703Exp30-std_mean_norm-MiraBestNOHYBRIDAdam-AGRadGalNetft-0.0001\n",
      "160\t0614_DROPOUT-MiraBestNOHYBRIDAdam-AGSononet-1e-05\n",
      "161\t0624Exp2-softmax-MiraBestNOHYBRIDAdam-AGRadGalNetft-0.0001\n",
      "162\t0605-MiraBestNOHYBRIDAdam-playgroundv3-1e-06\n",
      "163\t3427-FRDEEPNOUNCSGD-transfer_original-0.0001\n",
      "164\t0622Exp1-tanh-MiraBestNOHYBRIDAdam-AGRadGalNetmean-0.0001\n",
      "165\t0417-MiraBestNOHYBRID-playgroundv2_concat-0.0001\n",
      "166\t0709Exp2-std_mean_norm-MiraBestNOHYBRIDAdam-AGRadGalNetft-5e-05\n",
      "\tEvaluating ...\n",
      "PATH: TrainedNetworks/0709Exp2-std_mean_norm-MiraBestNOHYBRIDAdam-AGRadGalNetft-5e-05\n",
      "PATH: TrainedNetworks/0709Exp2-std_mean_norm-MiraBestNOHYBRIDAdam-AGRadGalNetft-5e-05/98.pt\n"
     ]
    },
    {
     "name": "stderr",
     "output_type": "stream",
     "text": [
      "/usr/local/anaconda-python-3.6/lib/python3.6/site-packages/torch/nn/functional.py:2479: UserWarning: Default upsampling behavior when mode=bilinear is changed to align_corners=False since 0.4.0. Please specify align_corners=True if the old behavior is desired. See the documentation of nn.Upsample for details.\n",
      "  \"See the documentation of nn.Upsample for details.\".format(mode))\n"
     ]
    },
    {
     "name": "stdout",
     "output_type": "stream",
     "text": [
      "167\t0624Exp2-std_mean_norm-MiraBestNOHYBRIDAdam-AGRadGalNetmean-0.0001\n",
      "168\t0614_DROPOUT-MiraBestNOHYBRIDAdam-AGSononet-0.0001\n",
      "169\t0605B-MiraBestNOHYBRIDSGD-playgroundv3-0.0001\n",
      "170\t0429-MiraBestNOUNCAdam-transfer_original-0.0001\n",
      "171\t0611-MiraBestNOHYBRIDSGD-playgroundv3_ft-0.001\n",
      "172\t0614-MiraBestNOHYBRIDAdam-AGSononet-1e-07\n",
      "173\t0611-MiraBestNOHYBRIDAdam-playgroundv3_ft-1e-10\n",
      "174\t0617-MiraBestNOHYBRIDAdam-playgroundv4-1e-06\n",
      "175\t0611-MiraBestNOHYBRIDAdam-playgroundv3_ft-1e-05\n",
      "176\t0611-MiraBestNOHYBRIDAdam-playgroundv3_ft-1e-09\n",
      "177\t0611-MiraBestNOHYBRIDSGD-playgroundv3_ft-0.01\n",
      "178\t0622Exp1-range_norm-MiraBestNOHYBRIDAdam-AGRadGalNetmean-0.0001\n",
      "179\t0616_DROPOUT-MiraBestNOHYBRIDAdam-AGSononet-0.001\n",
      "180\t0708TEMP-range_norm-MiraBestNOHYBRIDAdam-AGRadGalNetdeep_sup-5e-05\n",
      "181\t0630Exp2-sigmoid-MiraBestNOHYBRIDAdam-AGRadGalNetmean-0.0001\n",
      "182\t0707Exp1-range_norm-MiraBestNOUNCAdam-AGRadGalNetft-0.0001\n",
      "183\t0309-MiraBest-playgroundv2_ft\n",
      "184\t0624Exp2-softmax-MiraBestNOHYBRIDAdam-AGRadGalNetdeep_sup-0.0001\n",
      "185\t0331-MiraBestNOUNC-playgroundv2_deep_sup-0.01\n",
      "186\t0225-playgroundv1\n",
      "187\t0614_DROPOUT-MiraBestNOHYBRIDAdam-AGSononet-0.01\n",
      "188\t0304-MiraBest-AGSononet\n",
      "189\t0708Exp1-range_norm-FRDEEPAdam-AGRadGalNetft-0.0001\n",
      "190\t0608-MiraBestNOHYBRIDAdadelta-playgroundv3_ft-0.0001\n",
      "191\t0709Exp2-range_norm-MiraBestNOHYBRIDAdam-AGRadGalNetmean-5e-05\n",
      "\tEvaluating ...\n",
      "PATH: TrainedNetworks/0709Exp2-range_norm-MiraBestNOHYBRIDAdam-AGRadGalNetmean-5e-05\n",
      "PATH: TrainedNetworks/0709Exp2-range_norm-MiraBestNOHYBRIDAdam-AGRadGalNetmean-5e-05/98.pt\n"
     ]
    },
    {
     "name": "stderr",
     "output_type": "stream",
     "text": [
      "/usr/local/anaconda-python-3.6/lib/python3.6/site-packages/torch/nn/functional.py:2479: UserWarning: Default upsampling behavior when mode=bilinear is changed to align_corners=False since 0.4.0. Please specify align_corners=True if the old behavior is desired. See the documentation of nn.Upsample for details.\n",
      "  \"See the documentation of nn.Upsample for details.\".format(mode))\n"
     ]
    },
    {
     "name": "stdout",
     "output_type": "stream",
     "text": [
      "192\t0617A_DROPOUT_PLUS-MiraBestNOHYBRIDAdam-AGSononet-0.001\n",
      "193\t0303-MiraBest-playgroundv1\n",
      "194\t0304-MiraBest-playgroundv1\n",
      "195\t0228-playgroundv2_ft\n",
      "196\t0402-MiraBestNOUNC-playgroundv2_deep_sup-1e-05\n",
      "197\t0614_DROPOUT-MiraBestNOHYBRIDAdam-AGSononet-1e-07\n",
      "198\t0408-MiraBestNOHYBRIDSGD-playgroundv2_deep_sup-0.0001\n",
      "199\t0709Exp2-softmax-MiraBestNOHYBRIDAdam-AGRadGalNetmean-5e-05\n",
      "\tEvaluating ...\n",
      "PATH: TrainedNetworks/0709Exp2-softmax-MiraBestNOHYBRIDAdam-AGRadGalNetmean-5e-05\n",
      "PATH: TrainedNetworks/0709Exp2-softmax-MiraBestNOHYBRIDAdam-AGRadGalNetmean-5e-05/18.pt\n"
     ]
    },
    {
     "name": "stderr",
     "output_type": "stream",
     "text": [
      "/usr/local/anaconda-python-3.6/lib/python3.6/site-packages/torch/nn/functional.py:2479: UserWarning: Default upsampling behavior when mode=bilinear is changed to align_corners=False since 0.4.0. Please specify align_corners=True if the old behavior is desired. See the documentation of nn.Upsample for details.\n",
      "  \"See the documentation of nn.Upsample for details.\".format(mode))\n"
     ]
    },
    {
     "name": "stdout",
     "output_type": "stream",
     "text": [
      "200\t0624Exp2-std_mean_norm-MiraBestNOHYBRIDAdam-AGRadGalNetdeep_sup-0.0001\n",
      "201\t0224-log-playgroundv1\n",
      "202\t0423-MiraBestNOHYBRIDSGD-playgroundv2_ft-0.0001\n",
      "203\t0624Exp2-sigmoid-MiraBestNOHYBRIDAdam-AGRadGalNetft-0.0001\n",
      "204\t0429-MiraBestNOHYBRIDSGD-playgroundv2_ft-0.0001\n",
      "205\t0429-MiraBestNOUNCAdadelta-playgroundv2_ft-0.0001\n",
      "206\t0708TEMP-range_norm-MiraBestNOHYBRIDAdam-AGRadGalNetdeep_sup-0.001\n",
      "207\t0611-MiraBestNOHYBRIDAdam-playgroundv3_ft-0.001\n",
      "208\t0611-MiraBestNOHYBRIDSGD-playgroundv3_ft-1e-06\n",
      "209\t0703Exp33-std_mean_norm-MiraBestNOHYBRIDAdam-AGRadGalNetft-0.0001\n",
      "210\t0616C_DROPOUT-MiraBestNOHYBRIDAdam-AGSononet-0.001\n",
      "211\t0224-playgroundv1\n",
      "212\t0605B-MiraBestNOHYBRIDAdam-playgroundv3-1e-07\n",
      "213\t0429-MiraBestNOHYBRIDAdadelta-playgroundv2_ft-0.0001\n",
      "214\t0719Exp31-range_norm-MiraBestNOHYBRIDAdam-AGRadGalNetft-5e-05\n",
      "215\t0421-MiraBestNOHYBRID-playgroundv2_ft-0.0001\n",
      "216\t0709Exp2-softmax-MiraBestNOHYBRIDAdam-AGRadGalNetft-5e-05\n",
      "\tEvaluating ...\n",
      "PATH: TrainedNetworks/0709Exp2-softmax-MiraBestNOHYBRIDAdam-AGRadGalNetft-5e-05\n",
      "PATH: TrainedNetworks/0709Exp2-softmax-MiraBestNOHYBRIDAdam-AGRadGalNetft-5e-05/37.pt\n"
     ]
    },
    {
     "name": "stderr",
     "output_type": "stream",
     "text": [
      "/usr/local/anaconda-python-3.6/lib/python3.6/site-packages/torch/nn/functional.py:2479: UserWarning: Default upsampling behavior when mode=bilinear is changed to align_corners=False since 0.4.0. Please specify align_corners=True if the old behavior is desired. See the documentation of nn.Upsample for details.\n",
      "  \"See the documentation of nn.Upsample for details.\".format(mode))\n"
     ]
    },
    {
     "name": "stdout",
     "output_type": "stream",
     "text": [
      "217\t0331-MiraBestNOHYBRID-playgroundv2_deep_sup\n",
      "218\t0611-MiraBestNOHYBRIDAdam-playgroundv3_ft-0.01\n",
      "219\t0709Exp2-std_mean_norm-MiraBestNOHYBRIDAdam-AGRadGalNetconcat-5e-05\n",
      "\tEvaluating ...\n",
      "PATH: TrainedNetworks/0709Exp2-std_mean_norm-MiraBestNOHYBRIDAdam-AGRadGalNetconcat-5e-05\n",
      "PATH: TrainedNetworks/0709Exp2-std_mean_norm-MiraBestNOHYBRIDAdam-AGRadGalNetconcat-5e-05/97.pt\n"
     ]
    },
    {
     "name": "stderr",
     "output_type": "stream",
     "text": [
      "/usr/local/anaconda-python-3.6/lib/python3.6/site-packages/torch/nn/functional.py:2479: UserWarning: Default upsampling behavior when mode=bilinear is changed to align_corners=False since 0.4.0. Please specify align_corners=True if the old behavior is desired. See the documentation of nn.Upsample for details.\n",
      "  \"See the documentation of nn.Upsample for details.\".format(mode))\n"
     ]
    },
    {
     "name": "stdout",
     "output_type": "stream",
     "text": [
      "220\t0719Exp33-range_norm-MiraBestNOHYBRIDAdam-AGRadGalNetft-5e-05\n",
      "221\t1427-FRDEEPNOUNCSGD-transfer_original-0.0001\n",
      "222\t0709Exp1-range_norm-FRDEEPAdam-AGRadGalNetft-5e-05\n",
      "\tEvaluating ...\n",
      "PATH: TrainedNetworks/0709Exp1-range_norm-FRDEEPAdam-AGRadGalNetft-5e-05\n",
      "PATH: TrainedNetworks/0709Exp1-range_norm-FRDEEPAdam-AGRadGalNetft-5e-05/81.pt\n"
     ]
    },
    {
     "name": "stderr",
     "output_type": "stream",
     "text": [
      "/usr/local/anaconda-python-3.6/lib/python3.6/site-packages/torch/nn/functional.py:2479: UserWarning: Default upsampling behavior when mode=bilinear is changed to align_corners=False since 0.4.0. Please specify align_corners=True if the old behavior is desired. See the documentation of nn.Upsample for details.\n",
      "  \"See the documentation of nn.Upsample for details.\".format(mode))\n"
     ]
    },
    {
     "name": "stdout",
     "output_type": "stream",
     "text": [
      "223\t0614-MiraBestNOHYBRIDAdam-AGSononet-1e-08\n",
      "--> EVALUATING ON: MiraBestNOUNC\n",
      "MiraBestNOUNC Successfully loaded in dict of evaluated models.\n",
      "0\tplaygroundv1-0214-0.01_360Epochs.pt\n",
      "1\t0616temp-MiraBestNOHYBRIDAdam-AGSononet-0.001.pt\n",
      "2\tplaygroundv1-0217-1e-07_124Epochs.pt\n",
      "3\tplayground-0213-0.1_180Epochs.pt\n",
      "4\tplayground-0211-0.1_360Epochs.pt\n",
      "5\tplayground-0212-0.1_360Epochs.pt\n",
      "6\tplayground-0207-0.1_360Epochs.pt\n",
      "7\tplaygroundv1-0215-0.0001_124Epochs.pt\n",
      "8\t0702B-std_mean_norm-MiraBestNOHYBRIDAdam-AGRadGalNetdeep_sup-0.0001.pt\n",
      "9\tplayground-0128-0.1_500Epochs.pt\n",
      "10\tplaygroundv1-0217-0.001_124Epochs.pt\n",
      "11\tplayground-0213-0.1_64Epochs.pt\n",
      "12\tplayground-0129-0.1_500Epochs.pt\n",
      "13\tplaygroundv1-0214-0.1_360Epochs.pt\n",
      "14\tplaygroundv1-0214-0.001_361Epochs.pt\n",
      "15\tplayground-0129-0.1_360Epochs.pt\n",
      "16\tplayground-TESTING-0.001_124Epochs.pt\n",
      "17\tplaygroundv1-0215-0.001_360Epochs.pt\n",
      "18\tAGSononet-0219-0.001_360Epochs.pt\n",
      "19\tplaygroundv1-0213-0.1_5Epochs.pt\n",
      "20\tplaygroundv1-0217Adam-0.0001_124Epochs.pt\n",
      "21\tplaygroundv1-0217Adam-1e-05_360Epochs.pt\n",
      "22\tplaygroundv1-0215-0.0001_360Epochs.pt\n",
      "23\tplaygroundv1-0214-0.001_360Epochs.pt\n",
      "24\tplaygroundv1-0213-0.1_360Epochs.pt\n",
      "25\tplaygroundv1-0217Adam-1e-05_124Epochs.pt\n",
      "26\tplaygroundv1-0217Adam-1e-06_124Epochs.pt\n",
      "27\ttemp.pt\n",
      "28\tplaygroundv1-0215-1e-06_124Epochs.pt\n",
      "29\tplayground-TESTING-0.001_1Epochs.pt\n",
      "30\tplaygroundv1-0218-0.001_248Epochs.pt\n",
      "31\tplayground-0213-0.1_128Epochs.pt\n",
      "32\tplaygroundv1-0215-1e-05_124Epochs.pt\n",
      "33\tplayground-0211-0.1_50Epochs.pt\n",
      "34\tplaygroundv1-0214-1_360Epochs.pt\n",
      "35\tplayground-0129-0.1_50Epochs.pt\n",
      "36\tplayground-TESTING-0.001_16Epochs.pt\n",
      "37\tplayground-0211-0.1_180Epochs.pt\n",
      "38\tplaygroundv1-0214-0.0001_360Epochs.pt\n",
      "39\tAGSononet-0207-0.1_360Epochs.pt\n",
      "40\tplaygroundv1-0215-1e-05_360Epochs.pt\n",
      "41\tplayground-TESTING-0.001_8Epochs.pt\n",
      "42\tplaygroundv1-0218-0.001_360Epochs.pt\n",
      "43\t0703Exp1-std_mean_norm-FRDEEPAdam-AGRadGalNetft-0.0001\n",
      "44\t0703Exp1-std_mean_norm-MiraBestNOHYBRIDAdam-AGRadGalNetft-0.0001\n",
      "45\t0429-MiraBestHYBRIDSGD-playgroundv2_ft-0.0001\n",
      "46\t0429-MiraBestNOUNCSGD-playgroundv2_ft-0.0001\n",
      "47\t0614_DROPOUT-MiraBestNOHYBRIDAdam-AGSononet-1e-08\n",
      "48\t0402-MiraBestNOUNC-playgroundv2_deep_sup-0.005\n",
      "49\t0703Exp1-std_mean_norm-MiraBestNOUNCAdam-AGRadGalNetft-0.0001\n",
      "50\t0702B-std_mean_norm-MiraBestNOHYBRIDAdam-AGRadGalNetdeep_sup-0.0001\n",
      "51\t0719Exp32-range_norm-MiraBestNOHYBRIDAdam-AGRadGalNetft-5e-05\n",
      "52\t0611-MiraBestNOHYBRIDSGD-playgroundv3_ft-1e-08\n",
      "53\t0709Exp2-softmax-MiraBestNOHYBRIDAdam-AGRadGalNetdeep_sup-5e-05\n",
      "\tEvaluating ...\n",
      "PATH: TrainedNetworks/0709Exp2-softmax-MiraBestNOHYBRIDAdam-AGRadGalNetdeep_sup-5e-05\n",
      "PATH: TrainedNetworks/0709Exp2-softmax-MiraBestNOHYBRIDAdam-AGRadGalNetdeep_sup-5e-05/57.pt\n"
     ]
    },
    {
     "name": "stderr",
     "output_type": "stream",
     "text": [
      "/usr/local/anaconda-python-3.6/lib/python3.6/site-packages/torch/nn/functional.py:2479: UserWarning: Default upsampling behavior when mode=bilinear is changed to align_corners=False since 0.4.0. Please specify align_corners=True if the old behavior is desired. See the documentation of nn.Upsample for details.\n",
      "  \"See the documentation of nn.Upsample for details.\".format(mode))\n"
     ]
    },
    {
     "name": "stdout",
     "output_type": "stream",
     "text": [
      "54\t0719Exp30-range_norm-MiraBestNOHYBRIDAdam-AGRadGalNetft-5e-05\n",
      "55\t0624Exp2-std_mean_norm-MiraBestNOHYBRIDAdam-AGRadGalNetft-0.0001\n",
      "56\t0611-MiraBestNOHYBRIDAdam-playgroundv3_ft-1e-06\n",
      "57\t0630B-std_mean_norm-MiraBestNOHYBRIDAdam-AGRadGalNetdeep_sup-0.0001\n",
      "58\t0305-MiraBest-playgroundv2_deep_sup\n",
      "59\t0429-FRDEEPAdagrad-playgroundv2_ft-0.001\n",
      "60\t0429-MiraBestNOUNCAdam-playgroundv2_ft-0.0001\n",
      "61\t0429-FRDEEPSGD-playgroundv2_ft-0.0001\n",
      "62\t0608-MiraBestNOHYBRIDAdadelta-playgroundv3_ft-0.01\n",
      "63\t0429-MiraBestNOUNCAdagrad-playgroundv2_ft-0.001\n",
      "64\t0611C-MiraBestNOHYBRIDSGD-playgroundv3_ft-0.0001\n",
      "65\t0708TEMP-range_norm-MiraBestNOHYBRIDAdam-AGRadGalNetdeep_sup-0.01\n",
      "66\t0402-MiraBestNOUNC-playgroundv2_deep_sup-0.001\n",
      "67\t0709Exp2-range_norm-MiraBestNOHYBRIDAdam-AGRadGalNetdeep_sup-5e-05\n",
      "\tEvaluating ...\n",
      "PATH: TrainedNetworks/0709Exp2-range_norm-MiraBestNOHYBRIDAdam-AGRadGalNetdeep_sup-5e-05\n",
      "PATH: TrainedNetworks/0709Exp2-range_norm-MiraBestNOHYBRIDAdam-AGRadGalNetdeep_sup-5e-05/81.pt\n"
     ]
    },
    {
     "name": "stderr",
     "output_type": "stream",
     "text": [
      "/usr/local/anaconda-python-3.6/lib/python3.6/site-packages/torch/nn/functional.py:2479: UserWarning: Default upsampling behavior when mode=bilinear is changed to align_corners=False since 0.4.0. Please specify align_corners=True if the old behavior is desired. See the documentation of nn.Upsample for details.\n",
      "  \"See the documentation of nn.Upsample for details.\".format(mode))\n"
     ]
    },
    {
     "name": "stdout",
     "output_type": "stream",
     "text": [
      "68\t0611-MiraBestNOHYBRIDAdam-playgroundv3_ft-0.0001\n",
      "69\t1427-FRDEEPNOUNCAdam-transfer_original-0.0001\n",
      "70\t0709Exp2-sigmoid-MiraBestNOHYBRIDAdam-AGRadGalNetmean-5e-05\n",
      "\tEvaluating ...\n",
      "PATH: TrainedNetworks/0709Exp2-sigmoid-MiraBestNOHYBRIDAdam-AGRadGalNetmean-5e-05\n",
      "PATH: TrainedNetworks/0709Exp2-sigmoid-MiraBestNOHYBRIDAdam-AGRadGalNetmean-5e-05/98.pt\n"
     ]
    },
    {
     "name": "stderr",
     "output_type": "stream",
     "text": [
      "/usr/local/anaconda-python-3.6/lib/python3.6/site-packages/torch/nn/functional.py:2479: UserWarning: Default upsampling behavior when mode=bilinear is changed to align_corners=False since 0.4.0. Please specify align_corners=True if the old behavior is desired. See the documentation of nn.Upsample for details.\n",
      "  \"See the documentation of nn.Upsample for details.\".format(mode))\n"
     ]
    },
    {
     "name": "stdout",
     "output_type": "stream",
     "text": [
      "71\t0611-MiraBestNOHYBRIDSGD-playgroundv3_ft-0.0001\n",
      "72\t0310-MiraBestSGD-playgroundv2_ft\n",
      "73\t0708TEMP-range_norm-MiraBestNOHYBRIDAdam-AGRadGalNetdeep_sup-1e-06\n",
      "74\t0614_DROPOUT-MiraBestNOHYBRIDAdam-AGSononet-1e-06\n",
      "75\t0408-MiraBestNOHYBRIDSGD-playgroundv2_ft-0.0001\n",
      "76\t0709Exp2-sigmoid-MiraBestNOHYBRIDAdam-AGRadGalNetdeep_sup-5e-05\n",
      "\tEvaluating ...\n",
      "PATH: TrainedNetworks/0709Exp2-sigmoid-MiraBestNOHYBRIDAdam-AGRadGalNetdeep_sup-5e-05\n",
      "PATH: TrainedNetworks/0709Exp2-sigmoid-MiraBestNOHYBRIDAdam-AGRadGalNetdeep_sup-5e-05/98.pt\n"
     ]
    },
    {
     "name": "stderr",
     "output_type": "stream",
     "text": [
      "/usr/local/anaconda-python-3.6/lib/python3.6/site-packages/torch/nn/functional.py:2479: UserWarning: Default upsampling behavior when mode=bilinear is changed to align_corners=False since 0.4.0. Please specify align_corners=True if the old behavior is desired. See the documentation of nn.Upsample for details.\n",
      "  \"See the documentation of nn.Upsample for details.\".format(mode))\n"
     ]
    },
    {
     "name": "stdout",
     "output_type": "stream",
     "text": [
      "77\t0624Exp2-sigmoid-MiraBestNOHYBRIDAdam-AGRadGalNetdeep_sup-0.0001\n",
      "78\t0707Exp1-range_norm-MiraBestNOHYBRIDAdam-AGRadGalNetft-0.0001\n",
      "79\t0624Exp2-range_norm-MiraBestNOHYBRIDAdam-AGRadGalNetmean-0.0001\n",
      "80\t0608-MiraBestNOHYBRIDAdadelta-playgroundv3_ft-1e-06\n",
      "81\t0622Exp1-sigmoid-MiraBestNOHYBRIDAdam-AGRadGalNetmean-0.0001\n",
      "82\t0228-playgroundv2_mean\n",
      "83\t0617-MiraBestNOHYBRIDAdam-playgroundv4-1e-08\n",
      "84\t0709Exp2-range_norm-MiraBestNOHYBRIDAdam-AGRadGalNetft-5e-05\n",
      "\tEvaluating ...\n",
      "PATH: TrainedNetworks/0709Exp2-range_norm-MiraBestNOHYBRIDAdam-AGRadGalNetft-5e-05\n",
      "PATH: TrainedNetworks/0709Exp2-range_norm-MiraBestNOHYBRIDAdam-AGRadGalNetft-5e-05/82.pt\n"
     ]
    },
    {
     "name": "stderr",
     "output_type": "stream",
     "text": [
      "/usr/local/anaconda-python-3.6/lib/python3.6/site-packages/torch/nn/functional.py:2479: UserWarning: Default upsampling behavior when mode=bilinear is changed to align_corners=False since 0.4.0. Please specify align_corners=True if the old behavior is desired. See the documentation of nn.Upsample for details.\n",
      "  \"See the documentation of nn.Upsample for details.\".format(mode))\n"
     ]
    },
    {
     "name": "stdout",
     "output_type": "stream",
     "text": [
      "85\t0429-MiraBestNOUNCAdam-playgroundv2_ft-1e-05\n",
      "86\t0624Exp2-range_norm-MiraBestNOHYBRIDAdam-AGRadGalNetconcat-0.0001\n",
      "87\t0709Exp2-std_mean_norm-MiraBestNOHYBRIDAdam-AGRadGalNetdeep_sup-5e-05\n",
      "\tEvaluating ...\n",
      "PATH: TrainedNetworks/0709Exp2-std_mean_norm-MiraBestNOHYBRIDAdam-AGRadGalNetdeep_sup-5e-05\n",
      "PATH: TrainedNetworks/0709Exp2-std_mean_norm-MiraBestNOHYBRIDAdam-AGRadGalNetdeep_sup-5e-05/68.pt\n"
     ]
    },
    {
     "name": "stderr",
     "output_type": "stream",
     "text": [
      "/usr/local/anaconda-python-3.6/lib/python3.6/site-packages/torch/nn/functional.py:2479: UserWarning: Default upsampling behavior when mode=bilinear is changed to align_corners=False since 0.4.0. Please specify align_corners=True if the old behavior is desired. See the documentation of nn.Upsample for details.\n",
      "  \"See the documentation of nn.Upsample for details.\".format(mode))\n"
     ]
    },
    {
     "name": "stdout",
     "output_type": "stream",
     "text": [
      "88\t0709Exp1-range_norm-MiraBestNOHYBRIDAdam-AGRadGalNetft-5e-05\n",
      "\tEvaluating ...\n",
      "PATH: TrainedNetworks/0709Exp1-range_norm-MiraBestNOHYBRIDAdam-AGRadGalNetft-5e-05\n",
      "PATH: TrainedNetworks/0709Exp1-range_norm-MiraBestNOHYBRIDAdam-AGRadGalNetft-5e-05/26.pt\n"
     ]
    },
    {
     "name": "stderr",
     "output_type": "stream",
     "text": [
      "/usr/local/anaconda-python-3.6/lib/python3.6/site-packages/torch/nn/functional.py:2479: UserWarning: Default upsampling behavior when mode=bilinear is changed to align_corners=False since 0.4.0. Please specify align_corners=True if the old behavior is desired. See the documentation of nn.Upsample for details.\n",
      "  \"See the documentation of nn.Upsample for details.\".format(mode))\n"
     ]
    },
    {
     "name": "stdout",
     "output_type": "stream",
     "text": [
      "89\t0707Exp1-range_norm-FRDEEPAdam-AGRadGalNetft-0.0001\n",
      "90\t0429-MiraBestHYBRIDAdadelta-playgroundv2_ft-0.0001\n",
      "91\t0624Exp2-range_norm-MiraBestNOHYBRIDAdam-AGRadGalNetft-0.0001\n",
      "92\t0311-MiraBestSGDVariedLR-playgroundv2_deep_sup\n",
      "93\t0622Exp1-softmax-MiraBestNOHYBRIDAdam-AGRadGalNetmean-0.0001\n",
      "94\t0611-MiraBestNOHYBRIDAdam-playgroundv3_ft-1e-08\n",
      "95\t0429-MiraBestNOHYBRIDAdagrad-playgroundv2_ft-0.001\n",
      "96\t0614-MiraBestNOHYBRIDAdam-AGSononet-1e-05\n",
      "97\t0624Exp2-std_mean_norm-MiraBestNOHYBRIDAdam-AGRadGalNetconcat-0.0001\n",
      "98\t0614_DROPOUT-MiraBestNOHYBRIDAdam-AGSononet-0.001\n",
      "99\t0708Exp33-std_mean_norm-MiraBestNOHYBRIDAdam-AGRadGalNetft-5e-05\n",
      "100\t0608-MiraBestNOHYBRIDAdadelta-playgroundv3_ft-0.001\n",
      "101\t0709Exp2-std_mean_norm-MiraBestNOHYBRIDAdam-AGRadGalNetmean-5e-05\n",
      "\tEvaluating ...\n",
      "PATH: TrainedNetworks/0709Exp2-std_mean_norm-MiraBestNOHYBRIDAdam-AGRadGalNetmean-5e-05\n",
      "PATH: TrainedNetworks/0709Exp2-std_mean_norm-MiraBestNOHYBRIDAdam-AGRadGalNetmean-5e-05/93.pt\n"
     ]
    },
    {
     "name": "stderr",
     "output_type": "stream",
     "text": [
      "/usr/local/anaconda-python-3.6/lib/python3.6/site-packages/torch/nn/functional.py:2479: UserWarning: Default upsampling behavior when mode=bilinear is changed to align_corners=False since 0.4.0. Please specify align_corners=True if the old behavior is desired. See the documentation of nn.Upsample for details.\n",
      "  \"See the documentation of nn.Upsample for details.\".format(mode))\n"
     ]
    },
    {
     "name": "stdout",
     "output_type": "stream",
     "text": [
      "102\t0429-MiraBestHYBRIDAdagrad-playgroundv2_ft-0.001\n",
      "103\t0709Exp2-softmax-MiraBestNOHYBRIDAdam-AGRadGalNetconcat-5e-05\n",
      "\tEvaluating ...\n",
      "PATH: TrainedNetworks/0709Exp2-softmax-MiraBestNOHYBRIDAdam-AGRadGalNetconcat-5e-05\n",
      "PATH: TrainedNetworks/0709Exp2-softmax-MiraBestNOHYBRIDAdam-AGRadGalNetconcat-5e-05/51.pt\n"
     ]
    },
    {
     "name": "stderr",
     "output_type": "stream",
     "text": [
      "/usr/local/anaconda-python-3.6/lib/python3.6/site-packages/torch/nn/functional.py:2479: UserWarning: Default upsampling behavior when mode=bilinear is changed to align_corners=False since 0.4.0. Please specify align_corners=True if the old behavior is desired. See the documentation of nn.Upsample for details.\n",
      "  \"See the documentation of nn.Upsample for details.\".format(mode))\n"
     ]
    },
    {
     "name": "stdout",
     "output_type": "stream",
     "text": [
      "104\t0420-MiraBestNOHYBRID-playgroundv2_mean-0.0001\n",
      "105\t0624Exp2-softmax-MiraBestNOHYBRIDAdam-AGRadGalNetmean-0.0001\n",
      "106\t0617-MiraBestNOHYBRIDAdam-playgroundv4-0.0001\n",
      "107\t0422-MiraBestNOHYBRIDAdagrad-playgroundv2_mean-0.001\n",
      "108\t0611-MiraBestNOHYBRIDSGD-playgroundv3_ft-1e-10\n",
      "109\t0429-MiraBestNOHYBRIDAdam-playgroundv2_ft-0.0001\n",
      "110\t0614-MiraBestNOHYBRIDAdam-AGSononet-1e-09\n",
      "111\t0331-MiraBestNOUNC-playgroundv2_deep_sup-0.0001\n",
      "112\t0614-MiraBestNOHYBRIDAdam-AGSononet-1e-10\n",
      "113\t0624Exp2-softmax-MiraBestNOHYBRIDAdam-AGRadGalNetconcat-0.0001\n",
      "114\t0703Exp32-std_mean_norm-MiraBestNOHYBRIDAdam-AGRadGalNetft-0.0001\n",
      "115\t0616B_DROPOUT-MiraBestNOHYBRIDAdam-AGSononet-0.001\n",
      "116\t0429-FRDEEPAdam-playgroundv2_ft-0.0001\n",
      "117\t0622Exp1-std_mean_norm-MiraBestNOHYBRIDAdam-AGRadGalNetmean-0.0001\n",
      "118\t0228-playgroundv2_concat\n",
      "119\t0624Exp2-range_norm-MiraBestNOHYBRIDAdam-AGRadGalNetdeep_sup-0.0001\n",
      "120\t0423-MiraBestNOHYBRIDSGD-playgroundv2_deep_sup-0.0001\n",
      "121\t0611-MiraBestNOHYBRIDSGD-playgroundv3_ft-1e-07\n",
      "122\t0611-MiraBestNOHYBRIDSGD-playgroundv3_ft-1e-09\n",
      "123\t0611-MiraBestNOHYBRIDSGD-playgroundv3_ft-1e-05\n",
      "124\t0429-FRDEEPAdadelta-playgroundv2_ft-0.0001\n",
      "125\t0708TEMP-range_norm-MiraBestNOHYBRIDAdam-AGRadGalNetdeep_sup-1e-05\n",
      "126\t0611-MiraBestNOHYBRIDAdam-playgroundv3_ft-1e-07\n",
      "127\t0305-MiraBest-playgroundv2_mean\n",
      "128\t0708TEMP-range_norm-MiraBestNOHYBRIDAdam-AGRadGalNetdeep_sup-0.0001\n",
      "129\t0709Exp2-sigmoid-MiraBestNOHYBRIDAdam-AGRadGalNetft-5e-05\n",
      "\tEvaluating ...\n",
      "PATH: TrainedNetworks/0709Exp2-sigmoid-MiraBestNOHYBRIDAdam-AGRadGalNetft-5e-05\n",
      "PATH: TrainedNetworks/0709Exp2-sigmoid-MiraBestNOHYBRIDAdam-AGRadGalNetft-5e-05/97.pt\n"
     ]
    },
    {
     "name": "stderr",
     "output_type": "stream",
     "text": [
      "/usr/local/anaconda-python-3.6/lib/python3.6/site-packages/torch/nn/functional.py:2479: UserWarning: Default upsampling behavior when mode=bilinear is changed to align_corners=False since 0.4.0. Please specify align_corners=True if the old behavior is desired. See the documentation of nn.Upsample for details.\n",
      "  \"See the documentation of nn.Upsample for details.\".format(mode))\n"
     ]
    },
    {
     "name": "stdout",
     "output_type": "stream",
     "text": [
      "130\tTESTExp1-std_mean_norm-MiraBestNOHYBRIDAdam-AGRadGalNetft-0.0001\n",
      "131\t0311-CIFAR10-pg2_ft_CIFAR10\n",
      "132\t0617-MiraBestNOHYBRIDAdam-playgroundv4-1e-05\n",
      "133\t0630A-std_mean_norm-MiraBestNOHYBRIDAdam-AGRadGalNetdeep_sup-0.0001\n",
      "134\t0423-MiraBestNOHYBRIDSGD-playgroundv2_mean-0.0001\n",
      "135\t0422-MiraBestNOHYBRIDAdagrad-playgroundv2_concat-0.001\n",
      "136\t0307-MiraBest-playgroundv2_ft\n",
      "137\t0331-MiraBestNOUNC-playgroundv2_deep_sup\n",
      "138\t0423-MiraBestNOHYBRIDSGD-playgroundv2_concat-0.0001\n",
      "139\t0708TEMP-range_norm-MiraBestNOHYBRIDAdam-AGRadGalNetdeep_sup-0.1\n",
      "140\t0709TEMP-range_norm-MiraBestNOHYBRIDAdam-AGRadGalNetdeep_sup-5e-05\n",
      "\tEvaluating ...\n",
      "PATH: TrainedNetworks/0709TEMP-range_norm-MiraBestNOHYBRIDAdam-AGRadGalNetdeep_sup-5e-05\n",
      "PATH: TrainedNetworks/0709TEMP-range_norm-MiraBestNOHYBRIDAdam-AGRadGalNetdeep_sup-5e-05/92.pt\n"
     ]
    },
    {
     "name": "stderr",
     "output_type": "stream",
     "text": [
      "/usr/local/anaconda-python-3.6/lib/python3.6/site-packages/torch/nn/functional.py:2479: UserWarning: Default upsampling behavior when mode=bilinear is changed to align_corners=False since 0.4.0. Please specify align_corners=True if the old behavior is desired. See the documentation of nn.Upsample for details.\n",
      "  \"See the documentation of nn.Upsample for details.\".format(mode))\n"
     ]
    },
    {
     "name": "stdout",
     "output_type": "stream",
     "text": [
      "141\t0422-MiraBestNOHYBRIDAdagrad-playgroundv2_ft-0.001\n",
      "142\t0421-MiraBestNOHYBRID-playgroundv2_deep_sup-0.0001\n",
      "143\t0330-MiraBest-playgroundv2_deep_sup\n",
      "144\t0429-MiraBestNOUNCAdagrad-playgroundv2_ft-0.0001\n",
      "145\t0709Exp2-sigmoid-MiraBestNOHYBRIDAdam-AGRadGalNetconcat-5e-05\n",
      "\tEvaluating ...\n",
      "PATH: TrainedNetworks/0709Exp2-sigmoid-MiraBestNOHYBRIDAdam-AGRadGalNetconcat-5e-05\n",
      "PATH: TrainedNetworks/0709Exp2-sigmoid-MiraBestNOHYBRIDAdam-AGRadGalNetconcat-5e-05/98.pt\n"
     ]
    },
    {
     "name": "stderr",
     "output_type": "stream",
     "text": [
      "/usr/local/anaconda-python-3.6/lib/python3.6/site-packages/torch/nn/functional.py:2479: UserWarning: Default upsampling behavior when mode=bilinear is changed to align_corners=False since 0.4.0. Please specify align_corners=True if the old behavior is desired. See the documentation of nn.Upsample for details.\n",
      "  \"See the documentation of nn.Upsample for details.\".format(mode))\n"
     ]
    },
    {
     "name": "stdout",
     "output_type": "stream",
     "text": [
      "146\t0608-MiraBestNOHYBRIDAdadelta-playgroundv3_ft-1e-05\n",
      "147\t0228-playgroundv2_deep_sup\n",
      "148\t0617-MiraBestNOHYBRIDAdam-playgroundv4-0.01\n",
      "149\t0709Exp1-range_norm-MiraBestNOUNCAdam-AGRadGalNetft-5e-05\n",
      "\tEvaluating ...\n",
      "PATH: TrainedNetworks/0709Exp1-range_norm-MiraBestNOUNCAdam-AGRadGalNetft-5e-05\n",
      "PATH: TrainedNetworks/0709Exp1-range_norm-MiraBestNOUNCAdam-AGRadGalNetft-5e-05/95.pt\n"
     ]
    },
    {
     "name": "stderr",
     "output_type": "stream",
     "text": [
      "/usr/local/anaconda-python-3.6/lib/python3.6/site-packages/torch/nn/functional.py:2479: UserWarning: Default upsampling behavior when mode=bilinear is changed to align_corners=False since 0.4.0. Please specify align_corners=True if the old behavior is desired. See the documentation of nn.Upsample for details.\n",
      "  \"See the documentation of nn.Upsample for details.\".format(mode))\n"
     ]
    },
    {
     "name": "stdout",
     "output_type": "stream",
     "text": [
      "150\t0429-MiraBestNOUNCSGD-playgroundv2_ft-1e-05\n",
      "151\t0624Exp2-sigmoid-MiraBestNOHYBRIDAdam-AGRadGalNetmean-0.0001\n",
      "152\t0614-MiraBestNOHYBRIDAdam-AGSononet-1e-06\n",
      "153\t0709Exp2-range_norm-MiraBestNOHYBRIDAdam-AGRadGalNetconcat-5e-05\n",
      "\tEvaluating ...\n",
      "PATH: TrainedNetworks/0709Exp2-range_norm-MiraBestNOHYBRIDAdam-AGRadGalNetconcat-5e-05\n",
      "PATH: TrainedNetworks/0709Exp2-range_norm-MiraBestNOHYBRIDAdam-AGRadGalNetconcat-5e-05/96.pt\n"
     ]
    },
    {
     "name": "stderr",
     "output_type": "stream",
     "text": [
      "/usr/local/anaconda-python-3.6/lib/python3.6/site-packages/torch/nn/functional.py:2479: UserWarning: Default upsampling behavior when mode=bilinear is changed to align_corners=False since 0.4.0. Please specify align_corners=True if the old behavior is desired. See the documentation of nn.Upsample for details.\n",
      "  \"See the documentation of nn.Upsample for details.\".format(mode))\n"
     ]
    },
    {
     "name": "stdout",
     "output_type": "stream",
     "text": [
      "154\t0429-MiraBestHYBRIDAdam-playgroundv2_ft-0.0001\n",
      "155\t0422-MiraBestNOHYBRIDAdagrad-playgroundv2_deep_sup-0.001\n",
      "156\t0611-MiraBestNOHYBRIDSGD-playgroundv2_ft-0.0001\n",
      "157\t0624Exp2-sigmoid-MiraBestNOHYBRIDAdam-AGRadGalNetconcat-0.0001\n",
      "158\t0703Exp31-std_mean_norm-MiraBestNOHYBRIDAdam-AGRadGalNetft-0.0001\n",
      "159\t0703Exp30-std_mean_norm-MiraBestNOHYBRIDAdam-AGRadGalNetft-0.0001\n",
      "160\t0614_DROPOUT-MiraBestNOHYBRIDAdam-AGSononet-1e-05\n",
      "161\t0624Exp2-softmax-MiraBestNOHYBRIDAdam-AGRadGalNetft-0.0001\n",
      "162\t0605-MiraBestNOHYBRIDAdam-playgroundv3-1e-06\n",
      "163\t3427-FRDEEPNOUNCSGD-transfer_original-0.0001\n",
      "164\t0622Exp1-tanh-MiraBestNOHYBRIDAdam-AGRadGalNetmean-0.0001\n",
      "165\t0417-MiraBestNOHYBRID-playgroundv2_concat-0.0001\n",
      "166\t0709Exp2-std_mean_norm-MiraBestNOHYBRIDAdam-AGRadGalNetft-5e-05\n",
      "\tEvaluating ...\n",
      "PATH: TrainedNetworks/0709Exp2-std_mean_norm-MiraBestNOHYBRIDAdam-AGRadGalNetft-5e-05\n",
      "PATH: TrainedNetworks/0709Exp2-std_mean_norm-MiraBestNOHYBRIDAdam-AGRadGalNetft-5e-05/98.pt\n"
     ]
    },
    {
     "name": "stderr",
     "output_type": "stream",
     "text": [
      "/usr/local/anaconda-python-3.6/lib/python3.6/site-packages/torch/nn/functional.py:2479: UserWarning: Default upsampling behavior when mode=bilinear is changed to align_corners=False since 0.4.0. Please specify align_corners=True if the old behavior is desired. See the documentation of nn.Upsample for details.\n",
      "  \"See the documentation of nn.Upsample for details.\".format(mode))\n"
     ]
    },
    {
     "name": "stdout",
     "output_type": "stream",
     "text": [
      "167\t0624Exp2-std_mean_norm-MiraBestNOHYBRIDAdam-AGRadGalNetmean-0.0001\n",
      "168\t0614_DROPOUT-MiraBestNOHYBRIDAdam-AGSononet-0.0001\n",
      "169\t0605B-MiraBestNOHYBRIDSGD-playgroundv3-0.0001\n",
      "170\t0429-MiraBestNOUNCAdam-transfer_original-0.0001\n",
      "171\t0611-MiraBestNOHYBRIDSGD-playgroundv3_ft-0.001\n",
      "172\t0614-MiraBestNOHYBRIDAdam-AGSononet-1e-07\n",
      "173\t0611-MiraBestNOHYBRIDAdam-playgroundv3_ft-1e-10\n",
      "174\t0617-MiraBestNOHYBRIDAdam-playgroundv4-1e-06\n",
      "175\t0611-MiraBestNOHYBRIDAdam-playgroundv3_ft-1e-05\n",
      "176\t0611-MiraBestNOHYBRIDAdam-playgroundv3_ft-1e-09\n",
      "177\t0611-MiraBestNOHYBRIDSGD-playgroundv3_ft-0.01\n",
      "178\t0622Exp1-range_norm-MiraBestNOHYBRIDAdam-AGRadGalNetmean-0.0001\n",
      "179\t0616_DROPOUT-MiraBestNOHYBRIDAdam-AGSononet-0.001\n",
      "180\t0708TEMP-range_norm-MiraBestNOHYBRIDAdam-AGRadGalNetdeep_sup-5e-05\n",
      "181\t0630Exp2-sigmoid-MiraBestNOHYBRIDAdam-AGRadGalNetmean-0.0001\n",
      "182\t0707Exp1-range_norm-MiraBestNOUNCAdam-AGRadGalNetft-0.0001\n",
      "183\t0309-MiraBest-playgroundv2_ft\n",
      "184\t0624Exp2-softmax-MiraBestNOHYBRIDAdam-AGRadGalNetdeep_sup-0.0001\n",
      "185\t0331-MiraBestNOUNC-playgroundv2_deep_sup-0.01\n",
      "186\t0225-playgroundv1\n",
      "187\t0614_DROPOUT-MiraBestNOHYBRIDAdam-AGSononet-0.01\n",
      "188\t0304-MiraBest-AGSononet\n",
      "189\t0708Exp1-range_norm-FRDEEPAdam-AGRadGalNetft-0.0001\n",
      "190\t0608-MiraBestNOHYBRIDAdadelta-playgroundv3_ft-0.0001\n",
      "191\t0709Exp2-range_norm-MiraBestNOHYBRIDAdam-AGRadGalNetmean-5e-05\n",
      "\tEvaluating ...\n",
      "PATH: TrainedNetworks/0709Exp2-range_norm-MiraBestNOHYBRIDAdam-AGRadGalNetmean-5e-05\n",
      "PATH: TrainedNetworks/0709Exp2-range_norm-MiraBestNOHYBRIDAdam-AGRadGalNetmean-5e-05/98.pt\n"
     ]
    },
    {
     "name": "stderr",
     "output_type": "stream",
     "text": [
      "/usr/local/anaconda-python-3.6/lib/python3.6/site-packages/torch/nn/functional.py:2479: UserWarning: Default upsampling behavior when mode=bilinear is changed to align_corners=False since 0.4.0. Please specify align_corners=True if the old behavior is desired. See the documentation of nn.Upsample for details.\n",
      "  \"See the documentation of nn.Upsample for details.\".format(mode))\n"
     ]
    },
    {
     "name": "stdout",
     "output_type": "stream",
     "text": [
      "192\t0617A_DROPOUT_PLUS-MiraBestNOHYBRIDAdam-AGSononet-0.001\n",
      "193\t0303-MiraBest-playgroundv1\n",
      "194\t0304-MiraBest-playgroundv1\n",
      "195\t0228-playgroundv2_ft\n",
      "196\t0402-MiraBestNOUNC-playgroundv2_deep_sup-1e-05\n",
      "197\t0614_DROPOUT-MiraBestNOHYBRIDAdam-AGSononet-1e-07\n",
      "198\t0408-MiraBestNOHYBRIDSGD-playgroundv2_deep_sup-0.0001\n",
      "199\t0709Exp2-softmax-MiraBestNOHYBRIDAdam-AGRadGalNetmean-5e-05\n",
      "\tEvaluating ...\n",
      "PATH: TrainedNetworks/0709Exp2-softmax-MiraBestNOHYBRIDAdam-AGRadGalNetmean-5e-05\n",
      "PATH: TrainedNetworks/0709Exp2-softmax-MiraBestNOHYBRIDAdam-AGRadGalNetmean-5e-05/18.pt\n"
     ]
    },
    {
     "name": "stderr",
     "output_type": "stream",
     "text": [
      "/usr/local/anaconda-python-3.6/lib/python3.6/site-packages/torch/nn/functional.py:2479: UserWarning: Default upsampling behavior when mode=bilinear is changed to align_corners=False since 0.4.0. Please specify align_corners=True if the old behavior is desired. See the documentation of nn.Upsample for details.\n",
      "  \"See the documentation of nn.Upsample for details.\".format(mode))\n"
     ]
    },
    {
     "name": "stdout",
     "output_type": "stream",
     "text": [
      "200\t0624Exp2-std_mean_norm-MiraBestNOHYBRIDAdam-AGRadGalNetdeep_sup-0.0001\n",
      "201\t0224-log-playgroundv1\n",
      "202\t0423-MiraBestNOHYBRIDSGD-playgroundv2_ft-0.0001\n",
      "203\t0624Exp2-sigmoid-MiraBestNOHYBRIDAdam-AGRadGalNetft-0.0001\n",
      "204\t0429-MiraBestNOHYBRIDSGD-playgroundv2_ft-0.0001\n",
      "205\t0429-MiraBestNOUNCAdadelta-playgroundv2_ft-0.0001\n",
      "206\t0708TEMP-range_norm-MiraBestNOHYBRIDAdam-AGRadGalNetdeep_sup-0.001\n",
      "207\t0611-MiraBestNOHYBRIDAdam-playgroundv3_ft-0.001\n",
      "208\t0611-MiraBestNOHYBRIDSGD-playgroundv3_ft-1e-06\n",
      "209\t0703Exp33-std_mean_norm-MiraBestNOHYBRIDAdam-AGRadGalNetft-0.0001\n",
      "210\t0616C_DROPOUT-MiraBestNOHYBRIDAdam-AGSononet-0.001\n",
      "211\t0224-playgroundv1\n",
      "212\t0605B-MiraBestNOHYBRIDAdam-playgroundv3-1e-07\n",
      "213\t0429-MiraBestNOHYBRIDAdadelta-playgroundv2_ft-0.0001\n",
      "214\t0719Exp31-range_norm-MiraBestNOHYBRIDAdam-AGRadGalNetft-5e-05\n",
      "215\t0421-MiraBestNOHYBRID-playgroundv2_ft-0.0001\n",
      "216\t0709Exp2-softmax-MiraBestNOHYBRIDAdam-AGRadGalNetft-5e-05\n",
      "\tEvaluating ...\n",
      "PATH: TrainedNetworks/0709Exp2-softmax-MiraBestNOHYBRIDAdam-AGRadGalNetft-5e-05\n",
      "PATH: TrainedNetworks/0709Exp2-softmax-MiraBestNOHYBRIDAdam-AGRadGalNetft-5e-05/37.pt\n"
     ]
    },
    {
     "name": "stderr",
     "output_type": "stream",
     "text": [
      "/usr/local/anaconda-python-3.6/lib/python3.6/site-packages/torch/nn/functional.py:2479: UserWarning: Default upsampling behavior when mode=bilinear is changed to align_corners=False since 0.4.0. Please specify align_corners=True if the old behavior is desired. See the documentation of nn.Upsample for details.\n",
      "  \"See the documentation of nn.Upsample for details.\".format(mode))\n"
     ]
    },
    {
     "name": "stdout",
     "output_type": "stream",
     "text": [
      "217\t0331-MiraBestNOHYBRID-playgroundv2_deep_sup\n",
      "218\t0611-MiraBestNOHYBRIDAdam-playgroundv3_ft-0.01\n",
      "219\t0709Exp2-std_mean_norm-MiraBestNOHYBRIDAdam-AGRadGalNetconcat-5e-05\n",
      "\tEvaluating ...\n",
      "PATH: TrainedNetworks/0709Exp2-std_mean_norm-MiraBestNOHYBRIDAdam-AGRadGalNetconcat-5e-05\n",
      "PATH: TrainedNetworks/0709Exp2-std_mean_norm-MiraBestNOHYBRIDAdam-AGRadGalNetconcat-5e-05/97.pt\n"
     ]
    },
    {
     "name": "stderr",
     "output_type": "stream",
     "text": [
      "/usr/local/anaconda-python-3.6/lib/python3.6/site-packages/torch/nn/functional.py:2479: UserWarning: Default upsampling behavior when mode=bilinear is changed to align_corners=False since 0.4.0. Please specify align_corners=True if the old behavior is desired. See the documentation of nn.Upsample for details.\n",
      "  \"See the documentation of nn.Upsample for details.\".format(mode))\n"
     ]
    },
    {
     "name": "stdout",
     "output_type": "stream",
     "text": [
      "220\t0719Exp33-range_norm-MiraBestNOHYBRIDAdam-AGRadGalNetft-5e-05\n",
      "221\t1427-FRDEEPNOUNCSGD-transfer_original-0.0001\n",
      "222\t0709Exp1-range_norm-FRDEEPAdam-AGRadGalNetft-5e-05\n",
      "\tEvaluating ...\n",
      "PATH: TrainedNetworks/0709Exp1-range_norm-FRDEEPAdam-AGRadGalNetft-5e-05\n",
      "PATH: TrainedNetworks/0709Exp1-range_norm-FRDEEPAdam-AGRadGalNetft-5e-05/81.pt\n"
     ]
    },
    {
     "name": "stderr",
     "output_type": "stream",
     "text": [
      "/usr/local/anaconda-python-3.6/lib/python3.6/site-packages/torch/nn/functional.py:2479: UserWarning: Default upsampling behavior when mode=bilinear is changed to align_corners=False since 0.4.0. Please specify align_corners=True if the old behavior is desired. See the documentation of nn.Upsample for details.\n",
      "  \"See the documentation of nn.Upsample for details.\".format(mode))\n"
     ]
    },
    {
     "name": "stdout",
     "output_type": "stream",
     "text": [
      "223\t0614-MiraBestNOHYBRIDAdam-AGSononet-1e-08\n",
      "--> EVALUATING ON: automatic\n",
      "automatic Successfully loaded in dict of evaluated models.\n",
      "0\tplaygroundv1-0214-0.01_360Epochs.pt\n",
      "1\t0616temp-MiraBestNOHYBRIDAdam-AGSononet-0.001.pt\n",
      "2\tplaygroundv1-0217-1e-07_124Epochs.pt\n",
      "3\tplayground-0213-0.1_180Epochs.pt\n",
      "4\tplayground-0211-0.1_360Epochs.pt\n",
      "5\tplayground-0212-0.1_360Epochs.pt\n",
      "6\tplayground-0207-0.1_360Epochs.pt\n",
      "7\tplaygroundv1-0215-0.0001_124Epochs.pt\n",
      "8\t0702B-std_mean_norm-MiraBestNOHYBRIDAdam-AGRadGalNetdeep_sup-0.0001.pt\n",
      "9\tplayground-0128-0.1_500Epochs.pt\n",
      "10\tplaygroundv1-0217-0.001_124Epochs.pt\n",
      "11\tplayground-0213-0.1_64Epochs.pt\n",
      "12\tplayground-0129-0.1_500Epochs.pt\n",
      "13\tplaygroundv1-0214-0.1_360Epochs.pt\n",
      "14\tplaygroundv1-0214-0.001_361Epochs.pt\n",
      "15\tplayground-0129-0.1_360Epochs.pt\n",
      "16\tplayground-TESTING-0.001_124Epochs.pt\n",
      "17\tplaygroundv1-0215-0.001_360Epochs.pt\n",
      "18\tAGSononet-0219-0.001_360Epochs.pt\n",
      "19\tplaygroundv1-0213-0.1_5Epochs.pt\n",
      "20\tplaygroundv1-0217Adam-0.0001_124Epochs.pt\n",
      "21\tplaygroundv1-0217Adam-1e-05_360Epochs.pt\n",
      "22\tplaygroundv1-0215-0.0001_360Epochs.pt\n",
      "23\tplaygroundv1-0214-0.001_360Epochs.pt\n",
      "24\tplaygroundv1-0213-0.1_360Epochs.pt\n",
      "25\tplaygroundv1-0217Adam-1e-05_124Epochs.pt\n",
      "26\tplaygroundv1-0217Adam-1e-06_124Epochs.pt\n",
      "27\ttemp.pt\n",
      "28\tplaygroundv1-0215-1e-06_124Epochs.pt\n",
      "29\tplayground-TESTING-0.001_1Epochs.pt\n",
      "30\tplaygroundv1-0218-0.001_248Epochs.pt\n",
      "31\tplayground-0213-0.1_128Epochs.pt\n",
      "32\tplaygroundv1-0215-1e-05_124Epochs.pt\n",
      "33\tplayground-0211-0.1_50Epochs.pt\n",
      "34\tplaygroundv1-0214-1_360Epochs.pt\n",
      "35\tplayground-0129-0.1_50Epochs.pt\n",
      "36\tplayground-TESTING-0.001_16Epochs.pt\n",
      "37\tplayground-0211-0.1_180Epochs.pt\n",
      "38\tplaygroundv1-0214-0.0001_360Epochs.pt\n",
      "39\tAGSononet-0207-0.1_360Epochs.pt\n",
      "40\tplaygroundv1-0215-1e-05_360Epochs.pt\n",
      "41\tplayground-TESTING-0.001_8Epochs.pt\n",
      "42\tplaygroundv1-0218-0.001_360Epochs.pt\n",
      "43\t0703Exp1-std_mean_norm-FRDEEPAdam-AGRadGalNetft-0.0001\n",
      "44\t0703Exp1-std_mean_norm-MiraBestNOHYBRIDAdam-AGRadGalNetft-0.0001\n",
      "45\t0429-MiraBestHYBRIDSGD-playgroundv2_ft-0.0001\n",
      "46\t0429-MiraBestNOUNCSGD-playgroundv2_ft-0.0001\n",
      "47\t0614_DROPOUT-MiraBestNOHYBRIDAdam-AGSononet-1e-08\n",
      "48\t0402-MiraBestNOUNC-playgroundv2_deep_sup-0.005\n",
      "49\t0703Exp1-std_mean_norm-MiraBestNOUNCAdam-AGRadGalNetft-0.0001\n",
      "50\t0702B-std_mean_norm-MiraBestNOHYBRIDAdam-AGRadGalNetdeep_sup-0.0001\n",
      "51\t0719Exp32-range_norm-MiraBestNOHYBRIDAdam-AGRadGalNetft-5e-05\n",
      "52\t0611-MiraBestNOHYBRIDSGD-playgroundv3_ft-1e-08\n",
      "53\t0709Exp2-softmax-MiraBestNOHYBRIDAdam-AGRadGalNetdeep_sup-5e-05\n",
      "\tEvaluating ...\n",
      "PATH: TrainedNetworks/0709Exp2-softmax-MiraBestNOHYBRIDAdam-AGRadGalNetdeep_sup-5e-05\n",
      "PATH: TrainedNetworks/0709Exp2-softmax-MiraBestNOHYBRIDAdam-AGRadGalNetdeep_sup-5e-05/57.pt\n"
     ]
    },
    {
     "name": "stderr",
     "output_type": "stream",
     "text": [
      "/usr/local/anaconda-python-3.6/lib/python3.6/site-packages/torch/nn/functional.py:2479: UserWarning: Default upsampling behavior when mode=bilinear is changed to align_corners=False since 0.4.0. Please specify align_corners=True if the old behavior is desired. See the documentation of nn.Upsample for details.\n",
      "  \"See the documentation of nn.Upsample for details.\".format(mode))\n"
     ]
    },
    {
     "name": "stdout",
     "output_type": "stream",
     "text": [
      "54\t0719Exp30-range_norm-MiraBestNOHYBRIDAdam-AGRadGalNetft-5e-05\n",
      "55\t0624Exp2-std_mean_norm-MiraBestNOHYBRIDAdam-AGRadGalNetft-0.0001\n",
      "56\t0611-MiraBestNOHYBRIDAdam-playgroundv3_ft-1e-06\n",
      "57\t0630B-std_mean_norm-MiraBestNOHYBRIDAdam-AGRadGalNetdeep_sup-0.0001\n",
      "58\t0305-MiraBest-playgroundv2_deep_sup\n",
      "59\t0429-FRDEEPAdagrad-playgroundv2_ft-0.001\n",
      "60\t0429-MiraBestNOUNCAdam-playgroundv2_ft-0.0001\n",
      "61\t0429-FRDEEPSGD-playgroundv2_ft-0.0001\n",
      "62\t0608-MiraBestNOHYBRIDAdadelta-playgroundv3_ft-0.01\n",
      "63\t0429-MiraBestNOUNCAdagrad-playgroundv2_ft-0.001\n",
      "64\t0611C-MiraBestNOHYBRIDSGD-playgroundv3_ft-0.0001\n",
      "65\t0708TEMP-range_norm-MiraBestNOHYBRIDAdam-AGRadGalNetdeep_sup-0.01\n",
      "66\t0402-MiraBestNOUNC-playgroundv2_deep_sup-0.001\n",
      "67\t0709Exp2-range_norm-MiraBestNOHYBRIDAdam-AGRadGalNetdeep_sup-5e-05\n",
      "\tEvaluating ...\n",
      "PATH: TrainedNetworks/0709Exp2-range_norm-MiraBestNOHYBRIDAdam-AGRadGalNetdeep_sup-5e-05\n",
      "PATH: TrainedNetworks/0709Exp2-range_norm-MiraBestNOHYBRIDAdam-AGRadGalNetdeep_sup-5e-05/81.pt\n"
     ]
    },
    {
     "name": "stderr",
     "output_type": "stream",
     "text": [
      "/usr/local/anaconda-python-3.6/lib/python3.6/site-packages/torch/nn/functional.py:2479: UserWarning: Default upsampling behavior when mode=bilinear is changed to align_corners=False since 0.4.0. Please specify align_corners=True if the old behavior is desired. See the documentation of nn.Upsample for details.\n",
      "  \"See the documentation of nn.Upsample for details.\".format(mode))\n"
     ]
    },
    {
     "name": "stdout",
     "output_type": "stream",
     "text": [
      "68\t0611-MiraBestNOHYBRIDAdam-playgroundv3_ft-0.0001\n",
      "69\t1427-FRDEEPNOUNCAdam-transfer_original-0.0001\n",
      "70\t0709Exp2-sigmoid-MiraBestNOHYBRIDAdam-AGRadGalNetmean-5e-05\n",
      "\tEvaluating ...\n",
      "PATH: TrainedNetworks/0709Exp2-sigmoid-MiraBestNOHYBRIDAdam-AGRadGalNetmean-5e-05\n",
      "PATH: TrainedNetworks/0709Exp2-sigmoid-MiraBestNOHYBRIDAdam-AGRadGalNetmean-5e-05/98.pt\n"
     ]
    },
    {
     "name": "stderr",
     "output_type": "stream",
     "text": [
      "/usr/local/anaconda-python-3.6/lib/python3.6/site-packages/torch/nn/functional.py:2479: UserWarning: Default upsampling behavior when mode=bilinear is changed to align_corners=False since 0.4.0. Please specify align_corners=True if the old behavior is desired. See the documentation of nn.Upsample for details.\n",
      "  \"See the documentation of nn.Upsample for details.\".format(mode))\n"
     ]
    },
    {
     "name": "stdout",
     "output_type": "stream",
     "text": [
      "71\t0611-MiraBestNOHYBRIDSGD-playgroundv3_ft-0.0001\n",
      "72\t0310-MiraBestSGD-playgroundv2_ft\n",
      "73\t0708TEMP-range_norm-MiraBestNOHYBRIDAdam-AGRadGalNetdeep_sup-1e-06\n",
      "74\t0614_DROPOUT-MiraBestNOHYBRIDAdam-AGSononet-1e-06\n",
      "75\t0408-MiraBestNOHYBRIDSGD-playgroundv2_ft-0.0001\n",
      "76\t0709Exp2-sigmoid-MiraBestNOHYBRIDAdam-AGRadGalNetdeep_sup-5e-05\n",
      "\tEvaluating ...\n",
      "PATH: TrainedNetworks/0709Exp2-sigmoid-MiraBestNOHYBRIDAdam-AGRadGalNetdeep_sup-5e-05\n",
      "PATH: TrainedNetworks/0709Exp2-sigmoid-MiraBestNOHYBRIDAdam-AGRadGalNetdeep_sup-5e-05/98.pt\n"
     ]
    },
    {
     "name": "stderr",
     "output_type": "stream",
     "text": [
      "/usr/local/anaconda-python-3.6/lib/python3.6/site-packages/torch/nn/functional.py:2479: UserWarning: Default upsampling behavior when mode=bilinear is changed to align_corners=False since 0.4.0. Please specify align_corners=True if the old behavior is desired. See the documentation of nn.Upsample for details.\n",
      "  \"See the documentation of nn.Upsample for details.\".format(mode))\n"
     ]
    },
    {
     "name": "stdout",
     "output_type": "stream",
     "text": [
      "77\t0624Exp2-sigmoid-MiraBestNOHYBRIDAdam-AGRadGalNetdeep_sup-0.0001\n",
      "78\t0707Exp1-range_norm-MiraBestNOHYBRIDAdam-AGRadGalNetft-0.0001\n",
      "79\t0624Exp2-range_norm-MiraBestNOHYBRIDAdam-AGRadGalNetmean-0.0001\n",
      "80\t0608-MiraBestNOHYBRIDAdadelta-playgroundv3_ft-1e-06\n",
      "81\t0622Exp1-sigmoid-MiraBestNOHYBRIDAdam-AGRadGalNetmean-0.0001\n",
      "82\t0228-playgroundv2_mean\n",
      "83\t0617-MiraBestNOHYBRIDAdam-playgroundv4-1e-08\n",
      "84\t0709Exp2-range_norm-MiraBestNOHYBRIDAdam-AGRadGalNetft-5e-05\n",
      "\tEvaluating ...\n",
      "PATH: TrainedNetworks/0709Exp2-range_norm-MiraBestNOHYBRIDAdam-AGRadGalNetft-5e-05\n",
      "PATH: TrainedNetworks/0709Exp2-range_norm-MiraBestNOHYBRIDAdam-AGRadGalNetft-5e-05/82.pt\n"
     ]
    },
    {
     "name": "stderr",
     "output_type": "stream",
     "text": [
      "/usr/local/anaconda-python-3.6/lib/python3.6/site-packages/torch/nn/functional.py:2479: UserWarning: Default upsampling behavior when mode=bilinear is changed to align_corners=False since 0.4.0. Please specify align_corners=True if the old behavior is desired. See the documentation of nn.Upsample for details.\n",
      "  \"See the documentation of nn.Upsample for details.\".format(mode))\n"
     ]
    },
    {
     "name": "stdout",
     "output_type": "stream",
     "text": [
      "85\t0429-MiraBestNOUNCAdam-playgroundv2_ft-1e-05\n",
      "86\t0624Exp2-range_norm-MiraBestNOHYBRIDAdam-AGRadGalNetconcat-0.0001\n",
      "87\t0709Exp2-std_mean_norm-MiraBestNOHYBRIDAdam-AGRadGalNetdeep_sup-5e-05\n",
      "\tEvaluating ...\n",
      "PATH: TrainedNetworks/0709Exp2-std_mean_norm-MiraBestNOHYBRIDAdam-AGRadGalNetdeep_sup-5e-05\n",
      "PATH: TrainedNetworks/0709Exp2-std_mean_norm-MiraBestNOHYBRIDAdam-AGRadGalNetdeep_sup-5e-05/68.pt\n"
     ]
    },
    {
     "name": "stderr",
     "output_type": "stream",
     "text": [
      "/usr/local/anaconda-python-3.6/lib/python3.6/site-packages/torch/nn/functional.py:2479: UserWarning: Default upsampling behavior when mode=bilinear is changed to align_corners=False since 0.4.0. Please specify align_corners=True if the old behavior is desired. See the documentation of nn.Upsample for details.\n",
      "  \"See the documentation of nn.Upsample for details.\".format(mode))\n"
     ]
    },
    {
     "name": "stdout",
     "output_type": "stream",
     "text": [
      "88\t0709Exp1-range_norm-MiraBestNOHYBRIDAdam-AGRadGalNetft-5e-05\n",
      "\tEvaluating ...\n",
      "PATH: TrainedNetworks/0709Exp1-range_norm-MiraBestNOHYBRIDAdam-AGRadGalNetft-5e-05\n",
      "PATH: TrainedNetworks/0709Exp1-range_norm-MiraBestNOHYBRIDAdam-AGRadGalNetft-5e-05/26.pt\n"
     ]
    },
    {
     "name": "stderr",
     "output_type": "stream",
     "text": [
      "/usr/local/anaconda-python-3.6/lib/python3.6/site-packages/torch/nn/functional.py:2479: UserWarning: Default upsampling behavior when mode=bilinear is changed to align_corners=False since 0.4.0. Please specify align_corners=True if the old behavior is desired. See the documentation of nn.Upsample for details.\n",
      "  \"See the documentation of nn.Upsample for details.\".format(mode))\n"
     ]
    },
    {
     "name": "stdout",
     "output_type": "stream",
     "text": [
      "89\t0707Exp1-range_norm-FRDEEPAdam-AGRadGalNetft-0.0001\n",
      "90\t0429-MiraBestHYBRIDAdadelta-playgroundv2_ft-0.0001\n",
      "91\t0624Exp2-range_norm-MiraBestNOHYBRIDAdam-AGRadGalNetft-0.0001\n",
      "92\t0311-MiraBestSGDVariedLR-playgroundv2_deep_sup\n",
      "93\t0622Exp1-softmax-MiraBestNOHYBRIDAdam-AGRadGalNetmean-0.0001\n",
      "94\t0611-MiraBestNOHYBRIDAdam-playgroundv3_ft-1e-08\n",
      "95\t0429-MiraBestNOHYBRIDAdagrad-playgroundv2_ft-0.001\n",
      "96\t0614-MiraBestNOHYBRIDAdam-AGSononet-1e-05\n",
      "97\t0624Exp2-std_mean_norm-MiraBestNOHYBRIDAdam-AGRadGalNetconcat-0.0001\n",
      "98\t0614_DROPOUT-MiraBestNOHYBRIDAdam-AGSononet-0.001\n",
      "99\t0708Exp33-std_mean_norm-MiraBestNOHYBRIDAdam-AGRadGalNetft-5e-05\n",
      "100\t0608-MiraBestNOHYBRIDAdadelta-playgroundv3_ft-0.001\n",
      "101\t0709Exp2-std_mean_norm-MiraBestNOHYBRIDAdam-AGRadGalNetmean-5e-05\n",
      "\tEvaluating ...\n",
      "PATH: TrainedNetworks/0709Exp2-std_mean_norm-MiraBestNOHYBRIDAdam-AGRadGalNetmean-5e-05\n",
      "PATH: TrainedNetworks/0709Exp2-std_mean_norm-MiraBestNOHYBRIDAdam-AGRadGalNetmean-5e-05/93.pt\n"
     ]
    },
    {
     "name": "stderr",
     "output_type": "stream",
     "text": [
      "/usr/local/anaconda-python-3.6/lib/python3.6/site-packages/torch/nn/functional.py:2479: UserWarning: Default upsampling behavior when mode=bilinear is changed to align_corners=False since 0.4.0. Please specify align_corners=True if the old behavior is desired. See the documentation of nn.Upsample for details.\n",
      "  \"See the documentation of nn.Upsample for details.\".format(mode))\n"
     ]
    },
    {
     "name": "stdout",
     "output_type": "stream",
     "text": [
      "102\t0429-MiraBestHYBRIDAdagrad-playgroundv2_ft-0.001\n",
      "103\t0709Exp2-softmax-MiraBestNOHYBRIDAdam-AGRadGalNetconcat-5e-05\n",
      "\tEvaluating ...\n",
      "PATH: TrainedNetworks/0709Exp2-softmax-MiraBestNOHYBRIDAdam-AGRadGalNetconcat-5e-05\n",
      "PATH: TrainedNetworks/0709Exp2-softmax-MiraBestNOHYBRIDAdam-AGRadGalNetconcat-5e-05/51.pt\n"
     ]
    },
    {
     "name": "stderr",
     "output_type": "stream",
     "text": [
      "/usr/local/anaconda-python-3.6/lib/python3.6/site-packages/torch/nn/functional.py:2479: UserWarning: Default upsampling behavior when mode=bilinear is changed to align_corners=False since 0.4.0. Please specify align_corners=True if the old behavior is desired. See the documentation of nn.Upsample for details.\n",
      "  \"See the documentation of nn.Upsample for details.\".format(mode))\n"
     ]
    },
    {
     "name": "stdout",
     "output_type": "stream",
     "text": [
      "104\t0420-MiraBestNOHYBRID-playgroundv2_mean-0.0001\n",
      "105\t0624Exp2-softmax-MiraBestNOHYBRIDAdam-AGRadGalNetmean-0.0001\n",
      "106\t0617-MiraBestNOHYBRIDAdam-playgroundv4-0.0001\n",
      "107\t0422-MiraBestNOHYBRIDAdagrad-playgroundv2_mean-0.001\n",
      "108\t0611-MiraBestNOHYBRIDSGD-playgroundv3_ft-1e-10\n",
      "109\t0429-MiraBestNOHYBRIDAdam-playgroundv2_ft-0.0001\n",
      "110\t0614-MiraBestNOHYBRIDAdam-AGSononet-1e-09\n",
      "111\t0331-MiraBestNOUNC-playgroundv2_deep_sup-0.0001\n",
      "112\t0614-MiraBestNOHYBRIDAdam-AGSononet-1e-10\n",
      "113\t0624Exp2-softmax-MiraBestNOHYBRIDAdam-AGRadGalNetconcat-0.0001\n",
      "114\t0703Exp32-std_mean_norm-MiraBestNOHYBRIDAdam-AGRadGalNetft-0.0001\n",
      "115\t0616B_DROPOUT-MiraBestNOHYBRIDAdam-AGSononet-0.001\n",
      "116\t0429-FRDEEPAdam-playgroundv2_ft-0.0001\n",
      "117\t0622Exp1-std_mean_norm-MiraBestNOHYBRIDAdam-AGRadGalNetmean-0.0001\n",
      "118\t0228-playgroundv2_concat\n",
      "119\t0624Exp2-range_norm-MiraBestNOHYBRIDAdam-AGRadGalNetdeep_sup-0.0001\n",
      "120\t0423-MiraBestNOHYBRIDSGD-playgroundv2_deep_sup-0.0001\n",
      "121\t0611-MiraBestNOHYBRIDSGD-playgroundv3_ft-1e-07\n",
      "122\t0611-MiraBestNOHYBRIDSGD-playgroundv3_ft-1e-09\n",
      "123\t0611-MiraBestNOHYBRIDSGD-playgroundv3_ft-1e-05\n",
      "124\t0429-FRDEEPAdadelta-playgroundv2_ft-0.0001\n",
      "125\t0708TEMP-range_norm-MiraBestNOHYBRIDAdam-AGRadGalNetdeep_sup-1e-05\n",
      "126\t0611-MiraBestNOHYBRIDAdam-playgroundv3_ft-1e-07\n",
      "127\t0305-MiraBest-playgroundv2_mean\n",
      "128\t0708TEMP-range_norm-MiraBestNOHYBRIDAdam-AGRadGalNetdeep_sup-0.0001\n",
      "129\t0709Exp2-sigmoid-MiraBestNOHYBRIDAdam-AGRadGalNetft-5e-05\n",
      "\tEvaluating ...\n",
      "PATH: TrainedNetworks/0709Exp2-sigmoid-MiraBestNOHYBRIDAdam-AGRadGalNetft-5e-05\n",
      "PATH: TrainedNetworks/0709Exp2-sigmoid-MiraBestNOHYBRIDAdam-AGRadGalNetft-5e-05/97.pt\n"
     ]
    },
    {
     "name": "stderr",
     "output_type": "stream",
     "text": [
      "/usr/local/anaconda-python-3.6/lib/python3.6/site-packages/torch/nn/functional.py:2479: UserWarning: Default upsampling behavior when mode=bilinear is changed to align_corners=False since 0.4.0. Please specify align_corners=True if the old behavior is desired. See the documentation of nn.Upsample for details.\n",
      "  \"See the documentation of nn.Upsample for details.\".format(mode))\n"
     ]
    },
    {
     "name": "stdout",
     "output_type": "stream",
     "text": [
      "130\tTESTExp1-std_mean_norm-MiraBestNOHYBRIDAdam-AGRadGalNetft-0.0001\n",
      "131\t0311-CIFAR10-pg2_ft_CIFAR10\n",
      "132\t0617-MiraBestNOHYBRIDAdam-playgroundv4-1e-05\n",
      "133\t0630A-std_mean_norm-MiraBestNOHYBRIDAdam-AGRadGalNetdeep_sup-0.0001\n",
      "134\t0423-MiraBestNOHYBRIDSGD-playgroundv2_mean-0.0001\n",
      "135\t0422-MiraBestNOHYBRIDAdagrad-playgroundv2_concat-0.001\n",
      "136\t0307-MiraBest-playgroundv2_ft\n",
      "137\t0331-MiraBestNOUNC-playgroundv2_deep_sup\n",
      "138\t0423-MiraBestNOHYBRIDSGD-playgroundv2_concat-0.0001\n",
      "139\t0708TEMP-range_norm-MiraBestNOHYBRIDAdam-AGRadGalNetdeep_sup-0.1\n",
      "140\t0709TEMP-range_norm-MiraBestNOHYBRIDAdam-AGRadGalNetdeep_sup-5e-05\n",
      "\tEvaluating ...\n",
      "PATH: TrainedNetworks/0709TEMP-range_norm-MiraBestNOHYBRIDAdam-AGRadGalNetdeep_sup-5e-05\n",
      "PATH: TrainedNetworks/0709TEMP-range_norm-MiraBestNOHYBRIDAdam-AGRadGalNetdeep_sup-5e-05/92.pt\n"
     ]
    },
    {
     "name": "stderr",
     "output_type": "stream",
     "text": [
      "/usr/local/anaconda-python-3.6/lib/python3.6/site-packages/torch/nn/functional.py:2479: UserWarning: Default upsampling behavior when mode=bilinear is changed to align_corners=False since 0.4.0. Please specify align_corners=True if the old behavior is desired. See the documentation of nn.Upsample for details.\n",
      "  \"See the documentation of nn.Upsample for details.\".format(mode))\n"
     ]
    },
    {
     "name": "stdout",
     "output_type": "stream",
     "text": [
      "141\t0422-MiraBestNOHYBRIDAdagrad-playgroundv2_ft-0.001\n",
      "142\t0421-MiraBestNOHYBRID-playgroundv2_deep_sup-0.0001\n",
      "143\t0330-MiraBest-playgroundv2_deep_sup\n",
      "144\t0429-MiraBestNOUNCAdagrad-playgroundv2_ft-0.0001\n",
      "145\t0709Exp2-sigmoid-MiraBestNOHYBRIDAdam-AGRadGalNetconcat-5e-05\n",
      "\tEvaluating ...\n",
      "PATH: TrainedNetworks/0709Exp2-sigmoid-MiraBestNOHYBRIDAdam-AGRadGalNetconcat-5e-05\n",
      "PATH: TrainedNetworks/0709Exp2-sigmoid-MiraBestNOHYBRIDAdam-AGRadGalNetconcat-5e-05/98.pt\n"
     ]
    },
    {
     "name": "stderr",
     "output_type": "stream",
     "text": [
      "/usr/local/anaconda-python-3.6/lib/python3.6/site-packages/torch/nn/functional.py:2479: UserWarning: Default upsampling behavior when mode=bilinear is changed to align_corners=False since 0.4.0. Please specify align_corners=True if the old behavior is desired. See the documentation of nn.Upsample for details.\n",
      "  \"See the documentation of nn.Upsample for details.\".format(mode))\n"
     ]
    },
    {
     "name": "stdout",
     "output_type": "stream",
     "text": [
      "146\t0608-MiraBestNOHYBRIDAdadelta-playgroundv3_ft-1e-05\n",
      "147\t0228-playgroundv2_deep_sup\n",
      "148\t0617-MiraBestNOHYBRIDAdam-playgroundv4-0.01\n",
      "149\t0709Exp1-range_norm-MiraBestNOUNCAdam-AGRadGalNetft-5e-05\n",
      "\tEvaluating ...\n",
      "PATH: TrainedNetworks/0709Exp1-range_norm-MiraBestNOUNCAdam-AGRadGalNetft-5e-05\n",
      "PATH: TrainedNetworks/0709Exp1-range_norm-MiraBestNOUNCAdam-AGRadGalNetft-5e-05/95.pt\n"
     ]
    },
    {
     "name": "stderr",
     "output_type": "stream",
     "text": [
      "/usr/local/anaconda-python-3.6/lib/python3.6/site-packages/torch/nn/functional.py:2479: UserWarning: Default upsampling behavior when mode=bilinear is changed to align_corners=False since 0.4.0. Please specify align_corners=True if the old behavior is desired. See the documentation of nn.Upsample for details.\n",
      "  \"See the documentation of nn.Upsample for details.\".format(mode))\n"
     ]
    },
    {
     "name": "stdout",
     "output_type": "stream",
     "text": [
      "150\t0429-MiraBestNOUNCSGD-playgroundv2_ft-1e-05\n",
      "151\t0624Exp2-sigmoid-MiraBestNOHYBRIDAdam-AGRadGalNetmean-0.0001\n",
      "152\t0614-MiraBestNOHYBRIDAdam-AGSononet-1e-06\n",
      "153\t0709Exp2-range_norm-MiraBestNOHYBRIDAdam-AGRadGalNetconcat-5e-05\n",
      "\tEvaluating ...\n",
      "PATH: TrainedNetworks/0709Exp2-range_norm-MiraBestNOHYBRIDAdam-AGRadGalNetconcat-5e-05\n",
      "PATH: TrainedNetworks/0709Exp2-range_norm-MiraBestNOHYBRIDAdam-AGRadGalNetconcat-5e-05/96.pt\n"
     ]
    },
    {
     "name": "stderr",
     "output_type": "stream",
     "text": [
      "/usr/local/anaconda-python-3.6/lib/python3.6/site-packages/torch/nn/functional.py:2479: UserWarning: Default upsampling behavior when mode=bilinear is changed to align_corners=False since 0.4.0. Please specify align_corners=True if the old behavior is desired. See the documentation of nn.Upsample for details.\n",
      "  \"See the documentation of nn.Upsample for details.\".format(mode))\n"
     ]
    },
    {
     "name": "stdout",
     "output_type": "stream",
     "text": [
      "154\t0429-MiraBestHYBRIDAdam-playgroundv2_ft-0.0001\n",
      "155\t0422-MiraBestNOHYBRIDAdagrad-playgroundv2_deep_sup-0.001\n",
      "156\t0611-MiraBestNOHYBRIDSGD-playgroundv2_ft-0.0001\n",
      "157\t0624Exp2-sigmoid-MiraBestNOHYBRIDAdam-AGRadGalNetconcat-0.0001\n",
      "158\t0703Exp31-std_mean_norm-MiraBestNOHYBRIDAdam-AGRadGalNetft-0.0001\n",
      "159\t0703Exp30-std_mean_norm-MiraBestNOHYBRIDAdam-AGRadGalNetft-0.0001\n",
      "160\t0614_DROPOUT-MiraBestNOHYBRIDAdam-AGSononet-1e-05\n",
      "161\t0624Exp2-softmax-MiraBestNOHYBRIDAdam-AGRadGalNetft-0.0001\n",
      "162\t0605-MiraBestNOHYBRIDAdam-playgroundv3-1e-06\n",
      "163\t3427-FRDEEPNOUNCSGD-transfer_original-0.0001\n",
      "164\t0622Exp1-tanh-MiraBestNOHYBRIDAdam-AGRadGalNetmean-0.0001\n",
      "165\t0417-MiraBestNOHYBRID-playgroundv2_concat-0.0001\n",
      "166\t0709Exp2-std_mean_norm-MiraBestNOHYBRIDAdam-AGRadGalNetft-5e-05\n",
      "\tEvaluating ...\n",
      "PATH: TrainedNetworks/0709Exp2-std_mean_norm-MiraBestNOHYBRIDAdam-AGRadGalNetft-5e-05\n",
      "PATH: TrainedNetworks/0709Exp2-std_mean_norm-MiraBestNOHYBRIDAdam-AGRadGalNetft-5e-05/98.pt\n"
     ]
    },
    {
     "name": "stderr",
     "output_type": "stream",
     "text": [
      "/usr/local/anaconda-python-3.6/lib/python3.6/site-packages/torch/nn/functional.py:2479: UserWarning: Default upsampling behavior when mode=bilinear is changed to align_corners=False since 0.4.0. Please specify align_corners=True if the old behavior is desired. See the documentation of nn.Upsample for details.\n",
      "  \"See the documentation of nn.Upsample for details.\".format(mode))\n"
     ]
    },
    {
     "name": "stdout",
     "output_type": "stream",
     "text": [
      "167\t0624Exp2-std_mean_norm-MiraBestNOHYBRIDAdam-AGRadGalNetmean-0.0001\n",
      "168\t0614_DROPOUT-MiraBestNOHYBRIDAdam-AGSononet-0.0001\n",
      "169\t0605B-MiraBestNOHYBRIDSGD-playgroundv3-0.0001\n",
      "170\t0429-MiraBestNOUNCAdam-transfer_original-0.0001\n",
      "171\t0611-MiraBestNOHYBRIDSGD-playgroundv3_ft-0.001\n",
      "172\t0614-MiraBestNOHYBRIDAdam-AGSononet-1e-07\n",
      "173\t0611-MiraBestNOHYBRIDAdam-playgroundv3_ft-1e-10\n",
      "174\t0617-MiraBestNOHYBRIDAdam-playgroundv4-1e-06\n",
      "175\t0611-MiraBestNOHYBRIDAdam-playgroundv3_ft-1e-05\n",
      "176\t0611-MiraBestNOHYBRIDAdam-playgroundv3_ft-1e-09\n",
      "177\t0611-MiraBestNOHYBRIDSGD-playgroundv3_ft-0.01\n",
      "178\t0622Exp1-range_norm-MiraBestNOHYBRIDAdam-AGRadGalNetmean-0.0001\n",
      "179\t0616_DROPOUT-MiraBestNOHYBRIDAdam-AGSononet-0.001\n",
      "180\t0708TEMP-range_norm-MiraBestNOHYBRIDAdam-AGRadGalNetdeep_sup-5e-05\n",
      "181\t0630Exp2-sigmoid-MiraBestNOHYBRIDAdam-AGRadGalNetmean-0.0001\n",
      "182\t0707Exp1-range_norm-MiraBestNOUNCAdam-AGRadGalNetft-0.0001\n",
      "183\t0309-MiraBest-playgroundv2_ft\n",
      "184\t0624Exp2-softmax-MiraBestNOHYBRIDAdam-AGRadGalNetdeep_sup-0.0001\n",
      "185\t0331-MiraBestNOUNC-playgroundv2_deep_sup-0.01\n",
      "186\t0225-playgroundv1\n",
      "187\t0614_DROPOUT-MiraBestNOHYBRIDAdam-AGSononet-0.01\n",
      "188\t0304-MiraBest-AGSononet\n",
      "189\t0708Exp1-range_norm-FRDEEPAdam-AGRadGalNetft-0.0001\n",
      "190\t0608-MiraBestNOHYBRIDAdadelta-playgroundv3_ft-0.0001\n",
      "191\t0709Exp2-range_norm-MiraBestNOHYBRIDAdam-AGRadGalNetmean-5e-05\n",
      "\tEvaluating ...\n",
      "PATH: TrainedNetworks/0709Exp2-range_norm-MiraBestNOHYBRIDAdam-AGRadGalNetmean-5e-05\n",
      "PATH: TrainedNetworks/0709Exp2-range_norm-MiraBestNOHYBRIDAdam-AGRadGalNetmean-5e-05/98.pt\n"
     ]
    },
    {
     "name": "stderr",
     "output_type": "stream",
     "text": [
      "/usr/local/anaconda-python-3.6/lib/python3.6/site-packages/torch/nn/functional.py:2479: UserWarning: Default upsampling behavior when mode=bilinear is changed to align_corners=False since 0.4.0. Please specify align_corners=True if the old behavior is desired. See the documentation of nn.Upsample for details.\n",
      "  \"See the documentation of nn.Upsample for details.\".format(mode))\n"
     ]
    },
    {
     "name": "stdout",
     "output_type": "stream",
     "text": [
      "192\t0617A_DROPOUT_PLUS-MiraBestNOHYBRIDAdam-AGSononet-0.001\n",
      "193\t0303-MiraBest-playgroundv1\n",
      "194\t0304-MiraBest-playgroundv1\n",
      "195\t0228-playgroundv2_ft\n",
      "196\t0402-MiraBestNOUNC-playgroundv2_deep_sup-1e-05\n",
      "197\t0614_DROPOUT-MiraBestNOHYBRIDAdam-AGSononet-1e-07\n",
      "198\t0408-MiraBestNOHYBRIDSGD-playgroundv2_deep_sup-0.0001\n",
      "199\t0709Exp2-softmax-MiraBestNOHYBRIDAdam-AGRadGalNetmean-5e-05\n",
      "\tEvaluating ...\n",
      "PATH: TrainedNetworks/0709Exp2-softmax-MiraBestNOHYBRIDAdam-AGRadGalNetmean-5e-05\n",
      "PATH: TrainedNetworks/0709Exp2-softmax-MiraBestNOHYBRIDAdam-AGRadGalNetmean-5e-05/18.pt\n"
     ]
    },
    {
     "name": "stderr",
     "output_type": "stream",
     "text": [
      "/usr/local/anaconda-python-3.6/lib/python3.6/site-packages/torch/nn/functional.py:2479: UserWarning: Default upsampling behavior when mode=bilinear is changed to align_corners=False since 0.4.0. Please specify align_corners=True if the old behavior is desired. See the documentation of nn.Upsample for details.\n",
      "  \"See the documentation of nn.Upsample for details.\".format(mode))\n"
     ]
    },
    {
     "name": "stdout",
     "output_type": "stream",
     "text": [
      "200\t0624Exp2-std_mean_norm-MiraBestNOHYBRIDAdam-AGRadGalNetdeep_sup-0.0001\n",
      "201\t0224-log-playgroundv1\n",
      "202\t0423-MiraBestNOHYBRIDSGD-playgroundv2_ft-0.0001\n",
      "203\t0624Exp2-sigmoid-MiraBestNOHYBRIDAdam-AGRadGalNetft-0.0001\n",
      "204\t0429-MiraBestNOHYBRIDSGD-playgroundv2_ft-0.0001\n",
      "205\t0429-MiraBestNOUNCAdadelta-playgroundv2_ft-0.0001\n",
      "206\t0708TEMP-range_norm-MiraBestNOHYBRIDAdam-AGRadGalNetdeep_sup-0.001\n",
      "207\t0611-MiraBestNOHYBRIDAdam-playgroundv3_ft-0.001\n",
      "208\t0611-MiraBestNOHYBRIDSGD-playgroundv3_ft-1e-06\n",
      "209\t0703Exp33-std_mean_norm-MiraBestNOHYBRIDAdam-AGRadGalNetft-0.0001\n",
      "210\t0616C_DROPOUT-MiraBestNOHYBRIDAdam-AGSononet-0.001\n",
      "211\t0224-playgroundv1\n",
      "212\t0605B-MiraBestNOHYBRIDAdam-playgroundv3-1e-07\n",
      "213\t0429-MiraBestNOHYBRIDAdadelta-playgroundv2_ft-0.0001\n",
      "214\t0719Exp31-range_norm-MiraBestNOHYBRIDAdam-AGRadGalNetft-5e-05\n",
      "215\t0421-MiraBestNOHYBRID-playgroundv2_ft-0.0001\n",
      "216\t0709Exp2-softmax-MiraBestNOHYBRIDAdam-AGRadGalNetft-5e-05\n",
      "\tEvaluating ...\n",
      "PATH: TrainedNetworks/0709Exp2-softmax-MiraBestNOHYBRIDAdam-AGRadGalNetft-5e-05\n",
      "PATH: TrainedNetworks/0709Exp2-softmax-MiraBestNOHYBRIDAdam-AGRadGalNetft-5e-05/37.pt\n"
     ]
    },
    {
     "name": "stderr",
     "output_type": "stream",
     "text": [
      "/usr/local/anaconda-python-3.6/lib/python3.6/site-packages/torch/nn/functional.py:2479: UserWarning: Default upsampling behavior when mode=bilinear is changed to align_corners=False since 0.4.0. Please specify align_corners=True if the old behavior is desired. See the documentation of nn.Upsample for details.\n",
      "  \"See the documentation of nn.Upsample for details.\".format(mode))\n"
     ]
    },
    {
     "name": "stdout",
     "output_type": "stream",
     "text": [
      "217\t0331-MiraBestNOHYBRID-playgroundv2_deep_sup\n",
      "218\t0611-MiraBestNOHYBRIDAdam-playgroundv3_ft-0.01\n",
      "219\t0709Exp2-std_mean_norm-MiraBestNOHYBRIDAdam-AGRadGalNetconcat-5e-05\n",
      "\tEvaluating ...\n",
      "PATH: TrainedNetworks/0709Exp2-std_mean_norm-MiraBestNOHYBRIDAdam-AGRadGalNetconcat-5e-05\n",
      "PATH: TrainedNetworks/0709Exp2-std_mean_norm-MiraBestNOHYBRIDAdam-AGRadGalNetconcat-5e-05/97.pt\n"
     ]
    },
    {
     "name": "stderr",
     "output_type": "stream",
     "text": [
      "/usr/local/anaconda-python-3.6/lib/python3.6/site-packages/torch/nn/functional.py:2479: UserWarning: Default upsampling behavior when mode=bilinear is changed to align_corners=False since 0.4.0. Please specify align_corners=True if the old behavior is desired. See the documentation of nn.Upsample for details.\n",
      "  \"See the documentation of nn.Upsample for details.\".format(mode))\n"
     ]
    },
    {
     "name": "stdout",
     "output_type": "stream",
     "text": [
      "220\t0719Exp33-range_norm-MiraBestNOHYBRIDAdam-AGRadGalNetft-5e-05\n",
      "221\t1427-FRDEEPNOUNCSGD-transfer_original-0.0001\n",
      "222\t0709Exp1-range_norm-FRDEEPAdam-AGRadGalNetft-5e-05\n",
      "\tEvaluating ...\n",
      "PATH: TrainedNetworks/0709Exp1-range_norm-FRDEEPAdam-AGRadGalNetft-5e-05\n",
      "PATH: TrainedNetworks/0709Exp1-range_norm-FRDEEPAdam-AGRadGalNetft-5e-05/81.pt\n"
     ]
    },
    {
     "name": "stderr",
     "output_type": "stream",
     "text": [
      "/usr/local/anaconda-python-3.6/lib/python3.6/site-packages/torch/nn/functional.py:2479: UserWarning: Default upsampling behavior when mode=bilinear is changed to align_corners=False since 0.4.0. Please specify align_corners=True if the old behavior is desired. See the documentation of nn.Upsample for details.\n",
      "  \"See the documentation of nn.Upsample for details.\".format(mode))\n"
     ]
    },
    {
     "name": "stdout",
     "output_type": "stream",
     "text": [
      "223\t0614-MiraBestNOHYBRIDAdam-AGSononet-1e-08\n"
     ]
    },
    {
     "data": {
      "text/plain": [
       "\"\\ndataset_selection = 'automatic'\\npickle_in = open(f'evaluated_models_{dataset_selection}.pickle','rb')\\nevaluated_models = pickle.load(pickle_in)\\npickle_in.close()\\n#\""
      ]
     },
     "execution_count": 6,
     "metadata": {},
     "output_type": "execute_result"
    }
   ],
   "source": [
    "data_options = ['FRDEEP-F','MiraBest','MiraBestNOHYBRID','MiraBestNOUNC','automatic']\n",
    "for dataset in data_options:\n",
    "    print(f'--> EVALUATING ON: {dataset}')\n",
    "    temp_dict = eval_models(files+folders, dataset, dates = ['0624', '0622', '0709'])\n",
    "\n",
    "\"\"\"\n",
    "dataset_selection = 'automatic'\n",
    "pickle_in = open(f'evaluated_models_{dataset_selection}.pickle','rb')\n",
    "evaluated_models = pickle.load(pickle_in)\n",
    "pickle_in.close()\n",
    "#\"\"\""
   ]
  },
  {
   "cell_type": "code",
   "execution_count": 6,
   "metadata": {},
   "outputs": [],
   "source": [
    "def remove_key(key):\n",
    "    data_options = ['FRDEEP-F','MiraBest','MiraBestNOHYBRID','MiraBestNOUNC','automatic']\n",
    "    for dataset in data_options:\n",
    "        file = open(f'evaluated_models_{dataset}.pickle','rb')\n",
    "        evaluated_models = pickle.load(file)\n",
    "        file.close()\n",
    "        try:\n",
    "            print(evaluated_models[key])\n",
    "            print(file)\n",
    "            del evaluated_models[key]\n",
    "            file2 = open(f'evaluated_models_{dataset}.pickle','wb')\n",
    "            pickle.dump(evaluated_models,file2)\n",
    "            file2.close()\n",
    "        except:\n",
    "            print(f'\\t Already deleted {key}')"
   ]
  },
  {
   "cell_type": "raw",
   "metadata": {},
   "source": [
    "#print(temp_dict['playgroundv1-0214-0.01_360Epochs.pt'])\n",
    "#print(temp_dict.keys())\n",
    "delete_by_date = False\n",
    "if delete_by_date:\n",
    "    remove_dates = ['0427','']\n",
    "    keys = []\n",
    "    for f in folders:\n",
    "        for dates in remove_dates:\n",
    "            if f[:4] == dates:\n",
    "                keys.append(f)\n",
    "                print(f)\n",
    "                remove_key(f)\n",
    "    print(keys)\n",
    "\n",
    "for f in folders:\n",
    "    if f[-41:] == 'MiraBestNOHYBRIDAdam-AGRadGalNetft-0.0001':\n",
    "        remove_key(f)"
   ]
  },
  {
   "cell_type": "code",
   "execution_count": 7,
   "metadata": {},
   "outputs": [
    {
     "data": {
      "text/html": [
       "<div>\n",
       "<style scoped>\n",
       "    .dataframe tbody tr th:only-of-type {\n",
       "        vertical-align: middle;\n",
       "    }\n",
       "\n",
       "    .dataframe tbody tr th {\n",
       "        vertical-align: top;\n",
       "    }\n",
       "\n",
       "    .dataframe thead th {\n",
       "        text-align: right;\n",
       "    }\n",
       "</style>\n",
       "<table border=\"1\" class=\"dataframe\">\n",
       "  <thead>\n",
       "    <tr style=\"text-align: right;\">\n",
       "      <th></th>\n",
       "      <th>data_train</th>\n",
       "      <th>net_name</th>\n",
       "      <th>date</th>\n",
       "      <th>lr</th>\n",
       "      <th>epoch</th>\n",
       "      <th>auc</th>\n",
       "      <th>friP</th>\n",
       "      <th>friN</th>\n",
       "      <th>friiN</th>\n",
       "      <th>friiP</th>\n",
       "      <th>...</th>\n",
       "      <th>friirecall</th>\n",
       "      <th>friprecision</th>\n",
       "      <th>friiprecision</th>\n",
       "      <th>frif1</th>\n",
       "      <th>friif1</th>\n",
       "      <th>fpr</th>\n",
       "      <th>tpr</th>\n",
       "      <th>thresholds</th>\n",
       "      <th>model</th>\n",
       "      <th>data_eval</th>\n",
       "    </tr>\n",
       "  </thead>\n",
       "  <tbody>\n",
       "    <tr>\n",
       "      <td>192</td>\n",
       "      <td>FRDEEP-F</td>\n",
       "      <td>transfer_original</td>\n",
       "      <td>3427</td>\n",
       "      <td>NaN</td>\n",
       "      <td>6.0</td>\n",
       "      <td>0.832509</td>\n",
       "      <td>13019.0</td>\n",
       "      <td>4989.0</td>\n",
       "      <td>4621.0</td>\n",
       "      <td>14811.0</td>\n",
       "      <td>...</td>\n",
       "      <td>0.748030</td>\n",
       "      <td>0.722956</td>\n",
       "      <td>0.762196</td>\n",
       "      <td>0.730420</td>\n",
       "      <td>0.755047</td>\n",
       "      <td>[0.0, 0.0, 0.0, 0.0, 0.0, 0.0, 0.0, 0.0, 0.0, ...</td>\n",
       "      <td>[0.0, 5.0505050505050505e-05, 0.00333333333333...</td>\n",
       "      <td>[1.999593, 0.99959296, 0.999315, 0.9993061, 0....</td>\n",
       "      <td>3427-FRDEEPNOUNCSGD-transfer_original-0.0001</td>\n",
       "      <td>MiraBestHYBRID</td>\n",
       "    </tr>\n",
       "    <tr>\n",
       "      <td>65</td>\n",
       "      <td>FRDEEP-F</td>\n",
       "      <td>transfer_original</td>\n",
       "      <td>3427</td>\n",
       "      <td>NaN</td>\n",
       "      <td>6.0</td>\n",
       "      <td>0.987322</td>\n",
       "      <td>7227.0</td>\n",
       "      <td>108.0</td>\n",
       "      <td>693.0</td>\n",
       "      <td>9972.0</td>\n",
       "      <td>...</td>\n",
       "      <td>0.989286</td>\n",
       "      <td>0.985276</td>\n",
       "      <td>0.935021</td>\n",
       "      <td>0.947493</td>\n",
       "      <td>0.961388</td>\n",
       "      <td>[0.0, 0.0, 0.0, 0.0, 0.0, 0.0, 0.0, 0.0, 0.0, ...</td>\n",
       "      <td>[0.0, 9.92063492063492e-05, 0.0038690476190476...</td>\n",
       "      <td>[1.9999108, 0.99991083, 0.9998266, 0.9998253, ...</td>\n",
       "      <td>3427-FRDEEPNOUNCSGD-transfer_original-0.0001</td>\n",
       "      <td>FRDEEP-F</td>\n",
       "    </tr>\n",
       "    <tr>\n",
       "      <td>319</td>\n",
       "      <td>FRDEEP-F</td>\n",
       "      <td>transfer_original</td>\n",
       "      <td>3427</td>\n",
       "      <td>NaN</td>\n",
       "      <td>6.0</td>\n",
       "      <td>0.746389</td>\n",
       "      <td>18325.0</td>\n",
       "      <td>9811.0</td>\n",
       "      <td>8315.0</td>\n",
       "      <td>18629.0</td>\n",
       "      <td>...</td>\n",
       "      <td>0.655028</td>\n",
       "      <td>0.651301</td>\n",
       "      <td>0.691397</td>\n",
       "      <td>0.669089</td>\n",
       "      <td>0.672721</td>\n",
       "      <td>[0.0, 0.0, 0.0, 0.0, 0.0, 0.0, 0.0, 0.0, 0.0, ...</td>\n",
       "      <td>[0.0, 3.516174402250352e-05, 0.000703234880450...</td>\n",
       "      <td>[1.9999986, 0.99999857, 0.9995369, 0.9995352, ...</td>\n",
       "      <td>3427-FRDEEPNOUNCSGD-transfer_original-0.0001</td>\n",
       "      <td>MiraBestNOHYBRID</td>\n",
       "    </tr>\n",
       "    <tr>\n",
       "      <td>446</td>\n",
       "      <td>FRDEEP-F</td>\n",
       "      <td>transfer_original</td>\n",
       "      <td>3427</td>\n",
       "      <td>NaN</td>\n",
       "      <td>6.0</td>\n",
       "      <td>0.831619</td>\n",
       "      <td>13070.0</td>\n",
       "      <td>5075.0</td>\n",
       "      <td>4570.0</td>\n",
       "      <td>14725.0</td>\n",
       "      <td>...</td>\n",
       "      <td>0.743687</td>\n",
       "      <td>0.720309</td>\n",
       "      <td>0.763151</td>\n",
       "      <td>0.730474</td>\n",
       "      <td>0.753293</td>\n",
       "      <td>[0.0, 0.0, 0.0, 0.0, 0.0, 0.0, 0.0, 0.0, 0.0, ...</td>\n",
       "      <td>[0.0, 5.0505050505050505e-05, 0.00681818181818...</td>\n",
       "      <td>[1.9995937, 0.9995938, 0.9991347, 0.99913174, ...</td>\n",
       "      <td>3427-FRDEEPNOUNCSGD-transfer_original-0.0001</td>\n",
       "      <td>MiraBestNOUNC</td>\n",
       "    </tr>\n",
       "    <tr>\n",
       "      <td>297</td>\n",
       "      <td>FRDEEP-F</td>\n",
       "      <td>transfer_original</td>\n",
       "      <td>1427</td>\n",
       "      <td>NaN</td>\n",
       "      <td>2.0</td>\n",
       "      <td>0.835892</td>\n",
       "      <td>25503.0</td>\n",
       "      <td>16669.0</td>\n",
       "      <td>1137.0</td>\n",
       "      <td>11771.0</td>\n",
       "      <td>...</td>\n",
       "      <td>0.413889</td>\n",
       "      <td>0.604738</td>\n",
       "      <td>0.911915</td>\n",
       "      <td>0.741237</td>\n",
       "      <td>0.569362</td>\n",
       "      <td>[0.0, 0.011486486486486487, 0.0115990990990990...</td>\n",
       "      <td>[0.0, 0.0006680731364275668, 0.000843881856540...</td>\n",
       "      <td>[2.0, 1.0, 0.9999999, 0.99999976, 0.99999964, ...</td>\n",
       "      <td>1427-FRDEEPNOUNCAdam-transfer_original-0.0001</td>\n",
       "      <td>MiraBestNOHYBRID</td>\n",
       "    </tr>\n",
       "  </tbody>\n",
       "</table>\n",
       "<p>5 rows × 21 columns</p>\n",
       "</div>"
      ],
      "text/plain": [
       "    data_train           net_name  date  lr  epoch       auc     friP  \\\n",
       "192   FRDEEP-F  transfer_original  3427 NaN    6.0  0.832509  13019.0   \n",
       "65    FRDEEP-F  transfer_original  3427 NaN    6.0  0.987322   7227.0   \n",
       "319   FRDEEP-F  transfer_original  3427 NaN    6.0  0.746389  18325.0   \n",
       "446   FRDEEP-F  transfer_original  3427 NaN    6.0  0.831619  13070.0   \n",
       "297   FRDEEP-F  transfer_original  1427 NaN    2.0  0.835892  25503.0   \n",
       "\n",
       "        friN   friiN    friiP  ...  friirecall  friprecision  friiprecision  \\\n",
       "192   4989.0  4621.0  14811.0  ...    0.748030      0.722956       0.762196   \n",
       "65     108.0   693.0   9972.0  ...    0.989286      0.985276       0.935021   \n",
       "319   9811.0  8315.0  18629.0  ...    0.655028      0.651301       0.691397   \n",
       "446   5075.0  4570.0  14725.0  ...    0.743687      0.720309       0.763151   \n",
       "297  16669.0  1137.0  11771.0  ...    0.413889      0.604738       0.911915   \n",
       "\n",
       "        frif1    friif1                                                fpr  \\\n",
       "192  0.730420  0.755047  [0.0, 0.0, 0.0, 0.0, 0.0, 0.0, 0.0, 0.0, 0.0, ...   \n",
       "65   0.947493  0.961388  [0.0, 0.0, 0.0, 0.0, 0.0, 0.0, 0.0, 0.0, 0.0, ...   \n",
       "319  0.669089  0.672721  [0.0, 0.0, 0.0, 0.0, 0.0, 0.0, 0.0, 0.0, 0.0, ...   \n",
       "446  0.730474  0.753293  [0.0, 0.0, 0.0, 0.0, 0.0, 0.0, 0.0, 0.0, 0.0, ...   \n",
       "297  0.741237  0.569362  [0.0, 0.011486486486486487, 0.0115990990990990...   \n",
       "\n",
       "                                                   tpr  \\\n",
       "192  [0.0, 5.0505050505050505e-05, 0.00333333333333...   \n",
       "65   [0.0, 9.92063492063492e-05, 0.0038690476190476...   \n",
       "319  [0.0, 3.516174402250352e-05, 0.000703234880450...   \n",
       "446  [0.0, 5.0505050505050505e-05, 0.00681818181818...   \n",
       "297  [0.0, 0.0006680731364275668, 0.000843881856540...   \n",
       "\n",
       "                                            thresholds  \\\n",
       "192  [1.999593, 0.99959296, 0.999315, 0.9993061, 0....   \n",
       "65   [1.9999108, 0.99991083, 0.9998266, 0.9998253, ...   \n",
       "319  [1.9999986, 0.99999857, 0.9995369, 0.9995352, ...   \n",
       "446  [1.9995937, 0.9995938, 0.9991347, 0.99913174, ...   \n",
       "297  [2.0, 1.0, 0.9999999, 0.99999976, 0.99999964, ...   \n",
       "\n",
       "                                             model         data_eval  \n",
       "192   3427-FRDEEPNOUNCSGD-transfer_original-0.0001    MiraBestHYBRID  \n",
       "65    3427-FRDEEPNOUNCSGD-transfer_original-0.0001          FRDEEP-F  \n",
       "319   3427-FRDEEPNOUNCSGD-transfer_original-0.0001  MiraBestNOHYBRID  \n",
       "446   3427-FRDEEPNOUNCSGD-transfer_original-0.0001     MiraBestNOUNC  \n",
       "297  1427-FRDEEPNOUNCAdam-transfer_original-0.0001  MiraBestNOHYBRID  \n",
       "\n",
       "[5 rows x 21 columns]"
      ]
     },
     "execution_count": 7,
     "metadata": {},
     "output_type": "execute_result"
    }
   ],
   "source": [
    "if 'df' in locals():\n",
    "    del df\n",
    "# The data in the dictionaries is in the format (form):\n",
    "form = ['data_train','net_name','date','lr','epoch','auc','friP','friN','friiN','friiP','frirecall','friirecall','friprecision','friiprecision','frif1','friif1','fpr','tpr','thresholds']\n",
    "### Add models trained on each dataset\n",
    "for data in data_options[:-1]:\n",
    "    # Load in dict:\n",
    "    pickle_in = open(f'evaluated_models_{data}.pickle','rb')\n",
    "    evaluated_models = pickle.load(pickle_in)\n",
    "    pickle_in.close()\n",
    "\n",
    "    # Load dict into dataframe\n",
    "    df_temp = pd.DataFrame.from_dict(evaluated_models,orient='index',columns=form)\n",
    "    # Make keys of dict into their own column\n",
    "    df_temp['model'] = df_temp.index\n",
    "    # Add data_evaluation column\n",
    "    if data == 'MiraBest':\n",
    "        df_temp = df_temp.assign(data_eval = f'{data}HYBRID')\n",
    "    else:\n",
    "        df_temp = df_temp.assign(data_eval = f'{data}')\n",
    "    \n",
    "    # Assign df or stack onto df\n",
    "    if 'df' not in locals(): #Initialise\n",
    "        df = df_temp\n",
    "    elif 'df' in locals(): #Stack\n",
    "        df = pd.concat([df,df_temp],axis=0)\n",
    "    else:\n",
    "        print('Something went wrong!')\n",
    "    \n",
    "# Reset index to numeric digits\n",
    "df = df.reset_index(drop=True)\n",
    "df[df.date!='TEST'].sort_values(by='date',ascending=False).head()"
   ]
  },
  {
   "cell_type": "code",
   "execution_count": null,
   "metadata": {},
   "outputs": [],
   "source": [
    "# Add accuracy column\n",
    "df['accuracy']=(df.friP+df.friiP)/(df.friP+df.friiP+df.friiN+df.friN)\n",
    "#accuracy = (df.friP.to_numpy()+df.friiP.to_numpy())/(df.friP.to_numpy()+df.friiP.to_numpy()+df.friiN.to_numpy()+df.friN.to_numpy()) #NUMPY ACCURACY"
   ]
  },
  {
   "cell_type": "code",
   "execution_count": null,
   "metadata": {},
   "outputs": [],
   "source": [
    "df = df.sort_values(by=['accuracy','auc'],ascending=False)\n",
    "df[(df.data_train != 'FRDEEP-F') & (df.net_name != 'transfer_original')][['auc','accuracy','data_train','data_eval','net_name','model','date']].head(5)"
   ]
  },
  {
   "cell_type": "code",
   "execution_count": null,
   "metadata": {},
   "outputs": [],
   "source": [
    "df[(df.date!='0429') & (df.date!='3427') & (df.data_train != 'FRDEEP-F')] \\\n",
    "    [['auc','accuracy','data_train','data_eval','net_name','model','date']].head(5)"
   ]
  },
  {
   "cell_type": "code",
   "execution_count": null,
   "metadata": {},
   "outputs": [],
   "source": [
    "# Sort df by AUC and then by acc\n",
    "df = df.sort_values(by=['auc','accuracy'],ascending=False)"
   ]
  },
  {
   "cell_type": "code",
   "execution_count": null,
   "metadata": {},
   "outputs": [],
   "source": [
    "# Find all 'FRDEEP-F' models:\n",
    "df[['auc','accuracy','data_train','data_eval','net_name','model','date']][df['data_train']=='FRDEEP-F'].head()"
   ]
  },
  {
   "cell_type": "code",
   "execution_count": null,
   "metadata": {},
   "outputs": [],
   "source": [
    "# Find all non 'FRDEEP-F' models:\n",
    "df[['auc','accuracy','data_train','data_eval','net_name','model','date','epoch']][df['data_train']!='FRDEEP-F'].head(20)"
   ]
  },
  {
   "cell_type": "code",
   "execution_count": null,
   "metadata": {},
   "outputs": [],
   "source": [
    "# Change dataframe to desired columns:\n",
    "d = df[['auc','accuracy','data_train','data_eval','net_name','model','date']]\n",
    "d.head(20)"
   ]
  },
  {
   "cell_type": "raw",
   "metadata": {},
   "source": [
    "# Find all non 'FRDEEP-F' models:\n",
    "df[['auc','accuracy','data_train','data_eval','net_name','model']].sort_values(by=['accuracy'],ascending=False)[df.data_train==df.data_eval].head(25)"
   ]
  },
  {
   "cell_type": "raw",
   "metadata": {},
   "source": [
    "view[view.data_train == view.data_eval].head()"
   ]
  },
  {
   "cell_type": "code",
   "execution_count": null,
   "metadata": {},
   "outputs": [],
   "source": [
    "# Five Best FRDEEP Trained Models:\n",
    "best_frdeep = ['playground-0211-0.1_180Epochs.pt',\n",
    "               'playground-0129-0.1_360Epochs.pt',\n",
    "               'playground-0212-0.1_360Epochs.pt',\n",
    "               'playground-0129-0.1_500Epochs.pt',\n",
    "               '0224-playgroundv1']\n",
    "d[d.model==best_frdeep[0]]"
   ]
  },
  {
   "cell_type": "code",
   "execution_count": null,
   "metadata": {},
   "outputs": [],
   "source": [
    "d[d.model==best_frdeep[-1]]"
   ]
  },
  {
   "cell_type": "code",
   "execution_count": null,
   "metadata": {},
   "outputs": [],
   "source": [
    "# Best MiraBest performer:\n",
    "best_mirabest = ['0427-MiraBestNOHYBRIDAdam-playgroundv2_concat-0.0001',\n",
    "                 '0310-MiraBestSGD-playgroundv2_ft',\n",
    "                 '0309-MiraBest-playgroundv2_ft',\n",
    "                 '0331-MiraBestNOHYBRID-playgroundv2_deep_sup',\n",
    "                 '0310-MiraBestSGD-playgroundv2_ft',\n",
    "                 '0305-MiraBest-playgroundv2_deep_sup']\n",
    "d[d.model==best_mirabest[0]]"
   ]
  },
  {
   "cell_type": "code",
   "execution_count": null,
   "metadata": {},
   "outputs": [],
   "source": [
    "d[d.model==best_mirabest[1]]"
   ]
  },
  {
   "cell_type": "code",
   "execution_count": null,
   "metadata": {},
   "outputs": [],
   "source": [
    "best_models = best_frdeep+best_mirabest\n",
    "avg_auc_max = 0 ; auc_model = ''\n",
    "avg_acc_max = 0 ; acc_model = ''\n",
    "\n",
    "for model in best_models:\n",
    "    temp = d[d.model==model].mean(axis=0)\n",
    "    if temp['auc']>avg_auc_max:\n",
    "        avg_auc_max=temp['auc']\n",
    "        auc_model=model\n",
    "    if temp['accuracy']>avg_acc_max:\n",
    "        avg_acc_max=temp['accuracy']\n",
    "        acc_model=model\n",
    "\n",
    "print(f\"\"\"\n",
    "Best AUC avg: {avg_auc_max:.4f} from: {auc_model}\n",
    "Best ACC avg: {avg_acc_max:.4f} from: {acc_model}\n",
    "\"\"\")"
   ]
  },
  {
   "cell_type": "code",
   "execution_count": null,
   "metadata": {},
   "outputs": [],
   "source": [
    "# Best overall performer (avg)\n",
    "if auc_model == acc_model:\n",
    "    best_model = auc_model\n",
    "    print(f'Our overall best model is: {best_model}')\n",
    "else:\n",
    "    print(f'No single best model. \\n\\tAUC Best: {auc_model}\\n\\tACC Best:{acc_model}')"
   ]
  },
  {
   "cell_type": "code",
   "execution_count": null,
   "metadata": {},
   "outputs": [],
   "source": [
    "d[d.model=='0408-MiraBestNOHYBRIDSGD-playgroundv2_ft-0.0001']"
   ]
  },
  {
   "cell_type": "code",
   "execution_count": null,
   "metadata": {},
   "outputs": [],
   "source": [
    "df[['data_train','data_eval','auc','accuracy','friprecision','friiprecision','frif1','friif1']][df.model==best_mirabest[1]]"
   ]
  },
  {
   "cell_type": "code",
   "execution_count": null,
   "metadata": {},
   "outputs": [],
   "source": [
    "print(best_frdeep[-1])\n",
    "df[['data_train','data_eval','auc','accuracy','friprecision','friiprecision','frif1','friif1']][df.model==best_frdeep[-1]]"
   ]
  }
 ],
 "metadata": {
  "kernelspec": {
   "display_name": "Python 3",
   "language": "python",
   "name": "python3"
  },
  "language_info": {
   "codemirror_mode": {
    "name": "ipython",
    "version": 3
   },
   "file_extension": ".py",
   "mimetype": "text/x-python",
   "name": "python",
   "nbconvert_exporter": "python",
   "pygments_lexer": "ipython3",
   "version": "3.6.9"
  }
 },
 "nbformat": 4,
 "nbformat_minor": 4
}
