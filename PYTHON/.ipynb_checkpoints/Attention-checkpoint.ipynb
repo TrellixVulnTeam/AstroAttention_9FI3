{
 "cells": [
  {
   "cell_type": "markdown",
   "metadata": {},
   "source": [
    "This script mostly follows [the standard CIFAR10 Pytorch example](https://pytorch.org/tutorials/beginner/blitz/cifar10_tutorial.html). It extracts grey scale images from the dataset.\n",
    "\n",
    "The steps are:\n",
    "\n",
    "1. Load and normalizing the FRDEEP-F training and test datasets using torchvision\n",
    "2. Define a Convolutional Neural Network\n",
    "3. Define a loss function\n",
    "4. Train the network on the training data\n",
    "5. Test the network on the test data"
   ]
  },
  {
   "cell_type": "markdown",
   "metadata": {},
   "source": [
    "First import some standard python libraries for plotting stuff and handling arrays:"
   ]
  },
  {
   "cell_type": "code",
   "execution_count": 1,
   "metadata": {},
   "outputs": [],
   "source": [
    "import matplotlib.pyplot as plt\n",
    "import numpy as np\n",
    "import math\n",
    "import PIL"
   ]
  },
  {
   "cell_type": "markdown",
   "metadata": {},
   "source": [
    "Then import the pytorch, torchvision and torchsummary libraries:"
   ]
  },
  {
   "cell_type": "code",
   "execution_count": 2,
   "metadata": {},
   "outputs": [],
   "source": [
    "import torch\n",
    "import torchvision\n",
    "import torchvision.transforms as transforms\n",
    "from torchsummary import summary\n",
    "from torch.utils.data import SubsetRandomSampler"
   ]
  },
  {
   "cell_type": "markdown",
   "metadata": {},
   "source": [
    "Then import the pytorch neural network stuff:"
   ]
  },
  {
   "cell_type": "code",
   "execution_count": 3,
   "metadata": {},
   "outputs": [],
   "source": [
    "import torch.nn as nn\n",
    "import torch.nn.functional as F"
   ]
  },
  {
   "cell_type": "markdown",
   "metadata": {},
   "source": [
    "Then import the oprimization library from pytorch:"
   ]
  },
  {
   "cell_type": "code",
   "execution_count": 4,
   "metadata": {},
   "outputs": [],
   "source": [
    "import torch.optim as optim"
   ]
  },
  {
   "cell_type": "markdown",
   "metadata": {},
   "source": [
    "Finally import the FRDEEP-F pytorch dataset class. This is not provided with pytorch, you need to [grab it from the FRDEEP github](\n",
    "https://github.com/HongmingTang060313/FR-DEEP/blob/master/FRDEEP.py)."
   ]
  },
  {
   "cell_type": "code",
   "execution_count": 5,
   "metadata": {},
   "outputs": [],
   "source": [
    "from FRDEEP import FRDEEPF"
   ]
  },
  {
   "cell_type": "code",
   "execution_count": 6,
   "metadata": {},
   "outputs": [],
   "source": [
    "from networks.sononet_ams import sononet\n",
    "from networks.sononet_grid_attention import sononet_grid_attention as sononet2"
   ]
  },
  {
   "cell_type": "markdown",
   "metadata": {},
   "source": [
    "The output of torchvision datasets are PILImage images of range [0, 1]. We transform them to Tensors of normalized range [-1, 1]."
   ]
  },
  {
   "cell_type": "code",
   "execution_count": 7,
   "metadata": {},
   "outputs": [],
   "source": [
    "transform = transforms.Compose(\n",
    "    [torchvision.transforms.RandomRotation(20, resample=PIL.Image.BILINEAR),\n",
    "     transforms.ToTensor(),\n",
    "     transforms.Normalize([0.5],[0.5])])"
   ]
  },
  {
   "cell_type": "markdown",
   "metadata": {},
   "source": [
    "Load in the training and test datasets. The first time you do this it will download the data to your working directory, but once the data is there it will just use it without repeating the download."
   ]
  },
  {
   "cell_type": "code",
   "execution_count": 8,
   "metadata": {},
   "outputs": [
    {
     "name": "stdout",
     "output_type": "stream",
     "text": [
      "Files already downloaded and verified\n"
     ]
    }
   ],
   "source": [
    "trainset = FRDEEPF(root='./FIRST_data', train=True, download=True, transform=transform)  \n",
    "batch_size_train = 2"
   ]
  },
  {
   "cell_type": "code",
   "execution_count": 9,
   "metadata": {},
   "outputs": [
    {
     "name": "stdout",
     "output_type": "stream",
     "text": [
      "Files already downloaded and verified\n"
     ]
    }
   ],
   "source": [
    "testset = FRDEEPF(root='./FIRST_data', train=False, download=True, transform=transform) \n",
    "batch_size_test = 2"
   ]
  },
  {
   "cell_type": "code",
   "execution_count": 10,
   "metadata": {},
   "outputs": [],
   "source": [
    "# percentage of training set to use as validation\n",
    "valid_size = 0.2"
   ]
  },
  {
   "cell_type": "code",
   "execution_count": 11,
   "metadata": {},
   "outputs": [],
   "source": [
    "# obtain training indices that will be used for validation\n",
    "num_train = len(trainset)\n",
    "indices = list(range(num_train))\n",
    "np.random.shuffle(indices)\n",
    "split = int(np.floor(valid_size * num_train))\n",
    "train_idx, valid_idx = indices[split:], indices[:split]"
   ]
  },
  {
   "cell_type": "code",
   "execution_count": 12,
   "metadata": {},
   "outputs": [],
   "source": [
    "# define samplers for obtaining training and validation batches\n",
    "train_sampler = SubsetRandomSampler(train_idx)\n",
    "valid_sampler = SubsetRandomSampler(valid_idx)"
   ]
  },
  {
   "cell_type": "code",
   "execution_count": 13,
   "metadata": {},
   "outputs": [
    {
     "name": "stdout",
     "output_type": "stream",
     "text": [
      "Files already downloaded and verified\n"
     ]
    }
   ],
   "source": [
    "validset = FRDEEPF(root='./FIRST_data', train=True, download=True, transform=transform)  \n",
    "batch_size_train = 2"
   ]
  },
  {
   "cell_type": "markdown",
   "metadata": {},
   "source": [
    "There are two classes in this dataset: FRI and FRII:"
   ]
  },
  {
   "cell_type": "code",
   "execution_count": 14,
   "metadata": {},
   "outputs": [],
   "source": [
    "trainloader = torch.utils.data.DataLoader(trainset, batch_size=batch_size_train, sampler=train_sampler, num_workers=2)\n",
    "validloader = torch.utils.data.DataLoader(validset, batch_size=batch_size_train, sampler=valid_sampler, num_workers=2)\n",
    "testloader = torch.utils.data.DataLoader(testset, batch_size=batch_size_test, shuffle=True, num_workers=2)"
   ]
  },
  {
   "cell_type": "code",
   "execution_count": 15,
   "metadata": {},
   "outputs": [],
   "source": [
    "classes = ('FRI', 'FRII')"
   ]
  },
  {
   "cell_type": "markdown",
   "metadata": {},
   "source": [
    "A little function to display images nicely:"
   ]
  },
  {
   "cell_type": "code",
   "execution_count": 16,
   "metadata": {},
   "outputs": [],
   "source": [
    "def imshow(img):\n",
    "    # unnormalize\n",
    "    img = img / 2 + 0.5\n",
    "    npimg = img.numpy()\n",
    "    plt.imshow(np.transpose(npimg, (1, 2, 0)))\n",
    "    plt.show()"
   ]
  },
  {
   "cell_type": "markdown",
   "metadata": {},
   "source": [
    "Take a look at some randomly selected samples to see how they appear:"
   ]
  },
  {
   "cell_type": "code",
   "execution_count": 17,
   "metadata": {},
   "outputs": [],
   "source": [
    "# get some random training images\n",
    "dataiter = iter(trainloader)\n",
    "images, labels = dataiter.next()"
   ]
  },
  {
   "cell_type": "code",
   "execution_count": 18,
   "metadata": {},
   "outputs": [
    {
     "data": {
      "image/png": "[encoded data removed]",
      "text/plain": [
       "<Figure size 432x288 with 1 Axes>"
      ]
     },
     "metadata": {
      "needs_background": "light"
     },
     "output_type": "display_data"
    },
    {
     "name": "stdout",
     "output_type": "stream",
     "text": [
      " FRII  FRII\n"
     ]
    }
   ],
   "source": [
    "# show images\n",
    "imshow(torchvision.utils.make_grid(images))\n",
    "# print labels\n",
    "print(' '.join('%5s' % classes[labels[j]] for j in range(batch_size_train)))"
   ]
  },
  {
   "cell_type": "markdown",
   "metadata": {},
   "source": [
    "Define a neural network that takes greyscale images as input:"
   ]
  },
  {
   "cell_type": "code",
   "execution_count": 19,
   "metadata": {},
   "outputs": [],
   "source": [
    "class Net(nn.Module):\n",
    "    def __init__(self):\n",
    "        super(Net, self).__init__()\n",
    "        self.conv1 = nn.Conv2d(1, 6, 5)\n",
    "        self.pool = nn.MaxPool2d(2, 2)\n",
    "        self.conv2 = nn.Conv2d(6, 16, 5)\n",
    "        self.fc1 = nn.Linear(16 * 34 * 34, 120)\n",
    "        self.fc2 = nn.Linear(120, 84)\n",
    "        self.fc3 = nn.Linear(84, 2)\n",
    "\n",
    "    def forward(self, x):\n",
    "        # conv1 output width: input_width - (kernel_size - 1) => 150 - (5-1) = 146\n",
    "        # pool 1 output width: int(input_width/2) => 73\n",
    "        x = self.pool(F.relu(self.conv1(x)))\n",
    "        # conv2 output width: input_width - (kernel_size - 1) => 73 - (5-1) = 69\n",
    "        # pool 2 output width: int(input_width/2) => 34\n",
    "        x = self.pool(F.relu(self.conv2(x)))  \n",
    "        x = x.view(-1, 16 * 34 * 34)\n",
    "        x = F.relu(self.fc1(x))\n",
    "        x = F.relu(self.fc2(x))\n",
    "        x = self.fc3(x)\n",
    "        return x"
   ]
  },
  {
   "cell_type": "code",
   "execution_count": 20,
   "metadata": {},
   "outputs": [
    {
     "name": "stderr",
     "output_type": "stream",
     "text": [
      "/Users/annascaife/SRC/GITHUB/Attention-Gated-Networks/models/networks_other.py:42: UserWarning: nn.init.kaiming_normal is now deprecated in favor of nn.init.kaiming_normal_.\n",
      "  init.kaiming_normal(m.weight.data, a=0, mode='fan_in')\n",
      "/Users/annascaife/SRC/GITHUB/Attention-Gated-Networks/models/networks_other.py:46: UserWarning: nn.init.normal is now deprecated in favor of nn.init.normal_.\n",
      "  init.normal(m.weight.data, 1.0, 0.02)\n",
      "/Users/annascaife/SRC/GITHUB/Attention-Gated-Networks/models/networks_other.py:47: UserWarning: nn.init.constant is now deprecated in favor of nn.init.constant_.\n",
      "  init.constant(m.bias.data, 0.0)\n",
      "/Users/annascaife/SRC/GITHUB/Attention-Gated-Networks/models/layers/grid_attention_layer.py:269: UserWarning: nn.init.constant is now deprecated in favor of nn.init.constant_.\n",
      "  nn.init.constant(self.psi.bias.data, 10.0)\n"
     ]
    },
    {
     "name": "stdout",
     "output_type": "stream",
     "text": [
      "----------------------------------------------------------------\n",
      "        Layer (type)               Output Shape         Param #\n",
      "================================================================\n",
      "            Conv2d-1         [-1, 16, 150, 150]             160\n",
      "       BatchNorm2d-2         [-1, 16, 150, 150]              32\n",
      "              ReLU-3         [-1, 16, 150, 150]               0\n",
      "            Conv2d-4         [-1, 16, 150, 150]           2,320\n",
      "       BatchNorm2d-5         [-1, 16, 150, 150]              32\n",
      "              ReLU-6         [-1, 16, 150, 150]               0\n",
      "            Conv2d-7         [-1, 16, 150, 150]           2,320\n",
      "       BatchNorm2d-8         [-1, 16, 150, 150]              32\n",
      "              ReLU-9         [-1, 16, 150, 150]               0\n",
      "        unetConv2-10         [-1, 16, 150, 150]               0\n",
      "        MaxPool2d-11           [-1, 16, 75, 75]               0\n",
      "           Conv2d-12           [-1, 32, 75, 75]           4,640\n",
      "      BatchNorm2d-13           [-1, 32, 75, 75]              64\n",
      "             ReLU-14           [-1, 32, 75, 75]               0\n",
      "           Conv2d-15           [-1, 32, 75, 75]           9,248\n",
      "      BatchNorm2d-16           [-1, 32, 75, 75]              64\n",
      "             ReLU-17           [-1, 32, 75, 75]               0\n",
      "           Conv2d-18           [-1, 32, 75, 75]           9,248\n",
      "      BatchNorm2d-19           [-1, 32, 75, 75]              64\n",
      "             ReLU-20           [-1, 32, 75, 75]               0\n",
      "        unetConv2-21           [-1, 32, 75, 75]               0\n",
      "        MaxPool2d-22           [-1, 32, 37, 37]               0\n",
      "           Conv2d-23           [-1, 64, 37, 37]          18,496\n",
      "      BatchNorm2d-24           [-1, 64, 37, 37]             128\n",
      "             ReLU-25           [-1, 64, 37, 37]               0\n",
      "           Conv2d-26           [-1, 64, 37, 37]          36,928\n",
      "      BatchNorm2d-27           [-1, 64, 37, 37]             128\n",
      "             ReLU-28           [-1, 64, 37, 37]               0\n",
      "           Conv2d-29           [-1, 64, 37, 37]          36,928\n",
      "      BatchNorm2d-30           [-1, 64, 37, 37]             128\n",
      "             ReLU-31           [-1, 64, 37, 37]               0\n",
      "        unetConv2-32           [-1, 64, 37, 37]               0\n",
      "        MaxPool2d-33           [-1, 64, 18, 18]               0\n",
      "           Conv2d-34          [-1, 128, 18, 18]          73,856\n",
      "      BatchNorm2d-35          [-1, 128, 18, 18]             256\n",
      "             ReLU-36          [-1, 128, 18, 18]               0\n",
      "           Conv2d-37          [-1, 128, 18, 18]         147,584\n",
      "      BatchNorm2d-38          [-1, 128, 18, 18]             256\n",
      "             ReLU-39          [-1, 128, 18, 18]               0\n",
      "        unetConv2-40          [-1, 128, 18, 18]               0\n",
      "        MaxPool2d-41            [-1, 128, 9, 9]               0\n",
      "           Conv2d-42            [-1, 128, 9, 9]         147,584\n",
      "      BatchNorm2d-43            [-1, 128, 9, 9]             256\n",
      "             ReLU-44            [-1, 128, 9, 9]               0\n",
      "           Conv2d-45            [-1, 128, 9, 9]         147,584\n",
      "      BatchNorm2d-46            [-1, 128, 9, 9]             256\n",
      "             ReLU-47            [-1, 128, 9, 9]               0\n",
      "        unetConv2-48            [-1, 128, 9, 9]               0\n",
      "           Conv2d-49          [-1, 128, 37, 37]           8,192\n",
      "           Conv2d-50            [-1, 128, 9, 9]          16,384\n",
      "           Conv2d-51            [-1, 1, 37, 37]             129\n",
      "GridAttentionBlock2D_TORR-52  [[-1, 64, 37, 37], [-1, 1, 37, 37]]               0\n",
      "           Conv2d-53          [-1, 128, 18, 18]          16,384\n",
      "           Conv2d-54            [-1, 128, 9, 9]          16,384\n",
      "           Conv2d-55            [-1, 1, 18, 18]             129\n",
      "GridAttentionBlock2D_TORR-56  [[-1, 128, 18, 18], [-1, 1, 18, 18]]               0\n",
      "           Linear-57                    [-1, 2]             642\n",
      "================================================================\n",
      "Total params: 696,836\n",
      "Trainable params: 696,836\n",
      "Non-trainable params: 0\n",
      "----------------------------------------------------------------\n",
      "Input size (MB): 0.09\n",
      "Forward/backward pass size (MB): 963.90\n",
      "Params size (MB): 2.66\n",
      "Estimated Total Size (MB): 966.64\n",
      "----------------------------------------------------------------\n"
     ]
    },
    {
     "name": "stderr",
     "output_type": "stream",
     "text": [
      "/Users/annascaife/SRC/GITHUB/p3env/lib/python3.6/site-packages/torch/nn/functional.py:2351: UserWarning: nn.functional.upsample is deprecated. Use nn.functional.interpolate instead.\n",
      "  warnings.warn(\"nn.functional.upsample is deprecated. Use nn.functional.interpolate instead.\")\n",
      "/Users/annascaife/SRC/GITHUB/p3env/lib/python3.6/site-packages/torch/nn/functional.py:2423: UserWarning: Default upsampling behavior when mode=bilinear is changed to align_corners=False since 0.4.0. Please specify align_corners=True if the old behavior is desired. See the documentation of nn.Upsample for details.\n",
      "  \"See the documentation of nn.Upsample for details.\".format(mode))\n"
     ]
    }
   ],
   "source": [
    "#net = Net()\n",
    "net = sononet2(feature_scale=4, n_classes=2, in_channels=1)\n",
    "summary(net,(1,150,150))"
   ]
  },
  {
   "cell_type": "markdown",
   "metadata": {},
   "source": [
    "We'll use Classification Cross-Entropy loss and Adagrad with momentum for optimization:"
   ]
  },
  {
   "cell_type": "code",
   "execution_count": 21,
   "metadata": {},
   "outputs": [],
   "source": [
    "vi = nn.CrossEntropyLoss()\n",
    "optimizer = optim.Adagrad(net.parameters(), lr=0.001)"
   ]
  },
  {
   "cell_type": "code",
   "execution_count": 22,
   "metadata": {},
   "outputs": [
    {
     "data": {
      "text/plain": [
       "'model_sononet_FRDEEP_bayesian.pt'"
      ]
     },
     "execution_count": 22,
     "metadata": {},
     "output_type": "execute_result"
    }
   ],
   "source": [
    "ckpt_name = f'model_sononet_FRDEEP_bayesian.pt'\n",
    "ckpt_name"
   ]
  },
  {
   "cell_type": "markdown",
   "metadata": {},
   "source": [
    "Run 10 epochs of training:"
   ]
  },
  {
   "cell_type": "code",
   "execution_count": 23,
   "metadata": {},
   "outputs": [
    {
     "name": "stdout",
     "output_type": "stream",
     "text": [
      "Epoch: 1 \tTraining Loss: 0.004499 \tValidation Loss: 0.000514\n",
      "Validation loss decreased (inf --> 0.000514).  Saving model ...\n",
      "Epoch: 2 \tTraining Loss: 0.000674 \tValidation Loss: 0.000346\n",
      "Validation loss decreased (0.000514 --> 0.000346).  Saving model ...\n",
      "Epoch: 3 \tTraining Loss: 0.000123 \tValidation Loss: 0.000173\n",
      "Validation loss decreased (0.000346 --> 0.000173).  Saving model ...\n",
      "Epoch: 4 \tTraining Loss: 0.000055 \tValidation Loss: 0.000065\n",
      "Validation loss decreased (0.000173 --> 0.000065).  Saving model ...\n",
      "Epoch: 5 \tTraining Loss: 0.000023 \tValidation Loss: 0.000072\n",
      "Epoch: 6 \tTraining Loss: 0.000011 \tValidation Loss: 0.000051\n",
      "Validation loss decreased (0.000065 --> 0.000051).  Saving model ...\n",
      "Epoch: 7 \tTraining Loss: 0.000009 \tValidation Loss: 0.000068\n",
      "Epoch: 8 \tTraining Loss: 0.000009 \tValidation Loss: 0.000049\n",
      "Validation loss decreased (0.000051 --> 0.000049).  Saving model ...\n",
      "Epoch: 9 \tTraining Loss: 0.000011 \tValidation Loss: 0.000045\n",
      "Validation loss decreased (0.000049 --> 0.000045).  Saving model ...\n",
      "Epoch: 10 \tTraining Loss: 0.000007 \tValidation Loss: 0.000046\n",
      "Finished Training\n",
      "CPU times: user 12min 1s, sys: 2min 41s, total: 14min 43s\n",
      "Wall time: 10min 21s\n"
     ]
    }
   ],
   "source": [
    "%%time\n",
    "\n",
    "valid_loss_min = np.Inf # track change in validation loss\n",
    "batch_size=2\n",
    "outputs = 2\n",
    "inputs = 1\n",
    "resume = False\n",
    "n_epochs = 10\n",
    "lr = 0.001\n",
    "weight_decay = 0.0005\n",
    "num_samples = 1\n",
    "beta_type = \"Blundell\"\n",
    "resize=150\n",
    "use_cuda = False\n",
    "\n",
    "for epoch in range(1, n_epochs+1):\n",
    "\n",
    "    # keep track of training and validation loss\n",
    "    train_loss = 0.0\n",
    "    valid_loss = 0.0\n",
    "    \n",
    "    m = math.ceil(len(trainset) / batch_size)\n",
    "    \n",
    "    ###################\n",
    "    # train the model #\n",
    "    ###################\n",
    "    net.train()\n",
    "    for batch_idx, (data, target) in enumerate(trainloader):\n",
    "        # move tensors to GPU if CUDA is available\n",
    "        \n",
    "        data = data.view(-1, inputs, resize, resize).repeat(num_samples, 1, 1, 1)\n",
    "        target = target.repeat(num_samples)\n",
    "        if use_cuda:\n",
    "            data, target = data.cuda(), target.cuda()\n",
    "            \n",
    "        if beta_type is \"Blundell\":\n",
    "            beta = 2 ** (m - (batch_idx + 1)) / (2 ** m - 1)\n",
    "        elif beta_type is \"Soenderby\":\n",
    "            beta = min(epoch / (num_epochs // 4), 1)\n",
    "        elif beta_type is \"Standard\":\n",
    "            beta = 1 / m\n",
    "        else:\n",
    "            beta = 0\n",
    "            \n",
    "        # clear the gradients of all optimized variables\n",
    "        optimizer.zero_grad()\n",
    "        # forward pass: compute predicted outputs by passing inputs to the model\n",
    "        outputs = net.forward(data)\n",
    "        # calculate the batch loss\n",
    "        #loss = vi(output, target, kl, beta)\n",
    "        loss = vi(outputs, labels)\n",
    "        # backward pass: compute gradient of the loss with respect to model parameters\n",
    "        loss.backward()\n",
    "        # perform a single optimization step (parameter update)\n",
    "        optimizer.step()\n",
    "        # update training loss\n",
    "        train_loss += (loss.item()*data.size(0)) / num_samples\n",
    "        #print(train_loss)\n",
    "        \n",
    "    ######################    \n",
    "    # validate the model #\n",
    "    ######################\n",
    "    net.eval()\n",
    "    for batch_idx, (data, target) in enumerate(validloader):\n",
    "        data = data.view(-1, inputs, resize, resize).repeat(num_samples, 1, 1, 1)\n",
    "        target = target.repeat(num_samples)\n",
    "        # move tensors to GPU if CUDA is available\n",
    "        if use_cuda:\n",
    "            data, target = data.cuda(), target.cuda()\n",
    "        # forward pass: compute predicted outputs by passing inputs to the model\n",
    "        outputs = net.forward(data)\n",
    "        # calculate the batch loss\n",
    "        #loss = vi(output, target, kl, beta)\n",
    "        loss = vi(outputs, labels)\n",
    "        # update average validation loss \n",
    "        valid_loss += (loss.item()*data.size(0)) / num_samples\n",
    "        \n",
    "    # calculate average losses\n",
    "    train_loss = train_loss/(len(trainloader.dataset) * (1-valid_size))\n",
    "    valid_loss = valid_loss/(len(validloader.dataset) * valid_size)\n",
    "        \n",
    "    # print training/validation statistics \n",
    "    print('Epoch: {} \\tTraining Loss: {:.6f} \\tValidation Loss: {:.6f}'.format(\n",
    "        epoch, train_loss, valid_loss))\n",
    "    \n",
    "    # save model if validation loss has decreased\n",
    "    if valid_loss <= valid_loss_min:\n",
    "        print('Validation loss decreased ({:.6f} --> {:.6f}).  Saving model ...'.format(\n",
    "        valid_loss_min,\n",
    "        valid_loss))\n",
    "        torch.save(net.state_dict(), ckpt_name)\n",
    "        valid_loss_min = valid_loss\n",
    "\n",
    "print('Finished Training')"
   ]
  },
  {
   "cell_type": "markdown",
   "metadata": {},
   "source": [
    "Now we'll try out a couple of test samples just for visual kicks. First load them up and take a look at the true labels:"
   ]
  },
  {
   "cell_type": "code",
   "execution_count": 24,
   "metadata": {},
   "outputs": [],
   "source": [
    "dataiter = iter(testloader)\n",
    "images, labels = dataiter.next()"
   ]
  },
  {
   "cell_type": "code",
   "execution_count": 25,
   "metadata": {},
   "outputs": [
    {
     "data": {
      "image/png": "[encoded data removed]",
      "text/plain": [
       "<Figure size 432x288 with 1 Axes>"
      ]
     },
     "metadata": {
      "needs_background": "light"
     },
     "output_type": "display_data"
    },
    {
     "name": "stdout",
     "output_type": "stream",
     "text": [
      "GroundTruth:   FRII  FRII\n"
     ]
    }
   ],
   "source": [
    "# print images\n",
    "imshow(torchvision.utils.make_grid(images))\n",
    "print('GroundTruth: ', ' '.join('%5s' % classes[labels[j]] for j in range(batch_size_test)))"
   ]
  },
  {
   "cell_type": "markdown",
   "metadata": {},
   "source": [
    "Then see what the network predicts that they are:"
   ]
  },
  {
   "cell_type": "code",
   "execution_count": 26,
   "metadata": {},
   "outputs": [],
   "source": [
    "outputs = net(images)"
   ]
  },
  {
   "cell_type": "code",
   "execution_count": 27,
   "metadata": {},
   "outputs": [
    {
     "name": "stdout",
     "output_type": "stream",
     "text": [
      "Predicted:   FRII  FRII\n"
     ]
    }
   ],
   "source": [
    "_, predicted = torch.max(outputs, 1)\n",
    "print('Predicted: ', ' '.join('%5s' % classes[predicted[j]] for j in range(batch_size_test)))"
   ]
  },
  {
   "cell_type": "markdown",
   "metadata": {},
   "source": [
    "Now calculate the overall accuracy of the network on **all** the test images:"
   ]
  },
  {
   "cell_type": "code",
   "execution_count": 28,
   "metadata": {},
   "outputs": [
    {
     "name": "stdout",
     "output_type": "stream",
     "text": [
      "Accuracy of the network on the 50 test images: 56 %\n"
     ]
    }
   ],
   "source": [
    "correct = 0\n",
    "total = 0\n",
    "with torch.no_grad():\n",
    "    for data in testloader:\n",
    "        images, labels = data\n",
    "        outputs = net.forward(images)\n",
    "        _, predicted = torch.max(outputs.data, 1)\n",
    "        total += labels.size(0)\n",
    "        correct += (predicted == labels).sum().item()\n",
    "\n",
    "print('Accuracy of the network on the 50 test images: %d %%' % (100 * correct / total))"
   ]
  },
  {
   "cell_type": "markdown",
   "metadata": {},
   "source": [
    "This is a imbalanced dataset, so let's take a look at the accuracy for individual classes:"
   ]
  },
  {
   "cell_type": "code",
   "execution_count": 29,
   "metadata": {},
   "outputs": [],
   "source": [
    "class_correct = list(0. for i in range(10))\n",
    "class_total = list(0. for i in range(10))\n",
    "\n",
    "with torch.no_grad():\n",
    "    for data in testloader:\n",
    "        images, labels = data\n",
    "        outputs = net.forward(images)\n",
    "        _, predicted = torch.max(outputs, 1)\n",
    "        c = (predicted == labels).squeeze()\n",
    "        for i in range(batch_size_test):\n",
    "            label = labels[i]\n",
    "            class_correct[label] += c[i].item()\n",
    "            class_total[label] += 1\n"
   ]
  },
  {
   "cell_type": "code",
   "execution_count": 30,
   "metadata": {},
   "outputs": [
    {
     "name": "stdout",
     "output_type": "stream",
     "text": [
      "Accuracy of   FRI :  0 %\n",
      "Accuracy of  FRII : 100 %\n"
     ]
    }
   ],
   "source": [
    "for i in range(len(classes)):\n",
    "    print('Accuracy of %5s : %2d %%' % (classes[i], 100 * class_correct[i] / class_total[i]))"
   ]
  },
  {
   "cell_type": "code",
   "execution_count": null,
   "metadata": {},
   "outputs": [],
   "source": []
  }
 ],
 "metadata": {
  "kernelspec": {
   "display_name": "Python 3",
   "language": "python",
   "name": "python3"
  },
  "language_info": {
   "codemirror_mode": {
    "name": "ipython",
    "version": 3
   },
   "file_extension": ".py",
   "mimetype": "text/x-python",
   "name": "python",
   "nbconvert_exporter": "python",
   "pygments_lexer": "ipython3",
   "version": "3.6.7"
  }
 },
 "nbformat": 4,
 "nbformat_minor": 2
}
