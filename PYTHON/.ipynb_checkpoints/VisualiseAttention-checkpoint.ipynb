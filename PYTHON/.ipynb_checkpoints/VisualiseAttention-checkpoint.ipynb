{
 "cells": [
  {
   "cell_type": "markdown",
   "metadata": {},
   "source": [
    "This script mostly follows [the standard CIFAR10 Pytorch example](https://pytorch.org/tutorials/beginner/blitz/cifar10_tutorial.html). It extracts grey scale images from the dataset.\n",
    "\n",
    "The steps are:\n",
    "\n",
    "1. Load and normalizing the FRDEEP-F training and test datasets using torchvision\n",
    "2. Define a Convolutional Neural Network\n",
    "3. Define a loss function\n",
    "4. Train the network on the training data\n",
    "5. Test the network on the test data"
   ]
  },
  {
   "cell_type": "markdown",
   "metadata": {},
   "source": [
    "First import some standard python libraries for plotting stuff and handling arrays:"
   ]
  },
  {
   "cell_type": "code",
   "execution_count": 1,
   "metadata": {},
   "outputs": [],
   "source": [
    "import matplotlib.pyplot as plt\n",
    "import numpy as np\n",
    "import math\n",
    "import PIL"
   ]
  },
  {
   "cell_type": "markdown",
   "metadata": {},
   "source": [
    "Then import the pytorch, torchvision and torchsummary libraries:"
   ]
  },
  {
   "cell_type": "code",
   "execution_count": 2,
   "metadata": {},
   "outputs": [],
   "source": [
    "import torch\n",
    "import torchvision\n",
    "import torchvision.transforms as transforms\n",
    "from torchvision import datasets\n",
    "from torchsummary import summary\n",
    "from torch.utils.data import SubsetRandomSampler"
   ]
  },
  {
   "cell_type": "markdown",
   "metadata": {},
   "source": [
    "Then import the pytorch neural network stuff:"
   ]
  },
  {
   "cell_type": "code",
   "execution_count": 3,
   "metadata": {},
   "outputs": [],
   "source": [
    "import torch.nn as nn\n",
    "import torch.nn.functional as F"
   ]
  },
  {
   "cell_type": "markdown",
   "metadata": {},
   "source": [
    "Then import the oprimization library from pytorch:"
   ]
  },
  {
   "cell_type": "code",
   "execution_count": 4,
   "metadata": {},
   "outputs": [],
   "source": [
    "import torch.optim as optim"
   ]
  },
  {
   "cell_type": "markdown",
   "metadata": {},
   "source": [
    "Finally import the FRDEEP-F pytorch dataset class. This is not provided with pytorch, you need to [grab it from the FRDEEP github](\n",
    "https://github.com/HongmingTang060313/FR-DEEP/blob/master/FRDEEP.py)."
   ]
  },
  {
   "cell_type": "code",
   "execution_count": 5,
   "metadata": {},
   "outputs": [],
   "source": [
    "from FRDEEP import FRDEEPF"
   ]
  },
  {
   "cell_type": "code",
   "execution_count": 6,
   "metadata": {},
   "outputs": [],
   "source": [
    "from networks.sononet_grid_attention import sononet_grid_attention as sononet2"
   ]
  },
  {
   "cell_type": "markdown",
   "metadata": {},
   "source": [
    "The output of torchvision datasets are PILImage images of range [0, 1]. We transform them to Tensors of normalized range [-1, 1]."
   ]
  },
  {
   "cell_type": "code",
   "execution_count": 7,
   "metadata": {},
   "outputs": [],
   "source": [
    "transform = transforms.Compose(\n",
    "    [torchvision.transforms.RandomRotation(20, resample=PIL.Image.BILINEAR),\n",
    "     transforms.ToTensor(),\n",
    "     transforms.Normalize([0.5],[0.5])])"
   ]
  },
  {
   "cell_type": "code",
   "execution_count": 8,
   "metadata": {},
   "outputs": [],
   "source": [
    "bsize=32"
   ]
  },
  {
   "cell_type": "markdown",
   "metadata": {},
   "source": [
    "Load in the training and test datasets. The first time you do this it will download the data to your working directory, but once the data is there it will just use it without repeating the download."
   ]
  },
  {
   "cell_type": "code",
   "execution_count": 9,
   "metadata": {},
   "outputs": [
    {
     "name": "stdout",
     "output_type": "stream",
     "text": [
      "Files already downloaded and verified\n"
     ]
    }
   ],
   "source": [
    "trainset = FRDEEPF(root='./FIRST_data', train=True, download=True, transform=transform)  \n",
    "batch_size_train = bsize"
   ]
  },
  {
   "cell_type": "code",
   "execution_count": 10,
   "metadata": {},
   "outputs": [
    {
     "name": "stdout",
     "output_type": "stream",
     "text": [
      "Files already downloaded and verified\n"
     ]
    }
   ],
   "source": [
    "testset = FRDEEPF(root='./FIRST_data', train=False, download=True, transform=transform) \n",
    "batch_size_test = bsize"
   ]
  },
  {
   "cell_type": "code",
   "execution_count": 11,
   "metadata": {},
   "outputs": [],
   "source": [
    "# percentage of training set to use as validation\n",
    "valid_size = 0.2"
   ]
  },
  {
   "cell_type": "code",
   "execution_count": 12,
   "metadata": {},
   "outputs": [],
   "source": [
    "# obtain training indices that will be used for validation\n",
    "num_train = len(trainset)\n",
    "indices = list(range(num_train))\n",
    "np.random.shuffle(indices)\n",
    "split = int(np.floor(valid_size * num_train))\n",
    "train_idx, valid_idx = indices[split:], indices[:split]"
   ]
  },
  {
   "cell_type": "code",
   "execution_count": 13,
   "metadata": {},
   "outputs": [],
   "source": [
    "# define samplers for obtaining training and validation batches\n",
    "train_sampler = SubsetRandomSampler(train_idx)\n",
    "valid_sampler = SubsetRandomSampler(valid_idx)"
   ]
  },
  {
   "cell_type": "code",
   "execution_count": 14,
   "metadata": {},
   "outputs": [
    {
     "name": "stdout",
     "output_type": "stream",
     "text": [
      "Files already downloaded and verified\n"
     ]
    }
   ],
   "source": [
    "validset = FRDEEPF(root='./FIRST_data', train=True, download=True, transform=transform)  \n",
    "batch_size_train = bsize"
   ]
  },
  {
   "cell_type": "markdown",
   "metadata": {},
   "source": [
    "There are two classes in this dataset: FRI and FRII:"
   ]
  },
  {
   "cell_type": "code",
   "execution_count": 15,
   "metadata": {},
   "outputs": [],
   "source": [
    "trainloader = torch.utils.data.DataLoader(trainset, batch_size=batch_size_train, sampler=train_sampler, num_workers=2)\n",
    "validloader = torch.utils.data.DataLoader(validset, batch_size=batch_size_train, sampler=valid_sampler, num_workers=2)\n",
    "testloader = torch.utils.data.DataLoader(testset, batch_size=batch_size_test, shuffle=True, num_workers=2)"
   ]
  },
  {
   "cell_type": "code",
   "execution_count": 16,
   "metadata": {},
   "outputs": [],
   "source": [
    "classes = ('FRI', 'FRII')"
   ]
  },
  {
   "cell_type": "markdown",
   "metadata": {},
   "source": [
    "A little function to display images nicely:"
   ]
  },
  {
   "cell_type": "code",
   "execution_count": 17,
   "metadata": {},
   "outputs": [],
   "source": [
    "def imshow(img):\n",
    "    # unnormalize\n",
    "    img = img / 2 + 0.5\n",
    "    npimg = img.numpy()\n",
    "    plt.imshow(np.transpose(npimg, (1, 2, 0)))\n",
    "    plt.show()"
   ]
  },
  {
   "cell_type": "markdown",
   "metadata": {},
   "source": [
    "Take a look at some randomly selected samples to see how they appear:"
   ]
  },
  {
   "cell_type": "code",
   "execution_count": 18,
   "metadata": {},
   "outputs": [],
   "source": [
    "# get some random training images\n",
    "dataiter = iter(trainloader)\n",
    "images, labels = dataiter.next()"
   ]
  },
  {
   "cell_type": "code",
   "execution_count": 19,
   "metadata": {},
   "outputs": [
    {
     "data": {
      "image/png": "[encoded data removed]",
      "text/plain": [
       "<Figure size 432x288 with 1 Axes>"
      ]
     },
     "metadata": {
      "needs_background": "light"
     },
     "output_type": "display_data"
    },
    {
     "name": "stdout",
     "output_type": "stream",
     "text": [
      "  FRI  FRII  FRII  FRII   FRI  FRII  FRII  FRII  FRII   FRI   FRI  FRII   FRI  FRII  FRII   FRI   FRI  FRII   FRI  FRII  FRII   FRI   FRI  FRII  FRII   FRI   FRI   FRI   FRI   FRI   FRI  FRII\n"
     ]
    }
   ],
   "source": [
    "# show images\n",
    "imshow(torchvision.utils.make_grid(images))\n",
    "# print labels\n",
    "print(' '.join('%5s' % classes[labels[j]] for j in range(batch_size_train)))"
   ]
  },
  {
   "cell_type": "markdown",
   "metadata": {},
   "source": [
    "Define a neural network that takes greyscale images as input:"
   ]
  },
  {
   "cell_type": "code",
   "execution_count": 20,
   "metadata": {},
   "outputs": [
    {
     "name": "stdout",
     "output_type": "stream",
     "text": [
      "----------------------------------------------------------------\n",
      "        Layer (type)               Output Shape         Param #\n",
      "================================================================\n",
      "            Conv2d-1         [-1, 16, 150, 150]             160\n",
      "       BatchNorm2d-2         [-1, 16, 150, 150]              32\n",
      "              ReLU-3         [-1, 16, 150, 150]               0\n",
      "            Conv2d-4         [-1, 16, 150, 150]           2,320\n",
      "       BatchNorm2d-5         [-1, 16, 150, 150]              32\n",
      "              ReLU-6         [-1, 16, 150, 150]               0\n",
      "            Conv2d-7         [-1, 16, 150, 150]           2,320\n",
      "       BatchNorm2d-8         [-1, 16, 150, 150]              32\n",
      "              ReLU-9         [-1, 16, 150, 150]               0\n",
      "        unetConv2-10         [-1, 16, 150, 150]               0\n",
      "        MaxPool2d-11           [-1, 16, 75, 75]               0\n",
      "           Conv2d-12           [-1, 32, 75, 75]           4,640\n",
      "      BatchNorm2d-13           [-1, 32, 75, 75]              64\n",
      "             ReLU-14           [-1, 32, 75, 75]               0\n",
      "           Conv2d-15           [-1, 32, 75, 75]           9,248\n",
      "      BatchNorm2d-16           [-1, 32, 75, 75]              64\n",
      "             ReLU-17           [-1, 32, 75, 75]               0\n",
      "           Conv2d-18           [-1, 32, 75, 75]           9,248\n",
      "      BatchNorm2d-19           [-1, 32, 75, 75]              64\n",
      "             ReLU-20           [-1, 32, 75, 75]               0\n",
      "        unetConv2-21           [-1, 32, 75, 75]               0\n",
      "        MaxPool2d-22           [-1, 32, 37, 37]               0\n",
      "           Conv2d-23           [-1, 64, 37, 37]          18,496\n",
      "      BatchNorm2d-24           [-1, 64, 37, 37]             128\n",
      "             ReLU-25           [-1, 64, 37, 37]               0\n",
      "           Conv2d-26           [-1, 64, 37, 37]          36,928\n",
      "      BatchNorm2d-27           [-1, 64, 37, 37]             128\n",
      "             ReLU-28           [-1, 64, 37, 37]               0\n",
      "           Conv2d-29           [-1, 64, 37, 37]          36,928\n",
      "      BatchNorm2d-30           [-1, 64, 37, 37]             128\n",
      "             ReLU-31           [-1, 64, 37, 37]               0\n",
      "        unetConv2-32           [-1, 64, 37, 37]               0\n",
      "        MaxPool2d-33           [-1, 64, 18, 18]               0\n",
      "           Conv2d-34          [-1, 128, 18, 18]          73,856\n",
      "      BatchNorm2d-35          [-1, 128, 18, 18]             256\n",
      "             ReLU-36          [-1, 128, 18, 18]               0\n",
      "           Conv2d-37          [-1, 128, 18, 18]         147,584\n",
      "      BatchNorm2d-38          [-1, 128, 18, 18]             256\n",
      "             ReLU-39          [-1, 128, 18, 18]               0\n",
      "        unetConv2-40          [-1, 128, 18, 18]               0\n",
      "        MaxPool2d-41            [-1, 128, 9, 9]               0\n",
      "           Conv2d-42            [-1, 128, 9, 9]         147,584\n",
      "      BatchNorm2d-43            [-1, 128, 9, 9]             256\n",
      "             ReLU-44            [-1, 128, 9, 9]               0\n",
      "           Conv2d-45            [-1, 128, 9, 9]         147,584\n",
      "      BatchNorm2d-46            [-1, 128, 9, 9]             256\n",
      "             ReLU-47            [-1, 128, 9, 9]               0\n",
      "        unetConv2-48            [-1, 128, 9, 9]               0\n",
      "           Conv2d-49          [-1, 128, 37, 37]           8,192\n",
      "           Conv2d-50            [-1, 128, 9, 9]          16,384\n",
      "           Conv2d-51            [-1, 1, 37, 37]             129\n",
      "GridAttentionBlock2D_TORR-52  [[-1, 64, 37, 37], [-1, 1, 37, 37]]               0\n",
      "           Conv2d-53          [-1, 128, 18, 18]          16,384\n",
      "           Conv2d-54            [-1, 128, 9, 9]          16,384\n",
      "           Conv2d-55            [-1, 1, 18, 18]             129\n",
      "GridAttentionBlock2D_TORR-56  [[-1, 128, 18, 18], [-1, 1, 18, 18]]               0\n",
      "           Linear-57                    [-1, 2]             642\n",
      "================================================================\n",
      "Total params: 696,836\n",
      "Trainable params: 696,836\n",
      "Non-trainable params: 0\n",
      "----------------------------------------------------------------\n",
      "Input size (MB): 0.09\n",
      "Forward/backward pass size (MB): 963.90\n",
      "Params size (MB): 2.66\n",
      "Estimated Total Size (MB): 966.64\n",
      "----------------------------------------------------------------\n"
     ]
    },
    {
     "name": "stderr",
     "output_type": "stream",
     "text": [
      "/Users/annascaife/SRC/GITHUB/Attention-Gated-Networks/models/networks_other.py:42: UserWarning: nn.init.kaiming_normal is now deprecated in favor of nn.init.kaiming_normal_.\n",
      "  init.kaiming_normal(m.weight.data, a=0, mode='fan_in')\n",
      "/Users/annascaife/SRC/GITHUB/Attention-Gated-Networks/models/networks_other.py:46: UserWarning: nn.init.normal is now deprecated in favor of nn.init.normal_.\n",
      "  init.normal(m.weight.data, 1.0, 0.02)\n",
      "/Users/annascaife/SRC/GITHUB/Attention-Gated-Networks/models/networks_other.py:47: UserWarning: nn.init.constant is now deprecated in favor of nn.init.constant_.\n",
      "  init.constant(m.bias.data, 0.0)\n",
      "/Users/annascaife/SRC/GITHUB/Attention-Gated-Networks/models/layers/grid_attention_layer.py:269: UserWarning: nn.init.constant is now deprecated in favor of nn.init.constant_.\n",
      "  nn.init.constant(self.psi.bias.data, 10.0)\n",
      "/Users/annascaife/SRC/GITHUB/p3env/lib/python3.6/site-packages/torch/nn/functional.py:2390: UserWarning: nn.functional.upsample is deprecated. Use nn.functional.interpolate instead.\n",
      "  warnings.warn(\"nn.functional.upsample is deprecated. Use nn.functional.interpolate instead.\")\n",
      "/Users/annascaife/SRC/GITHUB/p3env/lib/python3.6/site-packages/torch/nn/functional.py:2479: UserWarning: Default upsampling behavior when mode=bilinear is changed to align_corners=False since 0.4.0. Please specify align_corners=True if the old behavior is desired. See the documentation of nn.Upsample for details.\n",
      "  \"See the documentation of nn.Upsample for details.\".format(mode))\n"
     ]
    }
   ],
   "source": [
    "net = sononet2(feature_scale=4, n_classes=2, in_channels=1)\n",
    "summary(net,(1,150,150))"
   ]
  },
  {
   "cell_type": "markdown",
   "metadata": {},
   "source": [
    "We'll use Classification Cross-Entropy loss and Adagrad with momentum for optimization:"
   ]
  },
  {
   "cell_type": "code",
   "execution_count": 21,
   "metadata": {},
   "outputs": [],
   "source": [
    "vi = nn.CrossEntropyLoss()\n",
    "optimizer = optim.Adagrad(net.parameters(), lr=0.001)"
   ]
  },
  {
   "cell_type": "code",
   "execution_count": 22,
   "metadata": {},
   "outputs": [
    {
     "data": {
      "text/plain": [
       "'model_sononet_FRDEEPF_bayesian.pt'"
      ]
     },
     "execution_count": 22,
     "metadata": {},
     "output_type": "execute_result"
    }
   ],
   "source": [
    "ckpt_name = f'model_sononet_FRDEEPF_bayesian.pt'\n",
    "ckpt_name"
   ]
  },
  {
   "cell_type": "markdown",
   "metadata": {},
   "source": [
    "Run 10 epochs of training:"
   ]
  },
  {
   "cell_type": "code",
   "execution_count": 23,
   "metadata": {},
   "outputs": [
    {
     "name": "stdout",
     "output_type": "stream",
     "text": [
      "Epoch: 1 \tTraining Loss: 0.699345 \tValidation Loss: 0.693917\n",
      "Validation loss decreased (inf --> 0.693917).  Saving model ...\n",
      "Epoch: 2 \tTraining Loss: 0.579323 \tValidation Loss: 0.672613\n",
      "Validation loss decreased (0.693917 --> 0.672613).  Saving model ...\n",
      "Epoch: 3 \tTraining Loss: 0.409307 \tValidation Loss: 1.305123\n",
      "Epoch: 4 \tTraining Loss: 0.300649 \tValidation Loss: 0.329638\n",
      "Validation loss decreased (0.672613 --> 0.329638).  Saving model ...\n",
      "Epoch: 5 \tTraining Loss: 0.290443 \tValidation Loss: 1.330888\n",
      "Epoch: 6 \tTraining Loss: 0.281712 \tValidation Loss: 0.318432\n",
      "Validation loss decreased (0.329638 --> 0.318432).  Saving model ...\n",
      "Epoch: 7 \tTraining Loss: 0.271857 \tValidation Loss: 1.144086\n",
      "Epoch: 8 \tTraining Loss: 0.240785 \tValidation Loss: 0.299095\n",
      "Validation loss decreased (0.318432 --> 0.299095).  Saving model ...\n",
      "Epoch: 9 \tTraining Loss: 0.229219 \tValidation Loss: 0.267771\n",
      "Validation loss decreased (0.299095 --> 0.267771).  Saving model ...\n",
      "Epoch: 10 \tTraining Loss: 0.210606 \tValidation Loss: 0.465394\n",
      "Epoch: 11 \tTraining Loss: 0.211820 \tValidation Loss: 1.728721\n",
      "Epoch: 12 \tTraining Loss: 0.194610 \tValidation Loss: 0.281763\n",
      "Epoch: 13 \tTraining Loss: 0.189810 \tValidation Loss: 0.268306\n",
      "Epoch: 14 \tTraining Loss: 0.174627 \tValidation Loss: 0.903607\n",
      "Epoch: 15 \tTraining Loss: 0.164666 \tValidation Loss: 0.277085\n",
      "Epoch: 16 \tTraining Loss: 0.145478 \tValidation Loss: 1.362923\n",
      "Epoch: 17 \tTraining Loss: 0.162226 \tValidation Loss: 0.238061\n",
      "Validation loss decreased (0.267771 --> 0.238061).  Saving model ...\n",
      "Epoch: 18 \tTraining Loss: 0.129088 \tValidation Loss: 0.253437\n",
      "Epoch: 19 \tTraining Loss: 0.128147 \tValidation Loss: 0.328808\n",
      "Epoch: 20 \tTraining Loss: 0.112184 \tValidation Loss: 0.306639\n",
      "Epoch: 21 \tTraining Loss: 0.129528 \tValidation Loss: 0.408507\n",
      "Epoch: 22 \tTraining Loss: 0.112791 \tValidation Loss: 0.358915\n",
      "Epoch: 23 \tTraining Loss: 0.115771 \tValidation Loss: 0.257917\n",
      "Epoch: 24 \tTraining Loss: 0.089480 \tValidation Loss: 0.305322\n",
      "Epoch: 25 \tTraining Loss: 0.083634 \tValidation Loss: 0.267587\n",
      "Epoch: 26 \tTraining Loss: 0.110004 \tValidation Loss: 0.262596\n",
      "Epoch: 27 \tTraining Loss: 0.093818 \tValidation Loss: 0.301306\n",
      "Epoch: 28 \tTraining Loss: 0.069605 \tValidation Loss: 0.279423\n",
      "Epoch: 29 \tTraining Loss: 0.072986 \tValidation Loss: 0.378856\n",
      "Epoch: 30 \tTraining Loss: 0.060345 \tValidation Loss: 0.321531\n",
      "Epoch: 31 \tTraining Loss: 0.104963 \tValidation Loss: 0.537417\n",
      "Epoch: 32 \tTraining Loss: 0.070441 \tValidation Loss: 0.256334\n",
      "Epoch: 33 \tTraining Loss: 0.065011 \tValidation Loss: 0.233600\n",
      "Validation loss decreased (0.238061 --> 0.233600).  Saving model ...\n",
      "Epoch: 34 \tTraining Loss: 0.077748 \tValidation Loss: 0.303663\n",
      "Epoch: 35 \tTraining Loss: 0.053769 \tValidation Loss: 0.261384\n",
      "Epoch: 36 \tTraining Loss: 0.046627 \tValidation Loss: 0.246915\n",
      "Epoch: 37 \tTraining Loss: 0.041952 \tValidation Loss: 0.258501\n",
      "Epoch: 38 \tTraining Loss: 0.041102 \tValidation Loss: 0.214237\n",
      "Validation loss decreased (0.233600 --> 0.214237).  Saving model ...\n",
      "Epoch: 39 \tTraining Loss: 0.080277 \tValidation Loss: 0.293051\n",
      "Epoch: 40 \tTraining Loss: 0.053589 \tValidation Loss: 0.238524\n",
      "Epoch: 41 \tTraining Loss: 0.072966 \tValidation Loss: 0.447611\n",
      "Epoch: 42 \tTraining Loss: 0.052743 \tValidation Loss: 0.541828\n",
      "Epoch: 43 \tTraining Loss: 0.045383 \tValidation Loss: 0.243590\n",
      "Epoch: 44 \tTraining Loss: 0.043055 \tValidation Loss: 0.275475\n",
      "Epoch: 45 \tTraining Loss: 0.032206 \tValidation Loss: 0.337768\n",
      "Epoch: 46 \tTraining Loss: 0.025212 \tValidation Loss: 0.272542\n",
      "Epoch: 47 \tTraining Loss: 0.025643 \tValidation Loss: 0.252907\n",
      "Epoch: 48 \tTraining Loss: 0.025457 \tValidation Loss: 0.321051\n",
      "Epoch: 49 \tTraining Loss: 0.025051 \tValidation Loss: 0.250921\n",
      "Epoch: 50 \tTraining Loss: 0.018475 \tValidation Loss: 0.278936\n",
      "Epoch: 51 \tTraining Loss: 0.021171 \tValidation Loss: 0.248860\n",
      "Epoch: 52 \tTraining Loss: 0.022749 \tValidation Loss: 0.298594\n",
      "Epoch: 53 \tTraining Loss: 0.020805 \tValidation Loss: 0.350560\n",
      "Epoch: 54 \tTraining Loss: 0.018698 \tValidation Loss: 0.319310\n",
      "Epoch: 55 \tTraining Loss: 0.039916 \tValidation Loss: 0.355285\n",
      "Epoch: 56 \tTraining Loss: 0.030093 \tValidation Loss: 0.339391\n",
      "Epoch: 57 \tTraining Loss: 0.025104 \tValidation Loss: 0.324467\n",
      "Epoch: 58 \tTraining Loss: 0.024360 \tValidation Loss: 0.239995\n",
      "Epoch: 59 \tTraining Loss: 0.015753 \tValidation Loss: 0.372687\n",
      "Epoch: 60 \tTraining Loss: 0.017146 \tValidation Loss: 0.325643\n",
      "Epoch: 61 \tTraining Loss: 0.014965 \tValidation Loss: 0.273489\n",
      "Epoch: 62 \tTraining Loss: 0.016388 \tValidation Loss: 0.330400\n",
      "Epoch: 63 \tTraining Loss: 0.024022 \tValidation Loss: 0.290708\n",
      "Epoch: 64 \tTraining Loss: 0.018359 \tValidation Loss: 0.314996\n",
      "Epoch: 65 \tTraining Loss: 0.017723 \tValidation Loss: 0.324909\n",
      "Epoch: 66 \tTraining Loss: 0.017377 \tValidation Loss: 0.289064\n",
      "Epoch: 67 \tTraining Loss: 0.012655 \tValidation Loss: 0.258512\n",
      "Epoch: 68 \tTraining Loss: 0.011072 \tValidation Loss: 0.327397\n",
      "Epoch: 69 \tTraining Loss: 0.014779 \tValidation Loss: 0.308512\n",
      "Epoch: 70 \tTraining Loss: 0.024588 \tValidation Loss: 0.299741\n",
      "Epoch: 71 \tTraining Loss: 0.014129 \tValidation Loss: 0.280551\n",
      "Epoch: 72 \tTraining Loss: 0.021194 \tValidation Loss: 0.559028\n",
      "Epoch: 73 \tTraining Loss: 0.016672 \tValidation Loss: 0.328674\n",
      "Epoch: 74 \tTraining Loss: 0.015738 \tValidation Loss: 0.371166\n",
      "Epoch: 75 \tTraining Loss: 0.015373 \tValidation Loss: 0.570958\n",
      "Epoch: 76 \tTraining Loss: 0.012814 \tValidation Loss: 0.375453\n",
      "Epoch: 77 \tTraining Loss: 0.014701 \tValidation Loss: 0.297090\n",
      "Epoch: 78 \tTraining Loss: 0.009035 \tValidation Loss: 0.311170\n",
      "Epoch: 79 \tTraining Loss: 0.009334 \tValidation Loss: 0.302995\n",
      "Epoch: 80 \tTraining Loss: 0.012964 \tValidation Loss: 0.291145\n",
      "Epoch: 81 \tTraining Loss: 0.011161 \tValidation Loss: 0.256768\n",
      "Epoch: 82 \tTraining Loss: 0.011091 \tValidation Loss: 0.236146\n",
      "Epoch: 83 \tTraining Loss: 0.009108 \tValidation Loss: 0.239608\n",
      "Epoch: 84 \tTraining Loss: 0.011485 \tValidation Loss: 0.310697\n",
      "Epoch: 85 \tTraining Loss: 0.008679 \tValidation Loss: 0.393217\n",
      "Epoch: 86 \tTraining Loss: 0.009588 \tValidation Loss: 0.320978\n",
      "Epoch: 87 \tTraining Loss: 0.029759 \tValidation Loss: 1.707838\n",
      "Epoch: 88 \tTraining Loss: 0.012465 \tValidation Loss: 0.407240\n",
      "Epoch: 89 \tTraining Loss: 0.009139 \tValidation Loss: 0.330837\n",
      "Epoch: 90 \tTraining Loss: 0.006361 \tValidation Loss: 0.200557\n",
      "Validation loss decreased (0.214237 --> 0.200557).  Saving model ...\n",
      "Epoch: 91 \tTraining Loss: 0.011081 \tValidation Loss: 0.400130\n",
      "Epoch: 92 \tTraining Loss: 0.008973 \tValidation Loss: 0.257208\n",
      "Epoch: 93 \tTraining Loss: 0.009843 \tValidation Loss: 0.315564\n",
      "Epoch: 94 \tTraining Loss: 0.007087 \tValidation Loss: 0.276276\n",
      "Epoch: 95 \tTraining Loss: 0.011201 \tValidation Loss: 0.338253\n",
      "Epoch: 96 \tTraining Loss: 0.010584 \tValidation Loss: 0.174129\n",
      "Validation loss decreased (0.200557 --> 0.174129).  Saving model ...\n",
      "Epoch: 97 \tTraining Loss: 0.007856 \tValidation Loss: 0.356906\n",
      "Epoch: 98 \tTraining Loss: 0.014346 \tValidation Loss: 0.354568\n",
      "Epoch: 99 \tTraining Loss: 0.009388 \tValidation Loss: 0.200769\n",
      "Epoch: 100 \tTraining Loss: 0.007136 \tValidation Loss: 0.315768\n",
      "Finished Training\n",
      "CPU times: user 1h 3min 46s, sys: 9min 17s, total: 1h 13min 3s\n",
      "Wall time: 1h 13min 48s\n"
     ]
    }
   ],
   "source": [
    "%%time\n",
    "\n",
    "valid_loss_min = np.Inf # track change in validation loss\n",
    "batch_size=bsize\n",
    "outputs = 2\n",
    "inputs = 1\n",
    "resume = False\n",
    "n_epochs = 100\n",
    "lr = 0.001\n",
    "weight_decay = 0.0005\n",
    "num_samples = 1\n",
    "beta_type = \"Blundell\"\n",
    "resize=150\n",
    "use_cuda = False\n",
    "\n",
    "for epoch in range(1, n_epochs+1):\n",
    "\n",
    "    # keep track of training and validation loss\n",
    "    train_loss = 0.0\n",
    "    valid_loss = 0.0\n",
    "    \n",
    "    m = math.ceil(len(trainset) / batch_size)\n",
    "    \n",
    "    ###################\n",
    "    # train the model #\n",
    "    ###################\n",
    "    net.train()\n",
    "    for batch_idx, (data, target) in enumerate(trainloader):\n",
    "        # move tensors to GPU if CUDA is available\n",
    "        \n",
    "        data = data.view(-1, inputs, resize, resize).repeat(num_samples, 1, 1, 1)\n",
    "        target = target.repeat(num_samples)\n",
    "        if use_cuda:\n",
    "            data, target = data.cuda(), target.cuda()\n",
    "            \n",
    "        if beta_type is \"Blundell\":\n",
    "            beta = 2 ** (m - (batch_idx + 1)) / (2 ** m - 1)\n",
    "        elif beta_type is \"Soenderby\":\n",
    "            beta = min(epoch / (num_epochs // 4), 1)\n",
    "        elif beta_type is \"Standard\":\n",
    "            beta = 1 / m\n",
    "        else:\n",
    "            beta = 0\n",
    "            \n",
    "        # clear the gradients of all optimized variables\n",
    "        optimizer.zero_grad()\n",
    "        #print(\"here 1:\",data.shape)\n",
    "        \n",
    "        # forward pass: compute predicted outputs by passing inputs to the model\n",
    "        outputs = net.forward(data)\n",
    "        #print(\"here 2:\",outputs.shape)\n",
    "        \n",
    "        # calculate the batch loss\n",
    "        #loss = vi(output, target, kl, beta)\n",
    "        loss = vi(outputs, target)\n",
    "        #print(\"here 3:\",loss)\n",
    "        \n",
    "        # backward pass: compute gradient of the loss with respect to model parameters\n",
    "        loss.backward()\n",
    "        # perform a single optimization step (parameter update)\n",
    "        optimizer.step()\n",
    "        # update training loss\n",
    "        train_loss += (loss.item()*data.size(0)) / num_samples\n",
    "        # print(\"here 4:\",train_loss)\n",
    "        \n",
    "    ######################    \n",
    "    # validate the model #\n",
    "    ######################\n",
    "    net.eval()\n",
    "    for batch_idx, (data, target) in enumerate(validloader):\n",
    "        data = data.view(-1, inputs, resize, resize).repeat(num_samples, 1, 1, 1)\n",
    "        target = target.repeat(num_samples)\n",
    "        # move tensors to GPU if CUDA is available\n",
    "        if use_cuda:\n",
    "            data, target = data.cuda(), target.cuda()\n",
    "        # forward pass: compute predicted outputs by passing inputs to the model\n",
    "        outputs = net.forward(data)\n",
    "        # calculate the batch loss\n",
    "        #loss = vi(output, target, kl, beta)\n",
    "        loss = vi(outputs, target)\n",
    "        # update average validation loss \n",
    "        valid_loss += (loss.item()*data.size(0)) / num_samples\n",
    "        \n",
    "    # calculate average losses\n",
    "    train_loss = train_loss/(len(trainloader.dataset) * (1-valid_size))\n",
    "    valid_loss = valid_loss/(len(validloader.dataset) * valid_size)\n",
    "        \n",
    "    # print training/validation statistics \n",
    "    print('Epoch: {} \\tTraining Loss: {:.6f} \\tValidation Loss: {:.6f}'.format(\n",
    "        epoch, train_loss, valid_loss))\n",
    "    \n",
    "    # save model if validation loss has decreased\n",
    "    if valid_loss <= valid_loss_min:\n",
    "        print('Validation loss decreased ({:.6f} --> {:.6f}).  Saving model ...'.format(\n",
    "        valid_loss_min,\n",
    "        valid_loss))\n",
    "        torch.save(net.state_dict(), ckpt_name)\n",
    "        valid_loss_min = valid_loss\n",
    "\n",
    "print('Finished Training')"
   ]
  },
  {
   "cell_type": "markdown",
   "metadata": {},
   "source": [
    "Now we'll try out a couple of test samples just for visual kicks. First load them up and take a look at the true labels:"
   ]
  },
  {
   "cell_type": "code",
   "execution_count": 41,
   "metadata": {},
   "outputs": [],
   "source": [
    "dataiter = iter(testloader)\n",
    "images, labels = dataiter.next()"
   ]
  },
  {
   "cell_type": "code",
   "execution_count": 42,
   "metadata": {},
   "outputs": [
    {
     "data": {
      "image/png": "[encoded data removed]",
      "text/plain": [
       "<Figure size 432x288 with 1 Axes>"
      ]
     },
     "metadata": {
      "needs_background": "light"
     },
     "output_type": "display_data"
    },
    {
     "name": "stdout",
     "output_type": "stream",
     "text": [
      "GroundTruth:    FRI   FRI  FRII   FRI  FRII  FRII   FRI  FRII  FRII  FRII   FRI  FRII  FRII   FRI  FRII  FRII  FRII  FRII  FRII   FRI  FRII   FRI   FRI   FRI   FRI  FRII  FRII  FRII  FRII   FRI  FRII   FRI\n"
     ]
    }
   ],
   "source": [
    "# print images\n",
    "imshow(torchvision.utils.make_grid(images))\n",
    "print('GroundTruth: ', ' '.join('%5s' % classes[labels[j]] for j in range(batch_size_test)))"
   ]
  },
  {
   "cell_type": "markdown",
   "metadata": {},
   "source": [
    "Then see what the network predicts that they are:"
   ]
  },
  {
   "cell_type": "code",
   "execution_count": 43,
   "metadata": {},
   "outputs": [],
   "source": [
    "outputs = net(images)"
   ]
  },
  {
   "cell_type": "code",
   "execution_count": 44,
   "metadata": {},
   "outputs": [
    {
     "name": "stdout",
     "output_type": "stream",
     "text": [
      "Predicted:    FRI   FRI  FRII   FRI  FRII  FRII  FRII  FRII  FRII  FRII   FRI  FRII  FRII   FRI  FRII  FRII  FRII  FRII  FRII   FRI  FRII   FRI   FRI   FRI   FRI  FRII  FRII  FRII  FRII   FRI  FRII   FRI\n"
     ]
    }
   ],
   "source": [
    "_, predicted = torch.max(outputs, 1)\n",
    "print('Predicted: ', ' '.join('%5s' % classes[predicted[j]] for j in range(batch_size_test)))"
   ]
  },
  {
   "cell_type": "markdown",
   "metadata": {},
   "source": [
    "Now calculate the overall accuracy of the network on **all** the test images:"
   ]
  },
  {
   "cell_type": "code",
   "execution_count": 45,
   "metadata": {},
   "outputs": [
    {
     "name": "stdout",
     "output_type": "stream",
     "text": [
      "Accuracy of the network on the 50 test images: 90 %\n"
     ]
    }
   ],
   "source": [
    "correct = 0\n",
    "total = 0\n",
    "with torch.no_grad():\n",
    "    for data in testloader:\n",
    "        images, labels = data\n",
    "        outputs = net.forward(images)\n",
    "        _, predicted = torch.max(outputs.data, 1)\n",
    "        total += labels.size(0)\n",
    "        correct += (predicted == labels).sum().item()\n",
    "\n",
    "print('Accuracy of the network on the 50 test images: %d %%' % (100 * correct / total))"
   ]
  },
  {
   "cell_type": "markdown",
   "metadata": {},
   "source": [
    "This is a imbalanced dataset, so let's take a look at the accuracy for individual classes:"
   ]
  },
  {
   "cell_type": "code",
   "execution_count": 46,
   "metadata": {},
   "outputs": [],
   "source": [
    "class_correct = list(0. for i in range(2))\n",
    "class_total = list(0. for i in range(2))\n",
    "\n",
    "with torch.no_grad():\n",
    "    for data in testloader:\n",
    "        images, labels = data\n",
    "        outputs = net.forward(images)\n",
    "        _, predicted = torch.max(outputs, 1)\n",
    "        c = (predicted == labels).squeeze()\n",
    "        for i in range(len(labels)):\n",
    "            #print(i)\n",
    "            #print(labels.shape)\n",
    "            #print(labels[i])\n",
    "            label = labels[i]\n",
    "            class_correct[label] += c[i].item()\n",
    "            class_total[label] += 1\n"
   ]
  },
  {
   "cell_type": "code",
   "execution_count": 47,
   "metadata": {},
   "outputs": [
    {
     "name": "stdout",
     "output_type": "stream",
     "text": [
      "Accuracy of   FRI : 86 %\n",
      "Accuracy of  FRII : 96 %\n"
     ]
    }
   ],
   "source": [
    "for i in range(len(classes)):\n",
    "    print('Accuracy of %5s : %2d %%' % (classes[i], 100 * class_correct[i] / class_total[i]))"
   ]
  },
  {
   "cell_type": "markdown",
   "metadata": {},
   "source": [
    "----"
   ]
  },
  {
   "cell_type": "markdown",
   "metadata": {},
   "source": [
    "These next cells are adapted from the visualise_attention and visualise_fmaps python scripts in the sononet github repo."
   ]
  },
  {
   "cell_type": "code",
   "execution_count": 74,
   "metadata": {},
   "outputs": [],
   "source": [
    "dataloader = torch.utils.data.DataLoader(trainset, batch_size=1, shuffle=True, num_workers=2)\n",
    "dataiter = iter(dataloader)\n",
    "images, labels = dataiter.next()"
   ]
  },
  {
   "cell_type": "code",
   "execution_count": 75,
   "metadata": {},
   "outputs": [],
   "source": [
    "with torch.no_grad():\n",
    "    for data in dataloader:\n",
    "        images, labels = data\n",
    "        outputs = net.forward(images)\n",
    "        _, predicted = torch.max(outputs, 1)\n",
    "        c = (predicted == labels).squeeze()"
   ]
  },
  {
   "cell_type": "code",
   "execution_count": 76,
   "metadata": {},
   "outputs": [],
   "source": [
    "from scipy.misc import imresize\n",
    "from skimage.transform import resize\n",
    "import matplotlib.cm as cm\n",
    "import matplotlib.pyplot as plt"
   ]
  },
  {
   "cell_type": "code",
   "execution_count": 77,
   "metadata": {},
   "outputs": [],
   "source": [
    "def plotNNFilterOverlay(input_im, units, figure_id, interp='bilinear', colormap=cm.jet, colormap_lim=None, title='', alpha=0.8):\n",
    "\n",
    "    filters = units.shape[2]\n",
    "    fig = plt.figure(figure_id, figsize=(5,5))\n",
    "    fig.clf()\n",
    "\n",
    "    for i in range(filters):\n",
    "        plt.imshow(input_im[:,:,0], interpolation=interp, cmap='gray')\n",
    "        plt.imshow(units[:,:,i], interpolation=interp, cmap=colormap, alpha=alpha)\n",
    "        plt.axis('off')\n",
    "        plt.colorbar()\n",
    "        plt.title(title, fontsize='small')\n",
    "        if colormap_lim:\n",
    "            plt.clim(colormap_lim[0],colormap_lim[1])\n",
    "\n",
    "    plt.subplots_adjust(wspace=0, hspace=0)\n",
    "    plt.tight_layout()"
   ]
  },
  {
   "cell_type": "code",
   "execution_count": 78,
   "metadata": {},
   "outputs": [],
   "source": [
    "input_img = images[0,0].numpy()\n",
    "input_img = np.expand_dims(input_img, axis=2)"
   ]
  },
  {
   "cell_type": "code",
   "execution_count": 79,
   "metadata": {},
   "outputs": [
    {
     "data": {
      "image/png": "[encoded data removed]",
      "text/plain": [
       "<Figure size 360x360 with 2 Axes>"
      ]
     },
     "metadata": {
      "needs_background": "light"
     },
     "output_type": "display_data"
    }
   ],
   "source": [
    "plotNNFilterOverlay(input_img, np.zeros_like(input_img), figure_id=0, interp='bilinear', colormap=cm.jet, title='[GT:{}|P:{}]'.format(labels.data, predicted.data),alpha=0.2)"
   ]
  },
  {
   "cell_type": "code",
   "execution_count": 80,
   "metadata": {},
   "outputs": [],
   "source": [
    "class HookBasedFeatureExtractor(nn.Module):\n",
    "    def __init__(self, submodule, layername, upscale=False):\n",
    "        super(HookBasedFeatureExtractor, self).__init__()\n",
    "\n",
    "        self.submodule = submodule\n",
    "        self.submodule.eval()\n",
    "        self.layername = layername\n",
    "        self.outputs_size = None\n",
    "        self.outputs = None\n",
    "        self.inputs = None\n",
    "        self.inputs_size = None\n",
    "        self.upscale = upscale\n",
    "\n",
    "    def get_input_array(self, m, i, o):\n",
    "        if isinstance(i, tuple):\n",
    "            self.inputs = [i[index].data.clone() for index in range(len(i))]\n",
    "            self.inputs_size = [input.size() for input in self.inputs]\n",
    "        else:\n",
    "            self.inputs = i.data.clone()\n",
    "            self.inputs_size = self.input.size()\n",
    "        #print('Input Array Size: ', self.inputs_size)\n",
    "\n",
    "    def get_output_array(self, m, i, o):\n",
    "        if isinstance(o, tuple):\n",
    "            self.outputs = [o[index].data.clone() for index in range(len(o))]\n",
    "            self.outputs_size = [output.size() for output in self.outputs]\n",
    "        else:\n",
    "            self.outputs = o.data.clone()\n",
    "            self.outputs_size = self.outputs.size()\n",
    "        #print('Output Array Size: ', self.outputs_size)\n",
    "\n",
    "    def rescale_output_array(self, newsize):\n",
    "        us = nn.Upsample(size=newsize[2:], mode='bilinear')\n",
    "        if isinstance(self.outputs, list):\n",
    "            for index in range(len(self.outputs)): self.outputs[index] = us(self.outputs[index]).data()\n",
    "        else:\n",
    "            self.outputs = us(self.outputs).data()\n",
    "\n",
    "    def forward(self, x):\n",
    "        target_layer = self.submodule._modules.get(self.layername)\n",
    "\n",
    "        # Collect the output tensor\n",
    "        h_inp = target_layer.register_forward_hook(self.get_input_array)\n",
    "        h_out = target_layer.register_forward_hook(self.get_output_array)\n",
    "        self.submodule(x)\n",
    "        h_inp.remove()\n",
    "        h_out.remove()\n",
    "\n",
    "        # Rescale the feature-map if it's required\n",
    "        if self.upscale: self.rescale_output_array(x.size())\n",
    "\n",
    "        return self.inputs, self.outputs"
   ]
  },
  {
   "cell_type": "code",
   "execution_count": 81,
   "metadata": {},
   "outputs": [],
   "source": [
    "dir_name = \"./plots\""
   ]
  },
  {
   "cell_type": "code",
   "execution_count": 1,
   "metadata": {
    "scrolled": false
   },
   "outputs": [
    {
     "ename": "NameError",
     "evalue": "name 'dataloader' is not defined",
     "output_type": "error",
     "traceback": [
      "\u001b[0;31m---------------------------------------------------------------------------\u001b[0m",
      "\u001b[0;31mNameError\u001b[0m                                 Traceback (most recent call last)",
      "\u001b[0;32m<ipython-input-1-86bc9d6e1ce6>\u001b[0m in \u001b[0;36m<module>\u001b[0;34m\u001b[0m\n\u001b[1;32m      1\u001b[0m \u001b[0;32mfor\u001b[0m \u001b[0miteration\u001b[0m \u001b[0;32min\u001b[0m \u001b[0mrange\u001b[0m\u001b[0;34m(\u001b[0m\u001b[0;36m0\u001b[0m\u001b[0;34m,\u001b[0m\u001b[0;36m1\u001b[0m\u001b[0;34m)\u001b[0m\u001b[0;34m:\u001b[0m\u001b[0;34m\u001b[0m\u001b[0;34m\u001b[0m\u001b[0m\n\u001b[1;32m      2\u001b[0m \u001b[0;34m\u001b[0m\u001b[0m\n\u001b[0;32m----> 3\u001b[0;31m     \u001b[0mdataiter\u001b[0m \u001b[0;34m=\u001b[0m \u001b[0miter\u001b[0m\u001b[0;34m(\u001b[0m\u001b[0mdataloader\u001b[0m\u001b[0;34m)\u001b[0m\u001b[0;34m\u001b[0m\u001b[0;34m\u001b[0m\u001b[0m\n\u001b[0m\u001b[1;32m      4\u001b[0m     \u001b[0mimages\u001b[0m\u001b[0;34m,\u001b[0m \u001b[0mlabels\u001b[0m \u001b[0;34m=\u001b[0m \u001b[0mdataiter\u001b[0m\u001b[0;34m.\u001b[0m\u001b[0mnext\u001b[0m\u001b[0;34m(\u001b[0m\u001b[0;34m)\u001b[0m\u001b[0;34m\u001b[0m\u001b[0;34m\u001b[0m\u001b[0m\n\u001b[1;32m      5\u001b[0m \u001b[0;34m\u001b[0m\u001b[0m\n",
      "\u001b[0;31mNameError\u001b[0m: name 'dataloader' is not defined"
     ]
    }
   ],
   "source": [
    "for iteration in range(0,1):\n",
    "    \n",
    "    dataiter = iter(dataloader)\n",
    "    images, labels = dataiter.next()\n",
    "\n",
    "    input_img = images[0,0].numpy()\n",
    "    input_img = np.expand_dims(input_img, axis=2)\n",
    "    \n",
    "    attentions=[]\n",
    "    for i in [1,2]:\n",
    "        feature_extractor = HookBasedFeatureExtractor(net, 'compatibility_score%d'%i, upscale=False)\n",
    "        imap, fmap = feature_extractor.forward(images)\n",
    "        fmap_0 = fmap[0].squeeze().permute(1,2,0).cpu().numpy()\n",
    "        fmap_size = fmap_0.shape\n",
    "\n",
    "        attention = fmap[1].squeeze().cpu().numpy()\n",
    "        \n",
    "        plt.subplot(111)\n",
    "        plt.imshow(fmap_0[:,:,32])\n",
    "        plt.show()\n",
    "        attention = attention[:, :]\n",
    "        attention = np.expand_dims(resize(attention, (input_img.shape[0], input_img.shape[1]), mode='constant', preserve_range=True), axis=2)\n",
    "        \n",
    "        plt.subplot(111)\n",
    "        plt.imshow(attention[:,:,0])\n",
    "        plt.show()\n",
    "        \n",
    "        #plotNNFilterOverlay(input_img, attention, figure_id=i, interp='bilinear', colormap=cm.jet, title='[GT:{}|P:{}] compat. {}'.format(labels, predicted,i), alpha=0.5)\n",
    "        attentions.append(attention)\n",
    "        \n",
    "    plotNNFilterOverlay(input_img, np.mean(attentions,0), figure_id=4, interp='bilinear', colormap=cm.jet, title='[GT:{}|P:{}] compat. (all)'.format(labels, predicted), alpha=0.5)\n",
    "    plt.savefig('{}/{:03d}_hm.png'.format(dir_name,iteration))\n"
   ]
  },
  {
   "cell_type": "code",
   "execution_count": 86,
   "metadata": {},
   "outputs": [
    {
     "data": {
      "image/png": "[encoded data removed]",
      "text/plain": [
       "<Figure size 360x360 with 2 Axes>"
      ]
     },
     "metadata": {
      "needs_background": "light"
     },
     "output_type": "display_data"
    }
   ],
   "source": [
    "plotNNFilterOverlay(input_img, np.mean(attentions,0), figure_id=4, interp='bilinear', colormap=cm.jet, title='[GT:{}|P:{}] compat. (all)'.format(labels, predicted), alpha=0.5)"
   ]
  },
  {
   "cell_type": "markdown",
   "metadata": {},
   "source": [
    "Note: the attention seems to be offset from the signal distribution...  not quite sure why this is. Need to read the paper again."
   ]
  },
  {
   "cell_type": "code",
   "execution_count": null,
   "metadata": {},
   "outputs": [],
   "source": []
  }
 ],
 "metadata": {
  "kernelspec": {
   "display_name": "Python 3",
   "language": "python",
   "name": "python3"
  },
  "language_info": {
   "codemirror_mode": {
    "name": "ipython",
    "version": 3
   },
   "file_extension": ".py",
   "mimetype": "text/x-python",
   "name": "python",
   "nbconvert_exporter": "python",
   "pygments_lexer": "ipython3",
   "version": "3.7.4"
  }
 },
 "nbformat": 4,
 "nbformat_minor": 2
}
