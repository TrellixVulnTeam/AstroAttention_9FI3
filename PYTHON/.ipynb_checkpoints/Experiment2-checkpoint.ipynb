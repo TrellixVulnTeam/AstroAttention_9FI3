{
 "cells": [
  {
   "cell_type": "markdown",
   "metadata": {},
   "source": [
    "# Example of Full Model Evaluation"
   ]
  },
  {
   "cell_type": "markdown",
   "metadata": {},
   "source": [
    "### Imports:"
   ]
  },
  {
   "cell_type": "code",
   "execution_count": 1,
   "metadata": {},
   "outputs": [
    {
     "name": "stdout",
     "output_type": "stream",
     "text": [
      "Utils Functions:\n",
      "\n",
      "Data Manipulation:\n",
      "\tpath_to_model(file_name)\n",
      "\tdata_call(dataset_name)\n",
      "\tdetermine_dataset(dataset,model_name) ... dataset in ['automatic','FRDEEP-F','MiraBest']\n",
      "\n",
      "Model Manipulation:\n",
      "\tload_net(model_name,device)\n",
      "\ttraining_validation(PATH,xlims=[None,None],save=False,full_path=False) ... PATH is a local title of a folder or file (within ./TrainedNetworks)\n",
      "\tprediction(dataset, net, class_groups,(device='cuda',reps='360'))\n",
      "\tevaluate(file_name,dataset='automatic')\n",
      "\n",
      "Evaluation Plots:\n",
      "\tplot_conf_mat(conf_matrix,normalised=True,n_classes=2,format_input=None,title='Confusion Matrix')\n",
      "\tplot_roc_curve(fpr,tpr,title='ROC Curve (AUC=\\{auc:.3f\\})')\n",
      "\tout_print(out)\n",
      "\n",
      "Attention Maps:\n",
      "\tattentions_func(batch_of_images, net, mean=True, device=torch.device('cpu'))\n",
      "\tattention_analysis(source, source_only=True, attention_maps=None, GradCAM=None)\n",
      "\tAttentionImagesByEpoch(sources, folder_name, net,epoch=1500, device=torch.device('cpu'))\n",
      "\tattention_epoch_plot(source_images,folder_name, logged=False, width=3, device=torch.device('cpu'))\n",
      "\n",
      "GradCAM:\n",
      "\tTo be completed.\n",
      "\n",
      "Other:\n",
      "\tmask_on_image(img, mask)\n",
      "\tSortedDataSamples(data_name, transformed=True,  rotations=1, subset='NOHYBRID')\n",
      "\tnet_name_extraction(PATH)\n",
      "\n",
      "Incomplete:\n",
      "\t- Loading from Pickled dicts\n",
      "\t- GradCAM Call for a given image\n",
      "\n"
     ]
    }
   ],
   "source": [
    "import numpy as np\n",
    "import matplotlib.pyplot as plt\n",
    "import matplotlib\n",
    "import os\n",
    "import glob\n",
    "from utils import *\n",
    "from PIL import Image\n",
    "import matplotlib.gridspec as gridspec\n",
    "from models_new import *\n",
    "functions_list()"
   ]
  },
  {
   "cell_type": "raw",
   "metadata": {},
   "source": [
    "# Weighted Mean and Error Calcuations\n",
    "recalls = [[0.85, 0.02], \n",
    "           [0.94, 0.04]]\n",
    "precision=[[0.95, 0.02], \n",
    "           [0.83, 0.04]]\n",
    "f1score = [[0.90, 0.03], \n",
    "           [0.88, 0.06]]\n",
    "\n",
    "def mean_error(values):\n",
    "    weights = []\n",
    "    mean_numerator = 0\n",
    "    mean_denomenator = 0\n",
    "    extern_numerator = 0\n",
    "    for x, dx in values:\n",
    "        weights.append(dx**(-2))\n",
    "    # Weighted Mean\n",
    "    for w, (x, dx) in zip(weights, values):\n",
    "        mean_numerator += w*x\n",
    "        mean_denomenator += w\n",
    "    mean = mean_numerator / mean_denomenator\n",
    "    # External Uncertainty\n",
    "    for w, (x, dx) in zip(weights, values):\n",
    "        extern_numerator += w*(x-mean)**2\n",
    "    extern_numerator = extern_numerator / (len(values)-1)\n",
    "    extern = np.sqrt(extern_numerator / mean_denomenator)\n",
    "    # Internal Uncertainty\n",
    "    intern = mean_denomenator**(-0.5)\n",
    "    \n",
    "    if extern>=intern:\n",
    "        return mean, extern\n",
    "    else:\n",
    "        return mean, intern\n",
    "\n",
    "print('Recalls mean:', mean_error(recalls))\n",
    "print('Precission mean:', mean_error(precision))\n",
    "print('F1Score mean:', mean_error(f1score))"
   ]
  },
  {
   "cell_type": "markdown",
   "metadata": {},
   "source": [
    "## Select Model and Data"
   ]
  },
  {
   "cell_type": "code",
   "execution_count": 2,
   "metadata": {},
   "outputs": [
    {
     "name": "stdout",
     "output_type": "stream",
     "text": [
      "PATH: TrainedNetworks/0703Exp1-std_mean_norm-MiraBestNOHYBRIDAdam-AGRadGalNetft-0.0001/25.pt\n"
     ]
    }
   ],
   "source": [
    "# Model for section 5.1\n",
    "paths = [\n",
    "    '0703Exp1-std_mean_norm-MiraBestNOUNCAdam-AGRadGalNetft-0.0001',\n",
    "    '0703Exp1-std_mean_norm-MiraBestNOHYBRIDAdam-AGRadGalNetft-0.0001',\n",
    "    '0703Exp1-std_mean_norm-FRDEEPAdam-AGRadGalNetft-0.0001'    \n",
    "]\n",
    "\n",
    "# Single example (first model)\n",
    "device = torch.device(\"cuda\" if torch.cuda.is_available() else \"cpu\")\n",
    "model_name = path_to_model(paths[1])\n",
    "nets = [load_net(model_name, device)]\n",
    "#evaluations = [evaluate(paths[1])]"
   ]
  },
  {
   "cell_type": "code",
   "execution_count": null,
   "metadata": {},
   "outputs": [
    {
     "name": "stdout",
     "output_type": "stream",
     "text": [
      "PATH: TrainedNetworks/0703Exp1-std_mean_norm-MiraBestNOUNCAdam-AGRadGalNetft-0.0001/29.pt\n",
      "PATH: TrainedNetworks/0703Exp1-std_mean_norm-MiraBestNOUNCAdam-AGRadGalNetft-0.0001\n",
      "PATH: TrainedNetworks/0703Exp1-std_mean_norm-MiraBestNOUNCAdam-AGRadGalNetft-0.0001/29.pt\n"
     ]
    },
    {
     "name": "stderr",
     "output_type": "stream",
     "text": [
      "/usr/local/anaconda-python-3.6/lib/python3.6/site-packages/torch/nn/functional.py:2479: UserWarning: Default upsampling behavior when mode=bilinear is changed to align_corners=False since 0.4.0. Please specify align_corners=True if the old behavior is desired. See the documentation of nn.Upsample for details.\n",
      "  \"See the documentation of nn.Upsample for details.\".format(mode))\n",
      "/usr/local/anaconda-python-3.6/lib/python3.6/site-packages/torch/nn/functional.py:2479: UserWarning: Default upsampling behavior when mode=bilinear is changed to align_corners=False since 0.4.0. Please specify align_corners=True if the old behavior is desired. See the documentation of nn.Upsample for details.\n",
      "  \"See the documentation of nn.Upsample for details.\".format(mode))\n",
      "/usr/local/anaconda-python-3.6/lib/python3.6/site-packages/torch/nn/functional.py:2479: UserWarning: Default upsampling behavior when mode=bilinear is changed to align_corners=False since 0.4.0. Please specify align_corners=True if the old behavior is desired. See the documentation of nn.Upsample for details.\n",
      "  \"See the documentation of nn.Upsample for details.\".format(mode))\n",
      "/usr/local/anaconda-python-3.6/lib/python3.6/site-packages/torch/nn/functional.py:2479: UserWarning: Default upsampling behavior when mode=bilinear is changed to align_corners=False since 0.4.0. Please specify align_corners=True if the old behavior is desired. See the documentation of nn.Upsample for details.\n",
      "  \"See the documentation of nn.Upsample for details.\".format(mode))\n",
      "/usr/local/anaconda-python-3.6/lib/python3.6/site-packages/torch/nn/functional.py:2479: UserWarning: Default upsampling behavior when mode=bilinear is changed to align_corners=False since 0.4.0. Please specify align_corners=True if the old behavior is desired. See the documentation of nn.Upsample for details.\n",
      "  \"See the documentation of nn.Upsample for details.\".format(mode))\n",
      "/usr/local/anaconda-python-3.6/lib/python3.6/site-packages/torch/nn/functional.py:2479: UserWarning: Default upsampling behavior when mode=bilinear is changed to align_corners=False since 0.4.0. Please specify align_corners=True if the old behavior is desired. See the documentation of nn.Upsample for details.\n",
      "  \"See the documentation of nn.Upsample for details.\".format(mode))\n",
      "/usr/local/anaconda-python-3.6/lib/python3.6/site-packages/torch/nn/functional.py:2479: UserWarning: Default upsampling behavior when mode=bilinear is changed to align_corners=False since 0.4.0. Please specify align_corners=True if the old behavior is desired. See the documentation of nn.Upsample for details.\n",
      "  \"See the documentation of nn.Upsample for details.\".format(mode))\n",
      "/usr/local/anaconda-python-3.6/lib/python3.6/site-packages/torch/nn/functional.py:2479: UserWarning: Default upsampling behavior when mode=bilinear is changed to align_corners=False since 0.4.0. Please specify align_corners=True if the old behavior is desired. See the documentation of nn.Upsample for details.\n",
      "  \"See the documentation of nn.Upsample for details.\".format(mode))\n",
      "/usr/local/anaconda-python-3.6/lib/python3.6/site-packages/torch/nn/functional.py:2479: UserWarning: Default upsampling behavior when mode=bilinear is changed to align_corners=False since 0.4.0. Please specify align_corners=True if the old behavior is desired. See the documentation of nn.Upsample for details.\n",
      "  \"See the documentation of nn.Upsample for details.\".format(mode))\n",
      "/usr/local/anaconda-python-3.6/lib/python3.6/site-packages/torch/nn/functional.py:2479: UserWarning: Default upsampling behavior when mode=bilinear is changed to align_corners=False since 0.4.0. Please specify align_corners=True if the old behavior is desired. See the documentation of nn.Upsample for details.\n",
      "  \"See the documentation of nn.Upsample for details.\".format(mode))\n"
     ]
    },
    {
     "name": "stdout",
     "output_type": "stream",
     "text": [
      "PATH: TrainedNetworks/0703Exp1-std_mean_norm-MiraBestNOHYBRIDAdam-AGRadGalNetft-0.0001/25.pt\n",
      "PATH: TrainedNetworks/0703Exp1-std_mean_norm-MiraBestNOHYBRIDAdam-AGRadGalNetft-0.0001\n",
      "PATH: TrainedNetworks/0703Exp1-std_mean_norm-MiraBestNOHYBRIDAdam-AGRadGalNetft-0.0001/25.pt\n"
     ]
    },
    {
     "name": "stderr",
     "output_type": "stream",
     "text": [
      "/usr/local/anaconda-python-3.6/lib/python3.6/site-packages/torch/nn/functional.py:2479: UserWarning: Default upsampling behavior when mode=bilinear is changed to align_corners=False since 0.4.0. Please specify align_corners=True if the old behavior is desired. See the documentation of nn.Upsample for details.\n",
      "  \"See the documentation of nn.Upsample for details.\".format(mode))\n",
      "/usr/local/anaconda-python-3.6/lib/python3.6/site-packages/torch/nn/functional.py:2479: UserWarning: Default upsampling behavior when mode=bilinear is changed to align_corners=False since 0.4.0. Please specify align_corners=True if the old behavior is desired. See the documentation of nn.Upsample for details.\n",
      "  \"See the documentation of nn.Upsample for details.\".format(mode))\n",
      "/usr/local/anaconda-python-3.6/lib/python3.6/site-packages/torch/nn/functional.py:2479: UserWarning: Default upsampling behavior when mode=bilinear is changed to align_corners=False since 0.4.0. Please specify align_corners=True if the old behavior is desired. See the documentation of nn.Upsample for details.\n",
      "  \"See the documentation of nn.Upsample for details.\".format(mode))\n",
      "/usr/local/anaconda-python-3.6/lib/python3.6/site-packages/torch/nn/functional.py:2479: UserWarning: Default upsampling behavior when mode=bilinear is changed to align_corners=False since 0.4.0. Please specify align_corners=True if the old behavior is desired. See the documentation of nn.Upsample for details.\n",
      "  \"See the documentation of nn.Upsample for details.\".format(mode))\n",
      "/usr/local/anaconda-python-3.6/lib/python3.6/site-packages/torch/nn/functional.py:2479: UserWarning: Default upsampling behavior when mode=bilinear is changed to align_corners=False since 0.4.0. Please specify align_corners=True if the old behavior is desired. See the documentation of nn.Upsample for details.\n",
      "  \"See the documentation of nn.Upsample for details.\".format(mode))\n",
      "/usr/local/anaconda-python-3.6/lib/python3.6/site-packages/torch/nn/functional.py:2479: UserWarning: Default upsampling behavior when mode=bilinear is changed to align_corners=False since 0.4.0. Please specify align_corners=True if the old behavior is desired. See the documentation of nn.Upsample for details.\n",
      "  \"See the documentation of nn.Upsample for details.\".format(mode))\n",
      "/usr/local/anaconda-python-3.6/lib/python3.6/site-packages/torch/nn/functional.py:2479: UserWarning: Default upsampling behavior when mode=bilinear is changed to align_corners=False since 0.4.0. Please specify align_corners=True if the old behavior is desired. See the documentation of nn.Upsample for details.\n",
      "  \"See the documentation of nn.Upsample for details.\".format(mode))\n",
      "/usr/local/anaconda-python-3.6/lib/python3.6/site-packages/torch/nn/functional.py:2479: UserWarning: Default upsampling behavior when mode=bilinear is changed to align_corners=False since 0.4.0. Please specify align_corners=True if the old behavior is desired. See the documentation of nn.Upsample for details.\n",
      "  \"See the documentation of nn.Upsample for details.\".format(mode))\n",
      "/usr/local/anaconda-python-3.6/lib/python3.6/site-packages/torch/nn/functional.py:2479: UserWarning: Default upsampling behavior when mode=bilinear is changed to align_corners=False since 0.4.0. Please specify align_corners=True if the old behavior is desired. See the documentation of nn.Upsample for details.\n",
      "  \"See the documentation of nn.Upsample for details.\".format(mode))\n",
      "/usr/local/anaconda-python-3.6/lib/python3.6/site-packages/torch/nn/functional.py:2479: UserWarning: Default upsampling behavior when mode=bilinear is changed to align_corners=False since 0.4.0. Please specify align_corners=True if the old behavior is desired. See the documentation of nn.Upsample for details.\n",
      "  \"See the documentation of nn.Upsample for details.\".format(mode))\n"
     ]
    },
    {
     "name": "stdout",
     "output_type": "stream",
     "text": [
      "PATH: TrainedNetworks/0703Exp1-std_mean_norm-FRDEEPAdam-AGRadGalNetft-0.0001/25.pt\n",
      "PATH: TrainedNetworks/0703Exp1-std_mean_norm-FRDEEPAdam-AGRadGalNetft-0.0001\n",
      "PATH: TrainedNetworks/0703Exp1-std_mean_norm-FRDEEPAdam-AGRadGalNetft-0.0001/25.pt\n"
     ]
    },
    {
     "name": "stderr",
     "output_type": "stream",
     "text": [
      "/usr/local/anaconda-python-3.6/lib/python3.6/site-packages/torch/nn/functional.py:2479: UserWarning: Default upsampling behavior when mode=bilinear is changed to align_corners=False since 0.4.0. Please specify align_corners=True if the old behavior is desired. See the documentation of nn.Upsample for details.\n",
      "  \"See the documentation of nn.Upsample for details.\".format(mode))\n",
      "/usr/local/anaconda-python-3.6/lib/python3.6/site-packages/torch/nn/functional.py:2479: UserWarning: Default upsampling behavior when mode=bilinear is changed to align_corners=False since 0.4.0. Please specify align_corners=True if the old behavior is desired. See the documentation of nn.Upsample for details.\n",
      "  \"See the documentation of nn.Upsample for details.\".format(mode))\n",
      "/usr/local/anaconda-python-3.6/lib/python3.6/site-packages/torch/nn/functional.py:2479: UserWarning: Default upsampling behavior when mode=bilinear is changed to align_corners=False since 0.4.0. Please specify align_corners=True if the old behavior is desired. See the documentation of nn.Upsample for details.\n",
      "  \"See the documentation of nn.Upsample for details.\".format(mode))\n",
      "/usr/local/anaconda-python-3.6/lib/python3.6/site-packages/torch/nn/functional.py:2479: UserWarning: Default upsampling behavior when mode=bilinear is changed to align_corners=False since 0.4.0. Please specify align_corners=True if the old behavior is desired. See the documentation of nn.Upsample for details.\n",
      "  \"See the documentation of nn.Upsample for details.\".format(mode))\n",
      "/usr/local/anaconda-python-3.6/lib/python3.6/site-packages/torch/nn/functional.py:2479: UserWarning: Default upsampling behavior when mode=bilinear is changed to align_corners=False since 0.4.0. Please specify align_corners=True if the old behavior is desired. See the documentation of nn.Upsample for details.\n",
      "  \"See the documentation of nn.Upsample for details.\".format(mode))\n",
      "/usr/local/anaconda-python-3.6/lib/python3.6/site-packages/torch/nn/functional.py:2479: UserWarning: Default upsampling behavior when mode=bilinear is changed to align_corners=False since 0.4.0. Please specify align_corners=True if the old behavior is desired. See the documentation of nn.Upsample for details.\n",
      "  \"See the documentation of nn.Upsample for details.\".format(mode))\n",
      "/usr/local/anaconda-python-3.6/lib/python3.6/site-packages/torch/nn/functional.py:2479: UserWarning: Default upsampling behavior when mode=bilinear is changed to align_corners=False since 0.4.0. Please specify align_corners=True if the old behavior is desired. See the documentation of nn.Upsample for details.\n",
      "  \"See the documentation of nn.Upsample for details.\".format(mode))\n"
     ]
    }
   ],
   "source": [
    "nets = []\n",
    "evaluations = []\n",
    "\n",
    "for p in paths:\n",
    "    model_name = path_to_model(p)\n",
    "    nets.append(load_net(model_name, device))\n",
    "    evaluations.append(evaluate(p,error=True))\n",
    "print(evaluations)"
   ]
  },
  {
   "cell_type": "code",
   "execution_count": null,
   "metadata": {},
   "outputs": [],
   "source": [
    "# Evaluate all three models.\n",
    "for idx, d in enumerate(['MiraBestNOUNC', 'MiraBest', 'FRDEEP']):\n",
    "    # Confusion Matrix\n",
    "    out = evaluations[idx]\n",
    "    net = nets[idx]\n",
    "    print(f'---------------->\\t{d}')\n",
    "    out_print(out)\n",
    "    \n",
    "    # Show Training Losses\n",
    "    #training_validation(paths[idx]+'_Lossess')\n",
    "    \n",
    "    # Confusion Matrix\n",
    "    confusion = np.asarray([out[6],out[8],out[7],out[9]]).reshape(2,2)\n",
    "    plot_conf_mat(confusion,\n",
    "                  normalised=True,\n",
    "                  n_classes=2,\n",
    "                  format_input=None,\n",
    "                  title=d)\n",
    "    #plot_conf_mat(confusion)\n",
    "\n",
    "    # ROC Curve\n",
    "    fpr, tpr = out[-3:-1]\n",
    "    plot_roc_curve(fpr, tpr)"
   ]
  },
  {
   "cell_type": "markdown",
   "metadata": {},
   "source": [
    "## Consider the Sources:"
   ]
  },
  {
   "cell_type": "code",
   "execution_count": null,
   "metadata": {},
   "outputs": [],
   "source": [
    "# Data Selection\n",
    "test_data, out_data = data_call('MiraBest', dataloader=False)\n",
    "data = out_data\n",
    "outset = data.data.squeeze()\n",
    "classes = ['FRI','FRII']\n",
    "\n",
    "# Selected due to obvious classification of respective sources\n",
    "fri_np = outset[8]\n",
    "frii_np= outset[92]\n",
    "\n",
    "# Show the sources\n",
    "plt.figure(figsize=(12,10))\n",
    "plt.subplot(121)\n",
    "plt.imshow(fri_np, cmap='Greys_r') #Certain FRI Example\n",
    "plt.contour(fri_np)\n",
    "plt.title(f'Example FRI in Test Set')\n",
    "plt.xticks([])\n",
    "plt.yticks([])\n",
    "\n",
    "plt.subplot(122)\n",
    "plt.imshow(frii_np, cmap = 'Greys_r') #Certain FRII Example\n",
    "plt.contour(frii_np)\n",
    "plt.title(f'Example FRII Sample in Test Set')\n",
    "plt.xticks([])\n",
    "plt.yticks([])\n",
    "\n",
    "plt.show()"
   ]
  },
  {
   "cell_type": "code",
   "execution_count": null,
   "metadata": {},
   "outputs": [],
   "source": [
    "# Transform images into valid input (must be tensor of given size on same device as model etc.)\n",
    "fri = torch.from_numpy(fri_np ).view(1,1,150,150).float().to(device)\n",
    "frii= torch.from_numpy(frii_np).view(1,1,150,150).float().to(device)\n",
    "sources = [fri, frii]"
   ]
  },
  {
   "cell_type": "markdown",
   "metadata": {},
   "source": [
    "# Attention Plots for Example Sources"
   ]
  },
  {
   "cell_type": "code",
   "execution_count": null,
   "metadata": {},
   "outputs": [],
   "source": [
    "# Evaluate Attention Maps for MiraBest (NOHYBRID) variant:\n",
    "net = nets[0]\n",
    "#out = evaluations[0]"
   ]
  },
  {
   "cell_type": "code",
   "execution_count": null,
   "metadata": {},
   "outputs": [],
   "source": [
    "# Plot the ATTENTION MAPS that the network uses to classify\n",
    "layer_no=3\n",
    "#cmap_name = 'brg'\n",
    "cmap_name = 'nipy_spectral'\n",
    "#cmap_name = 'plasma'\n",
    "#cmap_name = 'jet'\n",
    "cmap_name='magma'\n",
    "\n",
    "fig, axs = plt.subplots(1, len(sources), figsize=(12.8,9))\n",
    "amaps = []\n",
    "for idx, source in enumerate(sources):\n",
    "    ax = axs[idx]\n",
    "    amap, original = attentions_func(source, net, mean=True, device=device, layer_name_base='attention', layer_no=layer_no)\n",
    "    amaps.append(amap)\n",
    "    img = mask_on_image(source, amap, cmap_name=cmap_name)\n",
    "    ax.imshow(img)\n",
    "    ax.set_title(f'Certain {classes[idx]}')\n",
    "    ax.set_xticks([])\n",
    "    ax.set_yticks([])\n",
    "plt.show()"
   ]
  },
  {
   "cell_type": "code",
   "execution_count": null,
   "metadata": {},
   "outputs": [],
   "source": [
    "fig, axs = plt.subplots(layer_no, len(sources), figsize=(len(sources*5), layer_no*5))\n",
    "for idx, source in enumerate(sources):\n",
    "    amap, original = attentions_func(source, net, mean=True, device=device, layer_name_base='attention', layer_no=layer_no)\n",
    "    for row in range(layer_no):\n",
    "        ax = axs[row, idx]    \n",
    "        #img = ax.imshow(amaps[idx].squeeze(), cmap='gnuplot')\n",
    "        img = ax.imshow(original[row].squeeze(), cmap=cmap_name)\n",
    "        fig.colorbar(img, ax=ax)\n",
    "        ax.set_title(f'Attention Map {row+1} for certain {classes[idx]}')\n",
    "        ax.set_xticks([])\n",
    "        #ax.set_yticks([])\n",
    "plt.show()"
   ]
  },
  {
   "cell_type": "raw",
   "metadata": {},
   "source": [
    "fig, axs = plt.subplots(layer_no, len(sources), figsize=(len(sources*5), layer_no*5))\n",
    "for idx, source in enumerate(sources):\n",
    "    amap, original = attentions_func(source, net, mean=True, device=device, layer_name_base='attention', layer_no=layer_no)\n",
    "    for row in range(layer_no):\n",
    "        ax = axs[row, idx]    \n",
    "        #img = ax.imshow(amaps[idx].squeeze(), cmap='gnuplot')\n",
    "        img = ax.imshow(np.log(original[row].squeeze()), cmap=cmap_name)\n",
    "        fig.colorbar(img, ax=ax)\n",
    "        ax.set_title(f'Attention Map {row+1} for certain {classes[idx]}')\n",
    "        ax.set_xticks([])\n",
    "        #ax.set_yticks([])\n",
    "plt.show()"
   ]
  },
  {
   "cell_type": "markdown",
   "metadata": {},
   "source": [
    "# Attention Plot for Selection of Sources by Epoch"
   ]
  },
  {
   "cell_type": "raw",
   "metadata": {},
   "source": [
    "for idx, img in enumerate(data.data.squeeze()):\n",
    "    MiraBest_label = data.targets[idx]\n",
    "    label = (0 if MiraBest_label in [0,1,2,3,4] else 1)\n",
    "    img_torch = torch.from_numpy(img).view(1,1,150,150).float().to(device)\n",
    "    pred = net(img_torch).detach().cpu().numpy().squeeze()[0]\n",
    "    amap, original = attentions_func(img_torch, net, mean=True, device=device, layer_name_base='attention', layer_no=layer_no)\n",
    "    \n",
    "    plt.figure(figsize=(12,9))\n",
    "    plt.subplot(121)\n",
    "    plt.imshow(img, cmap = 'Greys_r')\n",
    "    plt.title(f'Prediction:{int(pred)}; Label: {label}({data.targets[idx]}) (no.:{idx})')\n",
    "    plt.axis('off')\n",
    "    #plt.colorbar()\n",
    "    \n",
    "    plt.subplot(122)\n",
    "    plt.imshow(amap.squeeze(), cmap=cmap_name)\n",
    "    plt.title(f'No:{idx}; Prediction:{int(pred)}; Label: {label}({data.targets[idx]})')\n",
    "    plt.axis('off')\n",
    "    #plt.colorbar()\n",
    "    \n",
    "    plt.show()"
   ]
  },
  {
   "cell_type": "code",
   "execution_count": null,
   "metadata": {},
   "outputs": [],
   "source": [
    "#folder_name = \"TrainedNetworks/0703Exp1-std_mean_norm-MiraBestNOHYBRIDAdam-AGRadGalNetft-0.0001\"\n",
    "sources = []\n",
    "allowed_sources = [0,1,2,3,4,8,92,93,94,95,96]\n",
    "for idx, img in enumerate(data.data):\n",
    "    if idx in allowed_sources:\n",
    "        if idx==0:\n",
    "            sources = torch.Tensor(img).view(-1,1,150,150)\n",
    "        else:\n",
    "            sources = torch.cat((sources, torch.Tensor(img).view(-1,1,150,150)), dim=0)\n",
    "\n",
    "#AttentionImagesByEpoch(sources,'TrainedNetworks/'+paths[1],net,epoch=1500,device=device)\n",
    "attention_epoch_plot(\n",
    "    sources,\n",
    "    paths[1],\n",
    "    width=100,\n",
    "    device=device,\n",
    "    layer_name_base='attention',\n",
    "    layer_no=layer_no\n",
    ")"
   ]
  },
  {
   "cell_type": "markdown",
   "metadata": {},
   "source": [
    "# Temp"
   ]
  },
  {
   "cell_type": "raw",
   "metadata": {
    "jupyter": {
     "outputs_hidden": true
    }
   },
   "source": [
    "predicted, predicted_prob, labels = prediction('MiraBest', net, [[0,1,2,3,4],[5,6,7]], device=device, reps=180)"
   ]
  },
  {
   "cell_type": "raw",
   "metadata": {},
   "source": [
    "no_bins = 50\n",
    "\n",
    "plt.figure(figsize=(20,10))\n",
    "#plt.subplot(121)\n",
    "#plt.hist(predicted, no_bins)\n",
    "#plt.title('predicted')\n",
    "\n",
    "#plt.subplot(122)\n",
    "plt.hist(predicted_prob, no_bins)\n",
    "plt.title('predicted_prob [i.e. softmax(probability)]')\n",
    "plt.show()"
   ]
  },
  {
   "cell_type": "markdown",
   "metadata": {},
   "source": [
    "## Show GradCAM"
   ]
  },
  {
   "cell_type": "markdown",
   "metadata": {},
   "source": [
    "### "
   ]
  },
  {
   "cell_type": "code",
   "execution_count": null,
   "metadata": {},
   "outputs": [],
   "source": []
  }
 ],
 "metadata": {
  "kernelspec": {
   "display_name": "Python 3",
   "language": "python",
   "name": "python3"
  },
  "language_info": {
   "codemirror_mode": {
    "name": "ipython",
    "version": 3
   },
   "file_extension": ".py",
   "mimetype": "text/x-python",
   "name": "python",
   "nbconvert_exporter": "python",
   "pygments_lexer": "ipython3",
   "version": "3.6.9"
  }
 },
 "nbformat": 4,
 "nbformat_minor": 4
}
