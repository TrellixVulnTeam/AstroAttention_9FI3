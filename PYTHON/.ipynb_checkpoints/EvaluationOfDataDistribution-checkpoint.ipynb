{
 "cells": [
  {
   "cell_type": "markdown",
   "metadata": {},
   "source": [
    "# Evaluation of Pre-Trained Model\n",
    "Load in a model(s) of your choice and evaluate."
   ]
  },
  {
   "cell_type": "markdown",
   "metadata": {},
   "source": [
    "## Imports"
   ]
  },
  {
   "cell_type": "code",
   "execution_count": 1,
   "metadata": {},
   "outputs": [],
   "source": [
    "#basics\n",
    "import numpy as np\n",
    "import matplotlib.pyplot as plt\n",
    "\n",
    "#PyTorch\n",
    "import torch\n",
    "import torch.nn as nn\n",
    "import torch.nn.functional as F\n",
    "import torch.optim as optim\n",
    "from torch.utils.data import SubsetRandomSampler\n",
    "\n",
    "#Torchvision\n",
    "import torchvision\n",
    "from torchvision import transforms, datasets\n",
    "\n",
    "#Data\n",
    "from FRDEEP import FRDEEPF\n",
    "\n",
    "#My Functions / Models\n",
    "from models_new import *\n",
    "#from evaluations import *\n",
    "\n",
    "#Other\n",
    "import PIL\n",
    "from torchsummary import summary\n",
    "from models.networks_other import init_weights"
   ]
  },
  {
   "cell_type": "markdown",
   "metadata": {},
   "source": [
    "## Load Model(s?)"
   ]
  },
  {
   "cell_type": "code",
   "execution_count": 2,
   "metadata": {},
   "outputs": [
    {
     "name": "stdout",
     "output_type": "stream",
     "text": [
      "Device to be used:\t>> cuda\n"
     ]
    },
    {
     "name": "stderr",
     "output_type": "stream",
     "text": [
      "/raid/scratch/mbowles/Attention-MSc/PYTHON/models/networks_other.py:42: UserWarning: nn.init.kaiming_normal is now deprecated in favor of nn.init.kaiming_normal_.\n",
      "  init.kaiming_normal(m.weight.data, a=0, mode='fan_in')\n",
      "/raid/scratch/mbowles/Attention-MSc/PYTHON/models_new/playground_v0.py:178: UserWarning: nn.init.constant is now deprecated in favor of nn.init.constant_.\n",
      "  nn.init.constant(self.psi.bias.data, 10.0) # Initialises the tensor self.psi.bias.data with values of 10.0 (Because bias=True in initialisation)\n"
     ]
    }
   ],
   "source": [
    "#Check which device is available\n",
    "device = torch.device(\"cuda\" if torch.cuda.is_available() else \"cpu\")\n",
    "#device = \"cpu\" #while running other code on cuda\n",
    "print(f\"Device to be used:\\t>> {device}\")\n",
    "\n",
    "#######################\n",
    "### SELECT NETWORK: ###\n",
    "#######################\n",
    "net = playground(); net_name = 'playground'\n",
    "#net = playgoundv1(); net_name = 'playgroundv1'\n",
    "#net = transfer_original(); net_name = 'transfer_original'\n",
    "#net = AGSononet(); net_name = 'AGSononet'\n",
    "#net = AGTransfer(); net_name = 'AGTransfer'\n",
    "\n",
    "\n",
    "# Put network on device defined previously.\n",
    "net = net.to(device)"
   ]
  },
  {
   "cell_type": "markdown",
   "metadata": {},
   "source": [
    "Define which model should be read in:\n",
    "\n",
    "(Convention based, Custom Name or Best so far)"
   ]
  },
  {
   "cell_type": "code",
   "execution_count": 3,
   "metadata": {},
   "outputs": [],
   "source": [
    "#Parameters of Trained Network:\n",
    "date = '0207' #format: mmdd\n",
    "lr = 0.1\n",
    "Epoch = 360\n",
    "\n",
    "#Best So Far:\n",
    "use_best = True\n",
    "best_network_name = 'playground-0211-0.1_180Epochs'\n",
    "#best_network_name = 'playgroundv1-0214-0.001_360Epochs'\n",
    "\n",
    "#Custom Name:\n",
    "use_name = False\n",
    "custom_file_name = 'playground-0211-0.1_180Epochs'"
   ]
  },
  {
   "cell_type": "code",
   "execution_count": 4,
   "metadata": {
    "scrolled": true
   },
   "outputs": [
    {
     "name": "stdout",
     "output_type": "stream",
     "text": [
      "Designated Model:\t>> playground-0211-0.1_180Epochs.pt\n"
     ]
    }
   ],
   "source": [
    "#Select the defined file name (and lets us know if the wrong network has been selected for the defined model)\n",
    "if use_name:\n",
    "    ckpt_name = custom_file_name+'.pt'\n",
    "elif use_best:\n",
    "    ckpt_name = best_network_name+'.pt'\n",
    "    if (ckpt_name[:5] != net_name[:5]):\n",
    "        raise NameError(\"Network and 'best so far' model (selected file) do not match!\")\n",
    "else:\n",
    "    ckpt_name = f'{net_name}-{date}-{lr}_{Epoch}Epochs.pt'\n",
    "    if (ckpt_name[:5] != net_name[:5]):\n",
    "        raise NameError(\"Network and 'custom name' for model (selected file) do not match!\")\n",
    "\n",
    "print(f\"\"\"Designated Model:\\t>> {ckpt_name}\"\"\")"
   ]
  },
  {
   "cell_type": "code",
   "execution_count": 5,
   "metadata": {
    "scrolled": true
   },
   "outputs": [
    {
     "data": {
      "text/plain": [
       "<All keys matched successfully>"
      ]
     },
     "execution_count": 5,
     "metadata": {},
     "output_type": "execute_result"
    }
   ],
   "source": [
    "net.load_state_dict(torch.load(f'TrainedNetworks/{ckpt_name}'))"
   ]
  },
  {
   "cell_type": "markdown",
   "metadata": {},
   "source": [
    "## Importing Data"
   ]
  },
  {
   "cell_type": "code",
   "execution_count": 6,
   "metadata": {},
   "outputs": [],
   "source": [
    "test_transform = transforms.Compose([transforms.RandomRotation([0,360],resample=PIL.Image.BILINEAR),\n",
    "                                      transforms.ToTensor(),\n",
    "                                      transforms.Normalize([0.5],[0.5])\n",
    "                                     ])\n",
    "out_transform = transforms.Compose([transforms.ToTensor(),\n",
    "                                     transforms.Normalize([0.5],[0.5])\n",
    "                                    ])\n",
    "train_transform = transforms.Compose([transforms.RandomRotation([0,360],resample=PIL.Image.BILINEAR),\n",
    "                                      transforms.ToTensor(),\n",
    "                                      transforms.Normalize([0.5],[0.5])\n",
    "                                     ])\n",
    "#Reminder to try transformations different for each data set, eg:\n",
    "#transformtrain = transforms.Compose([transforms.ToTensor()])\n",
    "#transformtest = transforms.Compose([transforms.ToTensor()])"
   ]
  },
  {
   "cell_type": "code",
   "execution_count": 7,
   "metadata": {},
   "outputs": [],
   "source": [
    "def Sampler(trainset, valid_size = 0.):\n",
    "    # obtain training indices that will be used for validation\n",
    "    num_train = len(trainset)\n",
    "    indices = list(range(num_train))\n",
    "    np.random.shuffle(indices)\n",
    "    split = int(np.floor(valid_size * num_train))\n",
    "    train_idx, valid_idx = indices[split:], indices[:split]\n",
    "\n",
    "    train_sampler = SubsetRandomSampler(train_idx)\n",
    "    valid_sampler = SubsetRandomSampler(valid_idx)\n",
    "    \n",
    "    return (train_sampler, valid_sampler)"
   ]
  },
  {
   "cell_type": "code",
   "execution_count": 8,
   "metadata": {},
   "outputs": [
    {
     "name": "stdout",
     "output_type": "stream",
     "text": [
      "Files already downloaded and verified\n",
      "Files already downloaded and verified\n",
      "Files already downloaded and verified\n",
      "550 samples in the traindata: traindata.shape: 1,torch.Size([1, 150, 150])\n",
      "50 samples in the testdata: testdata.shape: 1,torch.Size([1, 150, 150])\n",
      "50 samples in the outdata: outdata.shape: 1,torch.Size([1, 150, 150])\n"
     ]
    }
   ],
   "source": [
    "#traindata = datasets.MNIST('', train = True, download = True, transform=transform)\n",
    "#testdata = datasets.MNIST('', train = False, download = True, transform = transform)\n",
    "\n",
    "traindata = FRDEEPF(root='./FIRST_data', train=True, download=True, transform=train_transform)\n",
    "testdata = FRDEEPF(root='./FIRST_data', train=False, download=True, transform=test_transform)\n",
    "outdata = FRDEEPF(root='./FIRST_data', train=False, download=True, transform=out_transform)\n",
    "\n",
    "\n",
    "counter=0\n",
    "for data in traindata:\n",
    "    counter+=1\n",
    "print(f'{counter} samples in the traindata: traindata.shape: {data[1]},{data[0].shape}')\n",
    "\n",
    "counter=0\n",
    "for data in testdata:\n",
    "    counter+=1\n",
    "print(f'{counter} samples in the testdata: testdata.shape: {data[1]},{data[0].shape}')\n",
    "\n",
    "counter=0\n",
    "for data in outdata:\n",
    "    counter+=1\n",
    "print(f'{counter} samples in the outdata: outdata.shape: {data[1]},{data[0].shape}')\n"
   ]
  },
  {
   "cell_type": "code",
   "execution_count": 9,
   "metadata": {},
   "outputs": [],
   "source": [
    "batch_size = 16\n",
    "valid_size = 0.2\n",
    "train_sampler,valid_sampler = Sampler(traindata, valid_size=valid_size)\n",
    "\n",
    "outset = torch.utils.data.DataLoader(outdata, batch_size=batch_size)\n",
    "trainset = torch.utils.data.DataLoader(traindata, batch_size=batch_size, sampler=train_sampler)\n",
    "validset = torch.utils.data.DataLoader(traindata, batch_size=batch_size, sampler=valid_sampler)\n",
    "testset = torch.utils.data.DataLoader(testdata, batch_size=batch_size, shuffle=True)"
   ]
  },
  {
   "cell_type": "code",
   "execution_count": 10,
   "metadata": {},
   "outputs": [
    {
     "data": {
      "image/png": "[encoded data removed]",
      "text/plain": [
       "<Figure size 432x288 with 1 Axes>"
      ]
     },
     "metadata": {
      "needs_background": "light"
     },
     "output_type": "display_data"
    }
   ],
   "source": [
    "# Helpful dimensionality visualisation on input values.\n",
    "for batch in outset:\n",
    "    plt.imshow(batch[0][0].view(150,150),cmap='gray')\n",
    "    break\n",
    "#testdata = torch.randn(1,1,150,150)\n",
    "#plt.imshow(testdata[0][0].view(150,150))"
   ]
  },
  {
   "cell_type": "markdown",
   "metadata": {},
   "source": [
    "## Evaluation"
   ]
  },
  {
   "cell_type": "code",
   "execution_count": 11,
   "metadata": {},
   "outputs": [
    {
     "name": "stderr",
     "output_type": "stream",
     "text": [
      "/usr/local/anaconda-python-3.6/lib/python3.6/site-packages/torch/nn/functional.py:2390: UserWarning: nn.functional.upsample is deprecated. Use nn.functional.interpolate instead.\n",
      "  warnings.warn(\"nn.functional.upsample is deprecated. Use nn.functional.interpolate instead.\")\n",
      "/usr/local/anaconda-python-3.6/lib/python3.6/site-packages/torch/nn/functional.py:2479: UserWarning: Default upsampling behavior when mode=bilinear is changed to align_corners=False since 0.4.0. Please specify align_corners=True if the old behavior is desired. See the documentation of nn.Upsample for details.\n",
      "  \"See the documentation of nn.Upsample for details.\".format(mode))\n"
     ]
    },
    {
     "name": "stdout",
     "output_type": "stream",
     "text": [
      "Accuracy of Model on test set: 89.7% (16150 out of 18000)\n",
      "\n"
     ]
    }
   ],
   "source": [
    "#import ignite.metrics\n",
    "classes = ['FRI','FRII']\n",
    "conf_mat = np.zeros((2,2))\n",
    "correct , total = 0 , 0\n",
    "net.eval()\n",
    "test_results = 0 #forces an except for first iteration.\n",
    "\n",
    "for epoch_count in range(Epoch):\n",
    "    with torch.no_grad():\n",
    "        for data in testset:\n",
    "            X , y = data\n",
    "            X, y = X.to(device), y.to(device)\n",
    "            output = net.forward(X)\n",
    "            \n",
    "            try:\n",
    "                test_results = np.append(test_results,torch.argmax(output,1).cpu().numpy(),axis=0)\n",
    "                test_labels  = np.append(test_labels,y.cpu().numpy(),axis=0)\n",
    "                test_raw_results = np.append(test_raw_results,output.cpu().numpy(),axis=0)\n",
    "            except:\n",
    "                test_results = torch.argmax(output,axis=1).cpu().numpy()\n",
    "                test_labels  = y.cpu().numpy()\n",
    "                test_raw_results = output.cpu().numpy()\n",
    "                #print(f'y={y.shape}{y}\\n output={output.cpu().numpy().shape}{output}\\n output_saved={test_results.shape}{test_results}')\n",
    "                #print('\\n\\ny\\tsaved\\tout')\n",
    "                #for i in range(int(y.cpu().numpy().shape[0])):\n",
    "                #    print(f'{y[i]}\\t{test_results[i]}\\t{output.cpu().numpy()[i]}\\t{test_raw_results[i]}\\n')\n",
    "                \n",
    "            for idx, i in enumerate(output):\n",
    "                conf_mat[y[idx],int(torch.argmax(i))]+=1\n",
    "\n",
    "accuracy = (conf_mat[0,0]+conf_mat[1,1])/conf_mat.sum()*100\n",
    "total = int(conf_mat.sum())\n",
    "correct = int(conf_mat[0,0]+conf_mat[1,1])\n",
    "print(f\"Accuracy of Model on test set: {accuracy:.1f}% ({correct} out of {total})\\n\")"
   ]
  },
  {
   "cell_type": "code",
   "execution_count": 12,
   "metadata": {},
   "outputs": [
    {
     "name": "stdout",
     "output_type": "stream",
     "text": [
      "Normalised Classification Values \\elem[0,1]:\n",
      "      \tMax:\t1.0\n",
      "      \tMin:\t0.0573788583278656\n",
      "      \tCount:\t(18000,)\n"
     ]
    }
   ],
   "source": [
    "#print(test_results,test_results.shape)\n",
    "#print(test_raw_results.shape)\n",
    "\n",
    "temp = test_raw_results[:,1]-test_raw_results[:,0]\n",
    "final2 = ((-test_raw_results[:,0]+test_raw_results[:,1])/max(temp.max(),-temp.min())+1)/2\n",
    "\n",
    "test_adapted_results = (temp/max(temp.max(),-temp.min())+1)/2\n",
    "\n",
    "print(f\"\"\"Normalised Classification Values \\elem[0,1]:\n",
    "      \\tMax:\\t{test_adapted_results.max()}\n",
    "      \\tMin:\\t{test_adapted_results.min()}\n",
    "      \\tCount:\\t{test_adapted_results.shape}\"\"\")"
   ]
  },
  {
   "cell_type": "code",
   "execution_count": 13,
   "metadata": {},
   "outputs": [
    {
     "data": {
      "image/png": "[encoded data removed]",
      "text/plain": [
       "<Figure size 1440x504 with 2 Axes>"
      ]
     },
     "metadata": {
      "needs_background": "light"
     },
     "output_type": "display_data"
    }
   ],
   "source": [
    "# Histogram of Raw Classification Values\n",
    "plt.figure(figsize=(20,7))\n",
    "plt.subplot(121)\n",
    "plt.hist(test_raw_results,bins=100,histtype='step',alpha=0.7,linewidth=4.0)\n",
    "plt.title(f'Histogram of Raw Classifications ({test_raw_results.shape[0]} Samples)')\n",
    "plt.legend(('FRI','FRII'),loc='best')\n",
    "plt.text(-3.5,550,f'FRI>FRII classifies as FRI\\nFRI<FRII classifies as FRII')\n",
    "plt.xlabel('Raw CNN Output')\n",
    "plt.ylabel('Count')\n",
    "\n",
    "plt.subplot(122)\n",
    "plt.hist(test_adapted_results,bins=100,histtype='stepfilled',alpha=0.8)\n",
    "plt.title(f'Histogram of Adapted Classifications ({test_adapted_results.shape[0]} Samples)')\n",
    "plt.xlabel('Adapted CNN Output')\n",
    "plt.ylabel('Count')\n",
    "plt.show()"
   ]
  },
  {
   "cell_type": "code",
   "execution_count": 14,
   "metadata": {},
   "outputs": [
    {
     "name": "stdout",
     "output_type": "stream",
     "text": [
      "Table 3 HM Transfer Learning Equivalent Results:\n",
      "\n",
      "\t\tFRI \tFRII\n",
      "Recall \t\t0.875 \t0.915\n",
      "Precision \t0.890\t0.903\n",
      "F1 Score \t0.8822\t0.909\n",
      "Accuracies \t87.5%\t91.5%\n",
      "\n",
      "Avg. Accuracy \t89.7%\n",
      "AUC \t\t0.960\n",
      "\n"
     ]
    }
   ],
   "source": [
    "from sklearn.metrics import roc_curve, roc_auc_score, confusion_matrix, recall_score, f1_score, precision_score\n",
    "\n",
    "fpr, tpr, thresholds = roc_curve(test_labels,test_adapted_results)\n",
    "auc = roc_auc_score(test_labels,test_adapted_results)\n",
    "confusion = confusion_matrix(test_labels,test_results)\n",
    "recall = recall_score(test_labels,test_results,average=None)\n",
    "precision = precision_score(test_labels,test_results,average=None)\n",
    "f1 = f1_score(test_labels,test_results,average=None)\n",
    "\n",
    "# Table 3 HM Transfer Learning Equivalent Results: (1903.11921.pdf)\n",
    "print(f\"\"\"Table 3 HM Transfer Learning Equivalent Results:\n",
    "\n",
    "\\t\\tFRI \\tFRII\n",
    "Recall \\t\\t{recall[0]:.3f} \\t{recall[1]:.3f}\n",
    "Precision \\t{precision[0]:.3f}\\t{precision[1]:.3f}\n",
    "F1 Score \\t{f1[0]:.4f}\\t{f1[1]:.3f}\n",
    "Accuracies \\t{confusion[0,0]/np.sum(confusion[0])*100:.1f}%\\t{confusion[1,1]/np.sum(confusion[1])*100:.1f}%\n",
    "\n",
    "Avg. Accuracy \\t{accuracy:.1f}%\n",
    "AUC \\t\\t{auc:.3f}\n",
    "\"\"\")"
   ]
  },
  {
   "cell_type": "code",
   "execution_count": 15,
   "metadata": {},
   "outputs": [
    {
     "data": {
      "image/png": "[encoded data removed]",
      "text/plain": [
       "<Figure size 720x720 with 1 Axes>"
      ]
     },
     "metadata": {
      "needs_background": "light"
     },
     "output_type": "display_data"
    }
   ],
   "source": [
    "# Confusion matrix plot for binary selection of RFI_class.... Cant acctually use it, but was really pretty...\n",
    "fig, ax =plt.subplots(figsize=(10,10))\n",
    "im = ax.imshow(confusion,cmap='Blues',extent=[0,2,0,2])\n",
    "#fig.colorbar(im)\n",
    "\n",
    "# Show all ticks\n",
    "ax.set_xticks(np.arange(len(classes)))\n",
    "ax.set_yticks(np.arange(len(classes)))\n",
    "\n",
    "# Label them with the respective list entries\n",
    "ax.set_xticklabels([classes[1],classes[0]])\n",
    "ax.set_yticklabels(classes)\n",
    "\n",
    "ax.set_xlabel('True')\n",
    "ax.set_ylabel('Predicted')\n",
    "ax.set_title(f\"Confusion Matrix of FRI and FRII ({confusion.sum()} Counts)\")\n",
    "\n",
    "#Add written out values\n",
    "plt.text(0.45,1.5,str(confusion[0,0]))\n",
    "plt.text(0.45,0.5,str(confusion[0,1]))\n",
    "plt.text(1.45,0.5,str(confusion[1,1]))\n",
    "plt.text(1.45,1.5,str(confusion[1,0]))\n",
    "plt.text(0.4,-0.05,f'Total: {confusion[0,0]+confusion[0,1]}')\n",
    "plt.text(1.4,-0.05,f'Total: {confusion[1,0]+confusion[1,1]}')\n",
    "\n",
    "# Rotate the tick labels and set their alignment.\n",
    "plt.setp(ax.get_xticklabels(), rotation=45, ha=\"right\", rotation_mode=\"anchor\")\n",
    "#fig.tight_layout()\n",
    "plt.show()"
   ]
  },
  {
   "cell_type": "code",
   "execution_count": 16,
   "metadata": {},
   "outputs": [
    {
     "data": {
      "image/png": "[encoded data removed]",
      "text/plain": [
       "<Figure size 576x576 with 1 Axes>"
      ]
     },
     "metadata": {
      "needs_background": "light"
     },
     "output_type": "display_data"
    }
   ],
   "source": [
    "plt.figure(figsize=(8,8))\n",
    "plt.plot(fpr,tpr)\n",
    "ax.set(xlim=(0, 1), ylim=(0, 1))\n",
    "plt.xlabel('False Positive Rate')\n",
    "plt.ylabel('True Positive Rate')\n",
    "plt.title(f'ROC Curve (AUC={auc:.3f})') #Receiver Operating Characteristic\n",
    "plt.show()"
   ]
  },
  {
   "cell_type": "code",
   "execution_count": null,
   "metadata": {},
   "outputs": [],
   "source": []
  }
 ],
 "metadata": {
  "kernelspec": {
   "display_name": "Python 3",
   "language": "python",
   "name": "python3"
  },
  "language_info": {
   "codemirror_mode": {
    "name": "ipython",
    "version": 3
   },
   "file_extension": ".py",
   "mimetype": "text/x-python",
   "name": "python",
   "nbconvert_exporter": "python",
   "pygments_lexer": "ipython3",
   "version": "3.6.9"
  }
 },
 "nbformat": 4,
 "nbformat_minor": 2
}
